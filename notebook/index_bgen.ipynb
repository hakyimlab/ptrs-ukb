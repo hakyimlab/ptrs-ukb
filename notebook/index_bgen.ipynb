{
 "cells": [
  {
   "cell_type": "code",
   "execution_count": 1,
   "metadata": {},
   "outputs": [],
   "source": [
    "import hail as hl"
   ]
  },
  {
   "cell_type": "code",
   "execution_count": 13,
   "metadata": {},
   "outputs": [],
   "source": [
    "bgen_file = '/vol/bmd/data/ukbiobank/genotypes/v3/ukb_imp_chr21_v3.bgen'\n",
    "index_file = './test_index_chr21.bgen.idx2'\n",
    "sample_file = '/vol/bmd/data/ukbiobank/genotypes/v3/ukb19526_imp_chr1_v3_s487395.sample'"
   ]
  },
  {
   "cell_type": "code",
   "execution_count": 4,
   "metadata": {},
   "outputs": [
    {
     "name": "stderr",
     "output_type": "stream",
     "text": [
      "Initializing Spark and Hail with default parameters...\n",
      "Running on Apache Spark version 2.4.1\n",
      "SparkUI available at http://nucleus.cels.anl.gov:4040\n",
      "Welcome to\n",
      "     __  __     <>__\n",
      "    / /_/ /__  __/ /\n",
      "   / __  / _ `/ / /\n",
      "  /_/ /_/\\_,_/_/_/   version 0.2.28-61941242c15d\n",
      "LOGGING: writing to /vol/bmd/yanyul/GitHub/ptrs-ukb/notebook/hail-20191207-1057-0.2.28-61941242c15d.log\n",
      "2019-12-07 11:08:33 Hail: INFO: Finished writing index file for file:/vol/bmd/data/ukbiobank/genotypes/v3/ukb_imp_chr21_v3.bgen\n",
      "2019-12-07 11:08:33 Hail: INFO: Number of BGEN files indexed: 1\n"
     ]
    }
   ],
   "source": [
    "hl.index_bgen(bgen_file, index_file_map = {bgen_file : index_file})"
   ]
  },
  {
   "cell_type": "code",
   "execution_count": 6,
   "metadata": {},
   "outputs": [],
   "source": [
    "import time"
   ]
  },
  {
   "cell_type": "code",
   "execution_count": 10,
   "metadata": {},
   "outputs": [],
   "source": [
    "t1 = time.time()"
   ]
  },
  {
   "cell_type": "code",
   "execution_count": 11,
   "metadata": {},
   "outputs": [
    {
     "data": {
      "text/plain": [
       "1.4351284503936768"
      ]
     },
     "execution_count": 11,
     "metadata": {},
     "output_type": "execute_result"
    }
   ],
   "source": [
    "t2 = time.time()\n",
    "t2 - t1"
   ]
  },
  {
   "cell_type": "code",
   "execution_count": 16,
   "metadata": {},
   "outputs": [
    {
     "name": "stderr",
     "output_type": "stream",
     "text": [
      "2019-12-07 11:26:57 Hail: INFO: Number of BGEN files parsed: 1\n",
      "2019-12-07 11:26:57 Hail: INFO: Number of samples in BGEN files: 487409\n",
      "2019-12-07 11:26:57 Hail: INFO: Number of variants across all BGEN files: 1261158\n"
     ]
    }
   ],
   "source": [
    "# test the index file\n",
    "mt = hl.import_bgen(bgen_file, index_file_map = {bgen_file : index_file}, entry_fields = ['GT'], sample_file = sample_file)"
   ]
  }
 ],
 "metadata": {
  "kernelspec": {
   "display_name": "Python 3",
   "language": "python",
   "name": "python3"
  },
  "language_info": {
   "codemirror_mode": {
    "name": "ipython",
    "version": 3
   },
   "file_extension": ".py",
   "mimetype": "text/x-python",
   "name": "python",
   "nbconvert_exporter": "python",
   "pygments_lexer": "ipython3",
   "version": "3.7.5"
  }
 },
 "nbformat": 4,
 "nbformat_minor": 2
}
