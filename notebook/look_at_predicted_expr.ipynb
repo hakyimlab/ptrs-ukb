{
 "cells": [
  {
   "cell_type": "code",
   "execution_count": 1,
   "metadata": {},
   "outputs": [],
   "source": [
    "import hail as hl"
   ]
  },
  {
   "cell_type": "code",
   "execution_count": 2,
   "metadata": {},
   "outputs": [],
   "source": [
    "import pandas as pd\n",
    "import h5py\n",
    "import h5py_cache\n",
    "import sys \n",
    "import numpy as np\n",
    "sys.path.insert(0, '../code/')\n",
    "from importlib import reload \n",
    "import my_hail_helper as myhelper"
   ]
  },
  {
   "cell_type": "code",
   "execution_count": 3,
   "metadata": {},
   "outputs": [],
   "source": [
    "myhelper = reload(myhelper)"
   ]
  },
  {
   "cell_type": "code",
   "execution_count": 4,
   "metadata": {},
   "outputs": [],
   "source": [
    "covar, trait = myhelper.read_and_split_phenotype_csv(\n",
    "    csv_path = '/vol/bmd/yanyul/GitHub/ptrs-ukb/output/query_phenotypes_cleaned_up.csv',\n",
    "    pheno_names = 'ht,meaning',\n",
    "    covar_names = 'pc1',\n",
    "    indiv_id = 'eid',\n",
    "    int_names = None,\n",
    "    str_names = 'meaning,eid'\n",
    ")"
   ]
  },
  {
   "cell_type": "code",
   "execution_count": 5,
   "metadata": {},
   "outputs": [],
   "source": [
    "indiv_list = myhelper.read_indiv_list('/vol/bmd/yanyul/GitHub/ptrs-ukb/output/data_split/British-test-1.txt')"
   ]
  },
  {
   "cell_type": "code",
   "execution_count": 6,
   "metadata": {},
   "outputs": [],
   "source": [
    "trait_sub = myhelper.subset_by_col(trait, 'eid', indiv_list)"
   ]
  },
  {
   "cell_type": "code",
   "execution_count": 7,
   "metadata": {},
   "outputs": [],
   "source": [
    "indiv_in_sub_table = np.array(trait_sub['eid'].to_list()).astype('S10')"
   ]
  },
  {
   "cell_type": "code",
   "execution_count": 8,
   "metadata": {},
   "outputs": [],
   "source": [
    "HDF5_CACHE = int(60 * (1024 ** 2))\n",
    "f = h5py_cache.File(\n",
    "    '/vol/bmd/yanyul/UKB/predicted_expression/predicted_expression.ukb_imp_x_ctimp_Whole_Blood.h5', \n",
    "    'r', \n",
    "    chunk_cache_mem_size = HDF5_CACHE, \n",
    "    w0 = 1.0, \n",
    "    dtype = 'float32'\n",
    ")"
   ]
  },
  {
   "cell_type": "code",
   "execution_count": 9,
   "metadata": {},
   "outputs": [
    {
     "data": {
      "text/plain": [
       "<KeysViewHDF5 ['genes', 'pred_expr', 'samples']>"
      ]
     },
     "execution_count": 9,
     "metadata": {},
     "output_type": "execute_result"
    }
   ],
   "source": [
    "f.keys()"
   ]
  },
  {
   "cell_type": "code",
   "execution_count": 9,
   "metadata": {},
   "outputs": [],
   "source": [
    "# pred_mat = f['pred_expr']"
   ]
  },
  {
   "cell_type": "code",
   "execution_count": 10,
   "metadata": {},
   "outputs": [],
   "source": [
    "subset_idx_for_indiv_in_sub_table = np.where(np.isin(f['samples'][:], indiv_in_sub_table))"
   ]
  },
  {
   "cell_type": "code",
   "execution_count": 11,
   "metadata": {},
   "outputs": [
    {
     "data": {
      "text/plain": [
       "(5000,)"
      ]
     },
     "execution_count": 11,
     "metadata": {},
     "output_type": "execute_result"
    }
   ],
   "source": [
    "subset_idx_for_indiv_in_sub_table[0].shape"
   ]
  },
  {
   "cell_type": "code",
   "execution_count": 18,
   "metadata": {},
   "outputs": [
    {
     "data": {
      "text/plain": [
       "array([0, 5])"
      ]
     },
     "execution_count": 18,
     "metadata": {},
     "output_type": "execute_result"
    }
   ],
   "source": [
    "# f['pred_expr'][1:100].shape\n",
    "np.array([i for i in range(10)])[::5]"
   ]
  },
  {
   "cell_type": "code",
   "execution_count": null,
   "metadata": {},
   "outputs": [],
   "source": [
    "pred_mat_sub = f['pred_expr'][:, subset_idx_for_indiv_in_sub_table[0]]"
   ]
  },
  {
   "cell_type": "code",
   "execution_count": 8,
   "metadata": {},
   "outputs": [],
   "source": [
    "test = hl.Table.from_pandas(pd.DataFrame(pred_mat[1:10,1:10]))"
   ]
  },
  {
   "cell_type": "code",
   "execution_count": 9,
   "metadata": {},
   "outputs": [
    {
     "name": "stdout",
     "output_type": "stream",
     "text": [
      "----------------------------------------\n",
      "Global fields:\n",
      "    None\n",
      "----------------------------------------\n",
      "Row fields:\n",
      "    '0': float64 \n",
      "    '1': float64 \n",
      "    '2': float64 \n",
      "    '3': float64 \n",
      "    '4': float64 \n",
      "    '5': float64 \n",
      "    '6': float64 \n",
      "    '7': float64 \n",
      "    '8': float64 \n",
      "----------------------------------------\n",
      "Key: []\n",
      "----------------------------------------\n"
     ]
    }
   ],
   "source": [
    "test.describe()"
   ]
  }
 ],
 "metadata": {
  "kernelspec": {
   "display_name": "Python 3",
   "language": "python",
   "name": "python3"
  },
  "language_info": {
   "codemirror_mode": {
    "name": "ipython",
    "version": 3
   },
   "file_extension": ".py",
   "mimetype": "text/x-python",
   "name": "python",
   "nbconvert_exporter": "python",
   "pygments_lexer": "ipython3",
   "version": "3.7.5"
  }
 },
 "nbformat": 4,
 "nbformat_minor": 2
}
