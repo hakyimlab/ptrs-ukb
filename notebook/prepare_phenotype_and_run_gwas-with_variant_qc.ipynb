{
 "cells": [
  {
   "cell_type": "markdown",
   "metadata": {},
   "source": [
    "## Goal\n",
    "The main purpose of this notebook is to develope the code to read in phenotypes in desired format.\n",
    "At the end, I should wrap it up as the function."
   ]
  },
  {
   "cell_type": "code",
   "execution_count": 1,
   "metadata": {},
   "outputs": [
    {
     "name": "stderr",
     "output_type": "stream",
     "text": [
      "Running on Apache Spark version 2.4.1\n",
      "SparkUI available at http://nucleus.cels.anl.gov:4040\n",
      "Welcome to\n",
      "     __  __     <>__\n",
      "    / /_/ /__  __/ /\n",
      "   / __  / _ `/ / /\n",
      "  /_/ /_/\\_,_/_/_/   version 0.2.28-61941242c15d\n",
      "LOGGING: writing to /vol/bmd/yanyul/GitHub/ptrs-ukb/notebook/hail-20191214-1134-0.2.28-61941242c15d.log\n"
     ]
    }
   ],
   "source": [
    "import hail as hl\n",
    "hl.init()"
   ]
  },
  {
   "cell_type": "code",
   "execution_count": 2,
   "metadata": {},
   "outputs": [],
   "source": [
    "# variant qc filter first\n",
    "variant_qc_all = hl.read_table('/vol/bmd/yanyul/UKB/variant_qc/imp_all.ht')\n",
    "# variant_qc_all.count()\n",
    "variant_qc_all = variant_qc_all.filter(variant_qc_all.variant_qc.AF[0] > 0.001)\n",
    "variant_qc_all = variant_qc_all.filter(variant_qc_all.variant_qc.AF[1] > 0.001)\n",
    "variant_qc_all = variant_qc_all.filter(variant_qc_all.variant_qc.p_value_hwe > 1e-10)\n",
    "# variant_qc_all.count()"
   ]
  },
  {
   "cell_type": "code",
   "execution_count": 3,
   "metadata": {},
   "outputs": [
    {
     "name": "stderr",
     "output_type": "stream",
     "text": [
      "2019-12-14 11:34:10 Hail: INFO: Number of BGEN files parsed: 1\n",
      "2019-12-14 11:34:10 Hail: INFO: Number of samples in BGEN files: 487409\n",
      "2019-12-14 11:34:10 Hail: INFO: Number of variants across all BGEN files: 1255683\n",
      "2019-12-14 11:34:13 Hail: INFO: Number of BGEN files parsed: 1\n",
      "2019-12-14 11:34:13 Hail: INFO: Number of samples in BGEN files: 487409\n",
      "2019-12-14 11:34:13 Hail: INFO: Number of variants across all BGEN files: 1255683\n"
     ]
    }
   ],
   "source": [
    "# just to load chr22 for testing purpose\n",
    "mt = hl.import_bgen(\n",
    "    '/vol/bmd/data/ukbiobank/genotypes/v3/ukb_imp_chr22_v3.bgen',\n",
    "    entry_fields = ['dosage'],\n",
    "    index_file_map = {'/vol/bmd/data/ukbiobank/genotypes/v3/ukb_imp_chr22_v3.bgen' : '/vol/bmd/yanyul/UKB/bgen_idx/ukb_imp_chr22_v3.bgen.idx2'},\n",
    "    sample_file = '/vol/bmd/data/ukbiobank/genotypes/v3/ukb19526_imp_chr1_v3_s487395.sample', \n",
    "    variants = variant_qc_all\n",
    ")"
   ]
  },
  {
   "cell_type": "code",
   "execution_count": 4,
   "metadata": {},
   "outputs": [
    {
     "data": {
      "text/plain": [
       "(174633, 487409)"
      ]
     },
     "execution_count": 4,
     "metadata": {},
     "output_type": "execute_result"
    }
   ],
   "source": [
    "mt.count()"
   ]
  },
  {
   "cell_type": "code",
   "execution_count": 5,
   "metadata": {},
   "outputs": [],
   "source": [
    "# mt = mt.annotate_cols(eid = mt.s.replace(\"\\_\\d+\", \"\"))\n",
    "# mt = mt.key_cols_by('eid')\n",
    "# mt = mt.repartition(100)"
   ]
  },
  {
   "cell_type": "code",
   "execution_count": 6,
   "metadata": {},
   "outputs": [
    {
     "data": {
      "text/html": [
       "<table><thead style=\"font-weight: bold;\"><tr><td>s</td></tr>\n",
       "<tr><td>str</td></tr>\n",
       "</thead><tbody><tr><td>&quot;2476612&quot;</td></tr>\n",
       "<tr><td>&quot;5595764&quot;</td></tr>\n",
       "<tr><td>&quot;5172041&quot;</td></tr>\n",
       "<tr><td>&quot;3487211&quot;</td></tr>\n",
       "<tr><td>&quot;2017223&quot;</td></tr>\n",
       "<tr><td>&quot;4739315&quot;</td></tr>\n",
       "<tr><td>&quot;5014556&quot;</td></tr>\n",
       "<tr><td>&quot;4405527&quot;</td></tr>\n",
       "<tr><td>&quot;5584241&quot;</td></tr>\n",
       "<tr><td>&quot;3383945&quot;</td></tr>\n",
       "</tbody></table><p style=\"background: #fdd; padding: 0.4em;\">showing top 10 rows</p>\n"
      ],
      "text/plain": [
       "+-----------+\n",
       "| s         |\n",
       "+-----------+\n",
       "| str       |\n",
       "+-----------+\n",
       "| \"2476612\" |\n",
       "| \"5595764\" |\n",
       "| \"5172041\" |\n",
       "| \"3487211\" |\n",
       "| \"2017223\" |\n",
       "| \"4739315\" |\n",
       "| \"5014556\" |\n",
       "| \"4405527\" |\n",
       "| \"5584241\" |\n",
       "| \"3383945\" |\n",
       "+-----------+\n",
       "showing top 10 rows"
      ]
     },
     "metadata": {},
     "output_type": "display_data"
    }
   ],
   "source": [
    "mt.s.show()"
   ]
  },
  {
   "cell_type": "code",
   "execution_count": 7,
   "metadata": {},
   "outputs": [],
   "source": [
    "import pandas as pd\n",
    "import numpy as np"
   ]
  },
  {
   "cell_type": "code",
   "execution_count": 8,
   "metadata": {},
   "outputs": [],
   "source": [
    "covar_names = 'age_recruitment,sex,pc1,pc2'\n",
    "pheno_names = 'ht,mcv,mch'\n",
    "indiv_id = 'eid'\n",
    "int_names = 'age_recruitment,sex'\n",
    "str_names = 'eid'"
   ]
  },
  {
   "cell_type": "code",
   "execution_count": 9,
   "metadata": {},
   "outputs": [],
   "source": [
    "import sys \n",
    "sys.path.insert(0, '../code/')\n",
    "from importlib import reload \n",
    "\n",
    "import my_hail_helper as myhelper\n",
    "\n",
    "myhelper = reload(myhelper)"
   ]
  },
  {
   "cell_type": "code",
   "execution_count": 10,
   "metadata": {},
   "outputs": [],
   "source": [
    "covar, trait = myhelper.read_and_split_phenotype_csv(\n",
    "    '../output/query_phenotypes_cleaned_up.csv',\n",
    "    pheno_names = pheno_names,\n",
    "    covar_names = covar_names,\n",
    "    indiv_id = indiv_id,\n",
    "    int_names = int_names,\n",
    "    str_names = str_names\n",
    ")"
   ]
  },
  {
   "cell_type": "code",
   "execution_count": 11,
   "metadata": {},
   "outputs": [],
   "source": [
    "covar = covar.rename(columns = {'eid': 's'})\n",
    "trait = trait.rename(columns = {'eid': 's'})"
   ]
  },
  {
   "cell_type": "markdown",
   "metadata": {},
   "source": [
    "#### Now that we've loaded in the full covariate and trait tables\n",
    "Here we start to loop over all subsets and build the \"list of lists\" for traits."
   ]
  },
  {
   "cell_type": "code",
   "execution_count": 12,
   "metadata": {},
   "outputs": [
    {
     "name": "stderr",
     "output_type": "stream",
     "text": [
      "2019-12-14 11:34:39 Hail: INFO: Ordering unsorted dataset with network shuffle\n",
      "2019-12-14 11:34:51 Hail: INFO: Ordering unsorted dataset with network shuffle\n"
     ]
    }
   ],
   "source": [
    "subset_dic = {}\n",
    "nsubset = 2\n",
    "for subset_idx in range(1, nsubset + 1):\n",
    "    subset_indiv_list = myhelper.read_indiv_list(f'../output/data_split/British-training-{subset_idx}.txt')\n",
    "    sub_trait = myhelper.subset_by_col(trait, 's', subset_indiv_list)\n",
    "    sub_trait = myhelper.df_to_ht(sub_trait, 's')  # hl.Table.from_pandas(sub_trait, key = 's')\n",
    "#     sub_trait = sub_trait.repartition(40)\n",
    "    subset_dic[f'subset_{subset_idx}'] = sub_trait"
   ]
  },
  {
   "cell_type": "code",
   "execution_count": 13,
   "metadata": {},
   "outputs": [
    {
     "name": "stderr",
     "output_type": "stream",
     "text": [
      "2019-12-14 11:35:05 Hail: INFO: Ordering unsorted dataset with network shuffle\n"
     ]
    }
   ],
   "source": [
    "covar = myhelper.df_to_ht(covar, 's')"
   ]
  },
  {
   "cell_type": "code",
   "execution_count": 14,
   "metadata": {},
   "outputs": [
    {
     "name": "stdout",
     "output_type": "stream",
     "text": [
      "----------------------------------------\n",
      "Global fields:\n",
      "    None\n",
      "----------------------------------------\n",
      "Column fields:\n",
      "    's': str\n",
      "----------------------------------------\n",
      "Row fields:\n",
      "    'locus': locus<GRCh37>\n",
      "    'alleles': array<str>\n",
      "    'rsid': str\n",
      "    'varid': str\n",
      "----------------------------------------\n",
      "Entry fields:\n",
      "    'dosage': float64\n",
      "----------------------------------------\n",
      "Column key: ['s']\n",
      "Row key: ['locus', 'alleles']\n",
      "----------------------------------------\n"
     ]
    }
   ],
   "source": [
    "mt.describe()"
   ]
  },
  {
   "cell_type": "code",
   "execution_count": 15,
   "metadata": {},
   "outputs": [],
   "source": [
    "annot_expr_ = {\n",
    "    k : subset_dic[k][mt.s] for k in list(subset_dic.keys())\n",
    "}"
   ]
  },
  {
   "cell_type": "code",
   "execution_count": 16,
   "metadata": {},
   "outputs": [],
   "source": [
    "mt = mt.annotate_cols(**annot_expr_)\n",
    "mt = mt.annotate_cols(covariates = covar[mt.s])"
   ]
  },
  {
   "cell_type": "code",
   "execution_count": 17,
   "metadata": {},
   "outputs": [],
   "source": [
    "# prepare trait and covar into list or list of lists\n",
    "subset_list = [ [ mt[f'subset_{i}'][j] for j in mt[f'subset_{i}'] ] for i in range(1, nsubset + 1) ]\n",
    "subset_names = [ [ f'subset_{i}_x_{j}' for j in mt[f'subset_{i}'] ] for i in range(1, nsubset + 1) ]\n",
    "covar_list = [ mt.covariates[i] for i in list(mt.covariates.keys()) ]"
   ]
  },
  {
   "cell_type": "code",
   "execution_count": 18,
   "metadata": {},
   "outputs": [
    {
     "name": "stderr",
     "output_type": "stream",
     "text": [
      "2019-12-14 11:35:20 Hail: WARN: 140933 of 487409 samples have a missing phenotype or covariate.\n",
      "2019-12-14 11:35:20 Hail: WARN: 140933 of 487409 samples have a missing phenotype or covariate.\n",
      "2019-12-14 11:35:20 Hail: INFO: linear_regression_rows[0]: running on 346476 samples for 3 response variables y,\n",
      "    with input variable x, and 5 additional covariates...\n",
      "2019-12-14 11:35:21 Hail: INFO: linear_regression_rows[1]: running on 346476 samples for 3 response variables y,\n",
      "    with input variable x, and 5 additional covariates...\n"
     ]
    }
   ],
   "source": [
    "gwas_out = hl.linear_regression_rows(\n",
    "    y = subset_list,\n",
    "    x = mt.dosage,\n",
    "    covariates = [1] + covar_list,\n",
    "    pass_through = ['varid', 'rsid']\n",
    ")"
   ]
  },
  {
   "cell_type": "code",
   "execution_count": 19,
   "metadata": {},
   "outputs": [
    {
     "name": "stdout",
     "output_type": "stream",
     "text": [
      "----------------------------------------\n",
      "Global fields:\n",
      "    'phenotypes': array<array<str>> \n",
      "----------------------------------------\n",
      "Row fields:\n",
      "    'locus': locus<GRCh37> \n",
      "    'alleles': array<str> \n",
      "    'varid': str \n",
      "    'rsid': str \n",
      "    'n': array<int32> \n",
      "    'sum_x': array<float64> \n",
      "    'y_transpose_x': array<array<float64>> \n",
      "    'beta': array<array<float64>> \n",
      "    'standard_error': array<array<float64>> \n",
      "    't_stat': array<array<float64>> \n",
      "    'p_value': array<array<float64>> \n",
      "----------------------------------------\n",
      "Key: ['locus', 'alleles']\n",
      "----------------------------------------\n"
     ]
    }
   ],
   "source": [
    "gwas_out = gwas_out.annotate_globals(phenotypes = subset_names)\n",
    "gwas_out.describe()"
   ]
  },
  {
   "cell_type": "code",
   "execution_count": 20,
   "metadata": {},
   "outputs": [
    {
     "name": "stderr",
     "output_type": "stream",
     "text": [
      "2019-12-14 11:45:45 Hail: INFO: Coerced sorted dataset\n",
      "2019-12-14 12:06:20 Hail: INFO: merging 40 files totalling 18.2M...\n",
      "2019-12-14 12:06:20 Hail: INFO: while writing:\n",
      "    test_output_with_variant_qc/gwas_subset_1_x_ht.tsv\n",
      "  merge time: 214.161ms\n",
      "2019-12-14 12:06:20 Hail: INFO: merging 40 files totalling 18.2M...\n",
      "2019-12-14 12:06:21 Hail: INFO: while writing:\n",
      "    test_output_with_variant_qc/gwas_subset_1_x_mcv.tsv\n",
      "  merge time: 212.595ms\n",
      "2019-12-14 12:06:21 Hail: INFO: merging 40 files totalling 18.2M...\n",
      "2019-12-14 12:06:21 Hail: INFO: while writing:\n",
      "    test_output_with_variant_qc/gwas_subset_1_x_mch.tsv\n",
      "  merge time: 217.374ms\n",
      "2019-12-14 12:06:22 Hail: INFO: merging 40 files totalling 18.2M...\n",
      "2019-12-14 12:06:22 Hail: INFO: while writing:\n",
      "    test_output_with_variant_qc/gwas_subset_2_x_ht.tsv\n",
      "  merge time: 212.135ms\n",
      "2019-12-14 12:06:23 Hail: INFO: merging 40 files totalling 18.2M...\n",
      "2019-12-14 12:06:23 Hail: INFO: while writing:\n",
      "    test_output_with_variant_qc/gwas_subset_2_x_mcv.tsv\n",
      "  merge time: 287.246ms\n",
      "2019-12-14 12:06:24 Hail: INFO: merging 40 files totalling 18.2M...\n",
      "2019-12-14 12:06:24 Hail: INFO: while writing:\n",
      "    test_output_with_variant_qc/gwas_subset_2_x_mch.tsv\n",
      "  merge time: 392.538ms\n"
     ]
    }
   ],
   "source": [
    "gwas_out = gwas_out.annotate( \n",
    "    variant = hl.delimit(\n",
    "        hl.array([\n",
    "            gwas_out['locus'].contig,\n",
    "            hl.str(gwas_out['locus'].position),\n",
    "            gwas_out['alleles'][0],\n",
    "            gwas_out['alleles'][1]\n",
    "        ]), \n",
    "    delimiter = ':')\n",
    ")\n",
    "gwas_out = gwas_out.key_by('variant')\n",
    "## Hey, this repartition is important\n",
    "## in the sense that it avoids the unnecessary and repeated sorting caused by key_by\n",
    "gwas_out = gwas_out.repartition(40)\n",
    "gwas_out = gwas_out.cache()\n",
    "phenotypes = gwas_out['phenotypes'].collect()[0]\n",
    "for i, subset in enumerate(phenotypes):\n",
    "    for j, trait in enumerate(subset):\n",
    "        ht_export = myhelper.gwas_formater_from_neale_lab(gwas_out, i, j)\n",
    "        ht_export.export(f'test_output_with_variant_qc/gwas_{trait}.tsv')"
   ]
  },
  {
   "cell_type": "code",
   "execution_count": 21,
   "metadata": {},
   "outputs": [
    {
     "data": {
      "text/html": [
       "<table><thead style=\"font-weight: bold;\"><tr><td>locus</td><td>alleles</td><td>varid</td><td>rsid</td><td>n</td><td>sum_x</td><td>y_transpose_x</td><td>beta</td><td>standard_error</td><td>t_stat</td><td>p_value</td><td>variant</td></tr>\n",
       "<tr><td>locus&lt;GRCh37&gt;</td><td>array&lt;str&gt;</td><td>str</td><td>str</td><td>array&lt;int32&gt;</td><td>array&lt;float64&gt;</td><td>array&lt;array&lt;float64&gt;&gt;</td><td>array&lt;array&lt;float64&gt;&gt;</td><td>array&lt;array&lt;float64&gt;&gt;</td><td>array&lt;array&lt;float64&gt;&gt;</td><td>array&lt;array&lt;float64&gt;&gt;</td><td>str</td></tr>\n",
       "</thead><tbody><tr><td>22:16050115</td><td>[&quot;G&quot;,&quot;A&quot;]</td><td>&quot;22:16050115_G_A&quot;</td><td>&quot;rs587755077&quot;</td><td>[346476,346476]</td><td>[4.43e+03,4.43e+03]</td><td>[[1.82e+05,4.04e+05,1.40e+05],[1.82e+05,4.04e+05,1.40e+05]]</td><td>[[3.48e-02,-7.67e-02,-7.31e-02],[7.01e-02,-3.12e-02,-6.57e-02]]</td><td>[[1.01e-01,1.53e-01,6.32e-02],[1.02e-01,1.53e-01,6.34e-02]]</td><td>[[3.43e-01,-5.03e-01,-1.16e+00],[6.90e-01,-2.04e-01,-1.04e+00]]</td><td>[[7.32e-01,6.15e-01,2.48e-01],[4.90e-01,8.38e-01,3.00e-01]]</td><td>&quot;22:16050115:G:A&quot;</td></tr>\n",
       "<tr><td>22:16050527</td><td>[&quot;C&quot;,&quot;A&quot;]</td><td>&quot;22:16050527_C_A&quot;</td><td>&quot;rs587769434&quot;</td><td>[346476,346476]</td><td>[9.80e+02,9.69e+02]</td><td>[[4.04e+04,8.95e+04,3.09e+04],[3.99e+04,8.85e+04,3.05e+04]]</td><td>[[1.23e-01,-7.63e-02,-1.06e-01],[9.80e-02,-4.29e-02,-9.13e-02]]</td><td>[[1.16e-01,1.75e-01,7.25e-02],[1.17e-01,1.77e-01,7.33e-02]]</td><td>[[1.05e+00,-4.36e-01,-1.46e+00],[8.34e-01,-2.43e-01,-1.24e+00]]</td><td>[[2.92e-01,6.63e-01,1.44e-01],[4.04e-01,8.08e-01,2.13e-01]]</td><td>&quot;22:16050527:C:A&quot;</td></tr>\n",
       "<tr><td>22:16050840</td><td>[&quot;C&quot;,&quot;G&quot;]</td><td>&quot;22:16050840_C_G&quot;</td><td>&quot;rs587616822&quot;</td><td>[346476,346476]</td><td>[6.04e+03,6.03e+03]</td><td>[[2.49e+05,5.52e+05,1.91e+05],[2.48e+05,5.51e+05,1.90e+05]]</td><td>[[-4.96e-02,-7.79e-02,-3.31e-02],[-7.10e-02,-8.36e-02,-2.81e-02]]</td><td>[[7.10e-02,1.07e-01,4.42e-02],[7.13e-02,1.07e-01,4.45e-02]]</td><td>[[-6.98e-01,-7.30e-01,-7.49e-01],[-9.96e-01,-7.80e-01,-6.31e-01]]</td><td>[[4.85e-01,4.65e-01,4.54e-01],[3.19e-01,4.36e-01,5.28e-01]]</td><td>&quot;22:16050840:C:G&quot;</td></tr>\n",
       "<tr><td>22:16050847</td><td>[&quot;T&quot;,&quot;C&quot;]</td><td>&quot;22:16050847_T_C&quot;</td><td>&quot;rs587702478&quot;</td><td>[346476,346476]</td><td>[1.73e+03,1.73e+03]</td><td>[[7.14e+04,1.59e+05,5.47e+04],[7.13e+04,1.58e+05,5.46e+04]]</td><td>[[-2.96e-02,1.35e-01,6.43e-03],[-4.43e-02,1.54e-01,1.24e-02]]</td><td>[[1.17e-01,1.76e-01,7.31e-02],[1.18e-01,1.77e-01,7.35e-02]]</td><td>[[-2.52e-01,7.66e-01,8.80e-02],[-3.77e-01,8.71e-01,1.69e-01]]</td><td>[[8.01e-01,4.44e-01,9.30e-01],[7.06e-01,3.84e-01,8.66e-01]]</td><td>&quot;22:16050847:T:C&quot;</td></tr>\n",
       "<tr><td>22:16051249</td><td>[&quot;T&quot;,&quot;C&quot;]</td><td>&quot;22:16051249_T_C&quot;</td><td>&quot;rs62224609&quot;</td><td>[346476,346476]</td><td>[6.94e+04,6.94e+04]</td><td>[[2.86e+06,6.34e+06,2.19e+06],[2.86e+06,6.34e+06,2.19e+06]]</td><td>[[-5.60e-03,1.42e-02,6.23e-03],[-2.25e-03,1.05e-02,4.07e-03]]</td><td>[[1.18e-02,1.77e-02,7.34e-03],[1.18e-02,1.77e-02,7.36e-03]]</td><td>[[-4.75e-01,7.99e-01,8.49e-01],[-1.91e-01,5.90e-01,5.53e-01]]</td><td>[[6.35e-01,4.24e-01,3.96e-01],[8.48e-01,5.55e-01,5.80e-01]]</td><td>&quot;22:16051249:T:C&quot;</td></tr>\n",
       "<tr><td>22:16051722</td><td>[&quot;TA&quot;,&quot;T&quot;]</td><td>&quot;22:16051722_TA_T&quot;</td><td>&quot;22:16051722_TA_T&quot;</td><td>[346476,346476]</td><td>[3.10e+03,3.09e+03]</td><td>[[1.27e+05,2.83e+05,9.77e+04],[1.27e+05,2.82e+05,9.75e+04]]</td><td>[[5.82e-02,8.52e-02,5.77e-02],[2.49e-02,3.87e-02,3.29e-02]]</td><td>[[1.08e-01,1.62e-01,6.71e-02],[1.08e-01,1.62e-01,6.74e-02]]</td><td>[[5.40e-01,5.26e-01,8.61e-01],[2.31e-01,2.38e-01,4.89e-01]]</td><td>[[5.89e-01,5.99e-01,3.89e-01],[8.17e-01,8.12e-01,6.25e-01]]</td><td>&quot;22:16051722:TA:T&quot;</td></tr>\n",
       "<tr><td>22:16052097</td><td>[&quot;G&quot;,&quot;A&quot;]</td><td>&quot;22:16052097_G_A&quot;</td><td>&quot;rs2844865&quot;</td><td>[346476,346476]</td><td>[2.64e+03,2.64e+03]</td><td>[[1.09e+05,2.42e+05,8.34e+04],[1.09e+05,2.41e+05,8.32e+04]]</td><td>[[9.29e-02,3.09e-01,8.34e-02],[7.70e-02,2.97e-01,8.84e-02]]</td><td>[[1.04e-01,1.57e-01,6.49e-02],[1.04e-01,1.57e-01,6.52e-02]]</td><td>[[8.92e-01,1.97e+00,1.29e+00],[7.38e-01,1.89e+00,1.36e+00]]</td><td>[[3.72e-01,4.84e-02,1.99e-01],[4.61e-01,5.87e-02,1.75e-01]]</td><td>&quot;22:16052097:G:A&quot;</td></tr>\n",
       "<tr><td>22:16052463</td><td>[&quot;T&quot;,&quot;C&quot;]</td><td>&quot;22:16052463_T_C&quot;</td><td>&quot;rs587646183&quot;</td><td>[346476,346476]</td><td>[9.18e+03,9.15e+03]</td><td>[[3.78e+05,8.38e+05,2.89e+05],[3.77e+05,8.35e+05,2.89e+05]]</td><td>[[1.81e-02,-9.92e-02,3.23e-03],[4.97e-02,-9.74e-02,-2.51e-03]]</td><td>[[5.92e-02,8.90e-02,3.69e-02],[5.94e-02,8.93e-02,3.71e-02]]</td><td>[[3.06e-01,-1.11e+00,8.75e-02],[8.37e-01,-1.09e+00,-6.78e-02]]</td><td>[[7.60e-01,2.65e-01,9.30e-01],[4.03e-01,2.75e-01,9.46e-01]]</td><td>&quot;22:16052463:T:C&quot;</td></tr>\n",
       "<tr><td>22:16052684</td><td>[&quot;A&quot;,&quot;C&quot;]</td><td>&quot;22:16052684_A_C&quot;</td><td>&quot;rs139918843&quot;</td><td>[346476,346476]</td><td>[2.13e+04,2.14e+04]</td><td>[[8.77e+05,1.95e+06,6.72e+05],[8.79e+05,1.95e+06,6.74e+05]]</td><td>[[5.57e-02,-9.96e-03,-4.77e-03],[4.11e-02,-5.08e-03,1.14e-03]]</td><td>[[4.02e-02,6.05e-02,2.50e-02],[4.01e-02,6.03e-02,2.50e-02]]</td><td>[[1.38e+00,-1.65e-01,-1.91e-01],[1.02e+00,-8.43e-02,4.55e-02]]</td><td>[[1.66e-01,8.69e-01,8.49e-01],[3.06e-01,9.33e-01,9.64e-01]]</td><td>&quot;22:16052684:A:C&quot;</td></tr>\n",
       "<tr><td>22:16052962</td><td>[&quot;C&quot;,&quot;T&quot;]</td><td>&quot;22:16052962_C_T&quot;</td><td>&quot;rs376238049&quot;</td><td>[346476,346476]</td><td>[6.17e+04,6.16e+04]</td><td>[[2.54e+06,5.63e+06,1.94e+06],[2.54e+06,5.63e+06,1.94e+06]]</td><td>[[-3.24e-03,1.20e-02,2.32e-03],[-7.24e-04,7.31e-03,1.56e-04]]</td><td>[[1.34e-02,2.02e-02,8.36e-03],[1.34e-02,2.02e-02,8.37e-03]]</td><td>[[-2.41e-01,5.94e-01,2.77e-01],[-5.40e-02,3.62e-01,1.87e-02]]</td><td>[[8.09e-01,5.53e-01,7.82e-01],[9.57e-01,7.17e-01,9.85e-01]]</td><td>&quot;22:16052962:C:T&quot;</td></tr>\n",
       "</tbody></table><p style=\"background: #fdd; padding: 0.4em;\">showing top 10 rows</p>\n"
      ],
      "text/plain": [
       "+---------------+------------+--------------------+--------------------+\n",
       "| locus         | alleles    | varid              | rsid               |\n",
       "+---------------+------------+--------------------+--------------------+\n",
       "| locus<GRCh37> | array<str> | str                | str                |\n",
       "+---------------+------------+--------------------+--------------------+\n",
       "| 22:16050115   | [\"G\",\"A\"]  | \"22:16050115_G_A\"  | \"rs587755077\"      |\n",
       "| 22:16050527   | [\"C\",\"A\"]  | \"22:16050527_C_A\"  | \"rs587769434\"      |\n",
       "| 22:16050840   | [\"C\",\"G\"]  | \"22:16050840_C_G\"  | \"rs587616822\"      |\n",
       "| 22:16050847   | [\"T\",\"C\"]  | \"22:16050847_T_C\"  | \"rs587702478\"      |\n",
       "| 22:16051249   | [\"T\",\"C\"]  | \"22:16051249_T_C\"  | \"rs62224609\"       |\n",
       "| 22:16051722   | [\"TA\",\"T\"] | \"22:16051722_TA_T\" | \"22:16051722_TA_T\" |\n",
       "| 22:16052097   | [\"G\",\"A\"]  | \"22:16052097_G_A\"  | \"rs2844865\"        |\n",
       "| 22:16052463   | [\"T\",\"C\"]  | \"22:16052463_T_C\"  | \"rs587646183\"      |\n",
       "| 22:16052684   | [\"A\",\"C\"]  | \"22:16052684_A_C\"  | \"rs139918843\"      |\n",
       "| 22:16052962   | [\"C\",\"T\"]  | \"22:16052962_C_T\"  | \"rs376238049\"      |\n",
       "+---------------+------------+--------------------+--------------------+\n",
       "\n",
       "+-----------------+---------------------+\n",
       "| n               | sum_x               |\n",
       "+-----------------+---------------------+\n",
       "| array<int32>    | array<float64>      |\n",
       "+-----------------+---------------------+\n",
       "| [346476,346476] | [4.43e+03,4.43e+03] |\n",
       "| [346476,346476] | [9.80e+02,9.69e+02] |\n",
       "| [346476,346476] | [6.04e+03,6.03e+03] |\n",
       "| [346476,346476] | [1.73e+03,1.73e+03] |\n",
       "| [346476,346476] | [6.94e+04,6.94e+04] |\n",
       "| [346476,346476] | [3.10e+03,3.09e+03] |\n",
       "| [346476,346476] | [2.64e+03,2.64e+03] |\n",
       "| [346476,346476] | [9.18e+03,9.15e+03] |\n",
       "| [346476,346476] | [2.13e+04,2.14e+04] |\n",
       "| [346476,346476] | [6.17e+04,6.16e+04] |\n",
       "+-----------------+---------------------+\n",
       "\n",
       "+-------------------------------------------------------------+\n",
       "| y_transpose_x                                               |\n",
       "+-------------------------------------------------------------+\n",
       "| array<array<float64>>                                       |\n",
       "+-------------------------------------------------------------+\n",
       "| [[1.82e+05,4.04e+05,1.40e+05],[1.82e+05,4.04e+05,1.40e+05]] |\n",
       "| [[4.04e+04,8.95e+04,3.09e+04],[3.99e+04,8.85e+04,3.05e+04]] |\n",
       "| [[2.49e+05,5.52e+05,1.91e+05],[2.48e+05,5.51e+05,1.90e+05]] |\n",
       "| [[7.14e+04,1.59e+05,5.47e+04],[7.13e+04,1.58e+05,5.46e+04]] |\n",
       "| [[2.86e+06,6.34e+06,2.19e+06],[2.86e+06,6.34e+06,2.19e+06]] |\n",
       "| [[1.27e+05,2.83e+05,9.77e+04],[1.27e+05,2.82e+05,9.75e+04]] |\n",
       "| [[1.09e+05,2.42e+05,8.34e+04],[1.09e+05,2.41e+05,8.32e+04]] |\n",
       "| [[3.78e+05,8.38e+05,2.89e+05],[3.77e+05,8.35e+05,2.89e+05]] |\n",
       "| [[8.77e+05,1.95e+06,6.72e+05],[8.79e+05,1.95e+06,6.74e+05]] |\n",
       "| [[2.54e+06,5.63e+06,1.94e+06],[2.54e+06,5.63e+06,1.94e+06]] |\n",
       "+-------------------------------------------------------------+\n",
       "\n",
       "+-------------------------------------------------------------------+\n",
       "| beta                                                              |\n",
       "+-------------------------------------------------------------------+\n",
       "| array<array<float64>>                                             |\n",
       "+-------------------------------------------------------------------+\n",
       "| [[3.48e-02,-7.67e-02,-7.31e-02],[7.01e-02,-3.12e-02,-6.57e-02]]   |\n",
       "| [[1.23e-01,-7.63e-02,-1.06e-01],[9.80e-02,-4.29e-02,-9.13e-02]]   |\n",
       "| [[-4.96e-02,-7.79e-02,-3.31e-02],[-7.10e-02,-8.36e-02,-2.81e-02]] |\n",
       "| [[-2.96e-02,1.35e-01,6.43e-03],[-4.43e-02,1.54e-01,1.24e-02]]     |\n",
       "| [[-5.60e-03,1.42e-02,6.23e-03],[-2.25e-03,1.05e-02,4.07e-03]]     |\n",
       "| [[5.82e-02,8.52e-02,5.77e-02],[2.49e-02,3.87e-02,3.29e-02]]       |\n",
       "| [[9.29e-02,3.09e-01,8.34e-02],[7.70e-02,2.97e-01,8.84e-02]]       |\n",
       "| [[1.81e-02,-9.92e-02,3.23e-03],[4.97e-02,-9.74e-02,-2.51e-03]]    |\n",
       "| [[5.57e-02,-9.96e-03,-4.77e-03],[4.11e-02,-5.08e-03,1.14e-03]]    |\n",
       "| [[-3.24e-03,1.20e-02,2.32e-03],[-7.24e-04,7.31e-03,1.56e-04]]     |\n",
       "+-------------------------------------------------------------------+\n",
       "\n",
       "+-------------------------------------------------------------+\n",
       "| standard_error                                              |\n",
       "+-------------------------------------------------------------+\n",
       "| array<array<float64>>                                       |\n",
       "+-------------------------------------------------------------+\n",
       "| [[1.01e-01,1.53e-01,6.32e-02],[1.02e-01,1.53e-01,6.34e-02]] |\n",
       "| [[1.16e-01,1.75e-01,7.25e-02],[1.17e-01,1.77e-01,7.33e-02]] |\n",
       "| [[7.10e-02,1.07e-01,4.42e-02],[7.13e-02,1.07e-01,4.45e-02]] |\n",
       "| [[1.17e-01,1.76e-01,7.31e-02],[1.18e-01,1.77e-01,7.35e-02]] |\n",
       "| [[1.18e-02,1.77e-02,7.34e-03],[1.18e-02,1.77e-02,7.36e-03]] |\n",
       "| [[1.08e-01,1.62e-01,6.71e-02],[1.08e-01,1.62e-01,6.74e-02]] |\n",
       "| [[1.04e-01,1.57e-01,6.49e-02],[1.04e-01,1.57e-01,6.52e-02]] |\n",
       "| [[5.92e-02,8.90e-02,3.69e-02],[5.94e-02,8.93e-02,3.71e-02]] |\n",
       "| [[4.02e-02,6.05e-02,2.50e-02],[4.01e-02,6.03e-02,2.50e-02]] |\n",
       "| [[1.34e-02,2.02e-02,8.36e-03],[1.34e-02,2.02e-02,8.37e-03]] |\n",
       "+-------------------------------------------------------------+\n",
       "\n",
       "+-------------------------------------------------------------------+\n",
       "| t_stat                                                            |\n",
       "+-------------------------------------------------------------------+\n",
       "| array<array<float64>>                                             |\n",
       "+-------------------------------------------------------------------+\n",
       "| [[3.43e-01,-5.03e-01,-1.16e+00],[6.90e-01,-2.04e-01,-1.04e+00]]   |\n",
       "| [[1.05e+00,-4.36e-01,-1.46e+00],[8.34e-01,-2.43e-01,-1.24e+00]]   |\n",
       "| [[-6.98e-01,-7.30e-01,-7.49e-01],[-9.96e-01,-7.80e-01,-6.31e-01]] |\n",
       "| [[-2.52e-01,7.66e-01,8.80e-02],[-3.77e-01,8.71e-01,1.69e-01]]     |\n",
       "| [[-4.75e-01,7.99e-01,8.49e-01],[-1.91e-01,5.90e-01,5.53e-01]]     |\n",
       "| [[5.40e-01,5.26e-01,8.61e-01],[2.31e-01,2.38e-01,4.89e-01]]       |\n",
       "| [[8.92e-01,1.97e+00,1.29e+00],[7.38e-01,1.89e+00,1.36e+00]]       |\n",
       "| [[3.06e-01,-1.11e+00,8.75e-02],[8.37e-01,-1.09e+00,-6.78e-02]]    |\n",
       "| [[1.38e+00,-1.65e-01,-1.91e-01],[1.02e+00,-8.43e-02,4.55e-02]]    |\n",
       "| [[-2.41e-01,5.94e-01,2.77e-01],[-5.40e-02,3.62e-01,1.87e-02]]     |\n",
       "+-------------------------------------------------------------------+\n",
       "\n",
       "+-------------------------------------------------------------+\n",
       "| p_value                                                     |\n",
       "+-------------------------------------------------------------+\n",
       "| array<array<float64>>                                       |\n",
       "+-------------------------------------------------------------+\n",
       "| [[7.32e-01,6.15e-01,2.48e-01],[4.90e-01,8.38e-01,3.00e-01]] |\n",
       "| [[2.92e-01,6.63e-01,1.44e-01],[4.04e-01,8.08e-01,2.13e-01]] |\n",
       "| [[4.85e-01,4.65e-01,4.54e-01],[3.19e-01,4.36e-01,5.28e-01]] |\n",
       "| [[8.01e-01,4.44e-01,9.30e-01],[7.06e-01,3.84e-01,8.66e-01]] |\n",
       "| [[6.35e-01,4.24e-01,3.96e-01],[8.48e-01,5.55e-01,5.80e-01]] |\n",
       "| [[5.89e-01,5.99e-01,3.89e-01],[8.17e-01,8.12e-01,6.25e-01]] |\n",
       "| [[3.72e-01,4.84e-02,1.99e-01],[4.61e-01,5.87e-02,1.75e-01]] |\n",
       "| [[7.60e-01,2.65e-01,9.30e-01],[4.03e-01,2.75e-01,9.46e-01]] |\n",
       "| [[1.66e-01,8.69e-01,8.49e-01],[3.06e-01,9.33e-01,9.64e-01]] |\n",
       "| [[8.09e-01,5.53e-01,7.82e-01],[9.57e-01,7.17e-01,9.85e-01]] |\n",
       "+-------------------------------------------------------------+\n",
       "\n",
       "+--------------------+\n",
       "| variant            |\n",
       "+--------------------+\n",
       "| str                |\n",
       "+--------------------+\n",
       "| \"22:16050115:G:A\"  |\n",
       "| \"22:16050527:C:A\"  |\n",
       "| \"22:16050840:C:G\"  |\n",
       "| \"22:16050847:T:C\"  |\n",
       "| \"22:16051249:T:C\"  |\n",
       "| \"22:16051722:TA:T\" |\n",
       "| \"22:16052097:G:A\"  |\n",
       "| \"22:16052463:T:C\"  |\n",
       "| \"22:16052684:A:C\"  |\n",
       "| \"22:16052962:C:T\"  |\n",
       "+--------------------+\n",
       "showing top 10 rows"
      ]
     },
     "metadata": {},
     "output_type": "display_data"
    }
   ],
   "source": [
    "gwas_out.show()"
   ]
  }
 ],
 "metadata": {
  "kernelspec": {
   "display_name": "Python 3",
   "language": "python",
   "name": "python3"
  },
  "language_info": {
   "codemirror_mode": {
    "name": "ipython",
    "version": 3
   },
   "file_extension": ".py",
   "mimetype": "text/x-python",
   "name": "python",
   "nbconvert_exporter": "python",
   "pygments_lexer": "ipython3",
   "version": "3.7.5"
  }
 },
 "nbformat": 4,
 "nbformat_minor": 2
}
