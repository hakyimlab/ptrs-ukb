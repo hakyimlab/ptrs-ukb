{
 "cells": [
  {
   "cell_type": "code",
   "execution_count": 1,
   "metadata": {},
   "outputs": [
    {
     "name": "stdout",
     "output_type": "stream",
     "text": [
      "--driver-memory 40G --executor-memory 8g pyspark-shell\r\n"
     ]
    }
   ],
   "source": [
    "# !export PYSPARK_SUBMIT_ARGS=\"--driver-memory 40G --executor-memory 8g pyspark-shell\"\n",
    "!echo $PYSPARK_SUBMIT_ARGS"
   ]
  },
  {
   "cell_type": "code",
   "execution_count": 2,
   "metadata": {},
   "outputs": [],
   "source": [
    "import hail as hl\n",
    "import pandas as pd"
   ]
  },
  {
   "cell_type": "code",
   "execution_count": 3,
   "metadata": {},
   "outputs": [
    {
     "name": "stderr",
     "output_type": "stream",
     "text": [
      "Initializing Spark and Hail with default parameters...\n",
      "Running on Apache Spark version 2.4.1\n",
      "SparkUI available at http://nucleus.cels.anl.gov:4042\n",
      "Welcome to\n",
      "     __  __     <>__\n",
      "    / /_/ /__  __/ /\n",
      "   / __  / _ `/ / /\n",
      "  /_/ /_/\\_,_/_/_/   version 0.2.28-61941242c15d\n",
      "LOGGING: writing to /vol/bmd/yanyul/GitHub/ptrs-ukb/notebook/hail-20191210-1641-0.2.28-61941242c15d.log\n",
      "2019-12-10 16:41:37 Hail: INFO: Number of BGEN files parsed: 1\n",
      "2019-12-10 16:41:37 Hail: INFO: Number of samples in BGEN files: 487409\n",
      "2019-12-10 16:41:37 Hail: INFO: Number of variants across all BGEN files: 1255683\n"
     ]
    }
   ],
   "source": [
    "mt = hl.import_bgen('/vol/bmd/data/ukbiobank/genotypes/v3/ukb_imp_chr22_v3.bgen', entry_fields = ['dosage'], sample_file = '/vol/bmd/data/ukbiobank/genotypes/v3/ukb19526_imp_chr1_v3_s487395.sample')"
   ]
  },
  {
   "cell_type": "code",
   "execution_count": 6,
   "metadata": {},
   "outputs": [
    {
     "data": {
      "text/plain": [
       "293"
      ]
     },
     "execution_count": 6,
     "metadata": {},
     "output_type": "execute_result"
    }
   ],
   "source": [
    "mt.n_partitions()"
   ]
  },
  {
   "cell_type": "code",
   "execution_count": 32,
   "metadata": {},
   "outputs": [],
   "source": [
    "mt = mt.annotate_cols(eid=mt.s.replace(\"\\_\\d+\", \"\"))\n",
    "mt = mt.key_cols_by('eid')"
   ]
  },
  {
   "cell_type": "code",
   "execution_count": 38,
   "metadata": {},
   "outputs": [
    {
     "data": {
      "text/html": [
       "<table><thead style=\"font-weight: bold;\"><tr><td>locus</td><td>alleles</td><td>1008054.dosage</td></tr>\n",
       "<tr><td>locus&lt;GRCh37&gt;</td><td>array&lt;str&gt;</td><td>float64</td></tr>\n",
       "</thead><tbody><tr><td>22:16050075</td><td>[&quot;A&quot;,&quot;G&quot;]</td><td>0.00e+00</td></tr>\n",
       "<tr><td>22:16050115</td><td>[&quot;G&quot;,&quot;A&quot;]</td><td>1.18e-02</td></tr>\n",
       "<tr><td>22:16050213</td><td>[&quot;C&quot;,&quot;T&quot;]</td><td>3.92e-03</td></tr>\n",
       "<tr><td>22:16050319</td><td>[&quot;C&quot;,&quot;T&quot;]</td><td>0.00e+00</td></tr>\n",
       "<tr><td>22:16050435</td><td>[&quot;T&quot;,&quot;C&quot;]</td><td>0.00e+00</td></tr>\n",
       "<tr><td>22:16050527</td><td>[&quot;C&quot;,&quot;A&quot;]</td><td>3.92e-03</td></tr>\n",
       "<tr><td>22:16050568</td><td>[&quot;C&quot;,&quot;A&quot;]</td><td>0.00e+00</td></tr>\n",
       "<tr><td>22:16050607</td><td>[&quot;G&quot;,&quot;A&quot;]</td><td>0.00e+00</td></tr>\n",
       "<tr><td>22:16050627</td><td>[&quot;G&quot;,&quot;T&quot;]</td><td>0.00e+00</td></tr>\n",
       "<tr><td>22:16050646</td><td>[&quot;G&quot;,&quot;T&quot;]</td><td>0.00e+00</td></tr>\n",
       "<tr><td>22:16050655</td><td>[&quot;G&quot;,&quot;A&quot;]</td><td>0.00e+00</td></tr>\n",
       "<tr><td>22:16050678</td><td>[&quot;C&quot;,&quot;T&quot;]</td><td>7.84e-02</td></tr>\n",
       "<tr><td>22:16050679</td><td>[&quot;G&quot;,&quot;A&quot;]</td><td>0.00e+00</td></tr>\n",
       "<tr><td>22:16050688</td><td>[&quot;C&quot;,&quot;T&quot;]</td><td>0.00e+00</td></tr>\n",
       "<tr><td>22:16050732</td><td>[&quot;C&quot;,&quot;T&quot;]</td><td>0.00e+00</td></tr>\n",
       "<tr><td>22:16050739</td><td>[&quot;TA&quot;,&quot;T&quot;]</td><td>3.92e-03</td></tr>\n",
       "<tr><td>22:16050758</td><td>[&quot;T&quot;,&quot;C&quot;]</td><td>0.00e+00</td></tr>\n",
       "<tr><td>22:16050783</td><td>[&quot;A&quot;,&quot;G&quot;]</td><td>0.00e+00</td></tr>\n",
       "<tr><td>22:16050822</td><td>[&quot;G&quot;,&quot;A&quot;]</td><td>7.02e-01</td></tr>\n",
       "<tr><td>22:16050840</td><td>[&quot;C&quot;,&quot;G&quot;]</td><td>1.96e-02</td></tr>\n",
       "<tr><td>22:16050847</td><td>[&quot;T&quot;,&quot;C&quot;]</td><td>0.00e+00</td></tr>\n",
       "<tr><td>22:16050856</td><td>[&quot;G&quot;,&quot;T&quot;]</td><td>0.00e+00</td></tr>\n",
       "<tr><td>22:16050874</td><td>[&quot;G&quot;,&quot;T&quot;]</td><td>0.00e+00</td></tr>\n",
       "<tr><td>22:16050922</td><td>[&quot;T&quot;,&quot;G&quot;]</td><td>0.00e+00</td></tr>\n",
       "<tr><td>22:16050954</td><td>[&quot;G&quot;,&quot;A&quot;]</td><td>0.00e+00</td></tr>\n",
       "<tr><td>22:16050958</td><td>[&quot;A&quot;,&quot;T&quot;]</td><td>0.00e+00</td></tr>\n",
       "</tbody></table><p style=\"background: #fdd; padding: 0.4em;\">showing top 26 rows</p>\n"
      ],
      "text/plain": [
       "+---------------+------------+----------------+\n",
       "| locus         | alleles    | 1008054.dosage |\n",
       "+---------------+------------+----------------+\n",
       "| locus<GRCh37> | array<str> |        float64 |\n",
       "+---------------+------------+----------------+\n",
       "| 22:16050075   | [\"A\",\"G\"]  |       0.00e+00 |\n",
       "| 22:16050115   | [\"G\",\"A\"]  |       1.18e-02 |\n",
       "| 22:16050213   | [\"C\",\"T\"]  |       3.92e-03 |\n",
       "| 22:16050319   | [\"C\",\"T\"]  |       0.00e+00 |\n",
       "| 22:16050435   | [\"T\",\"C\"]  |       0.00e+00 |\n",
       "| 22:16050527   | [\"C\",\"A\"]  |       3.92e-03 |\n",
       "| 22:16050568   | [\"C\",\"A\"]  |       0.00e+00 |\n",
       "| 22:16050607   | [\"G\",\"A\"]  |       0.00e+00 |\n",
       "| 22:16050627   | [\"G\",\"T\"]  |       0.00e+00 |\n",
       "| 22:16050646   | [\"G\",\"T\"]  |       0.00e+00 |\n",
       "| 22:16050655   | [\"G\",\"A\"]  |       0.00e+00 |\n",
       "| 22:16050678   | [\"C\",\"T\"]  |       7.84e-02 |\n",
       "| 22:16050679   | [\"G\",\"A\"]  |       0.00e+00 |\n",
       "| 22:16050688   | [\"C\",\"T\"]  |       0.00e+00 |\n",
       "| 22:16050732   | [\"C\",\"T\"]  |       0.00e+00 |\n",
       "| 22:16050739   | [\"TA\",\"T\"] |       3.92e-03 |\n",
       "| 22:16050758   | [\"T\",\"C\"]  |       0.00e+00 |\n",
       "| 22:16050783   | [\"A\",\"G\"]  |       0.00e+00 |\n",
       "| 22:16050822   | [\"G\",\"A\"]  |       7.02e-01 |\n",
       "| 22:16050840   | [\"C\",\"G\"]  |       1.96e-02 |\n",
       "| 22:16050847   | [\"T\",\"C\"]  |       0.00e+00 |\n",
       "| 22:16050856   | [\"G\",\"T\"]  |       0.00e+00 |\n",
       "| 22:16050874   | [\"G\",\"T\"]  |       0.00e+00 |\n",
       "| 22:16050922   | [\"T\",\"G\"]  |       0.00e+00 |\n",
       "| 22:16050954   | [\"G\",\"A\"]  |       0.00e+00 |\n",
       "| 22:16050958   | [\"A\",\"T\"]  |       0.00e+00 |\n",
       "+---------------+------------+----------------+\n",
       "showing top 26 rows"
      ]
     },
     "metadata": {},
     "output_type": "display_data"
    }
   ],
   "source": [
    "mt.filter_cols(mt.eid == '1008054').dosage.show()"
   ]
  },
  {
   "cell_type": "code",
   "execution_count": 33,
   "metadata": {},
   "outputs": [
    {
     "data": {
      "text/html": [
       "<table><thead style=\"font-weight: bold;\"><tr><td>locus</td><td>alleles</td><td>rsid</td></tr>\n",
       "<tr><td>locus&lt;GRCh37&gt;</td><td>array&lt;str&gt;</td><td>str</td></tr>\n",
       "</thead><tbody><tr><td>22:16050075</td><td>[&quot;A&quot;,&quot;G&quot;]</td><td>&quot;rs587697622&quot;</td></tr>\n",
       "<tr><td>22:16050115</td><td>[&quot;G&quot;,&quot;A&quot;]</td><td>&quot;rs587755077&quot;</td></tr>\n",
       "<tr><td>22:16050213</td><td>[&quot;C&quot;,&quot;T&quot;]</td><td>&quot;rs587654921&quot;</td></tr>\n",
       "<tr><td>22:16050319</td><td>[&quot;C&quot;,&quot;T&quot;]</td><td>&quot;rs587712275&quot;</td></tr>\n",
       "<tr><td>22:16050435</td><td>[&quot;T&quot;,&quot;C&quot;]</td><td>&quot;22:16050435_T_C&quot;</td></tr>\n",
       "</tbody></table><p style=\"background: #fdd; padding: 0.4em;\">showing top 5 rows</p>\n"
      ],
      "text/plain": [
       "+---------------+------------+-------------------+\n",
       "| locus         | alleles    | rsid              |\n",
       "+---------------+------------+-------------------+\n",
       "| locus<GRCh37> | array<str> | str               |\n",
       "+---------------+------------+-------------------+\n",
       "| 22:16050075   | [\"A\",\"G\"]  | \"rs587697622\"     |\n",
       "| 22:16050115   | [\"G\",\"A\"]  | \"rs587755077\"     |\n",
       "| 22:16050213   | [\"C\",\"T\"]  | \"rs587654921\"     |\n",
       "| 22:16050319   | [\"C\",\"T\"]  | \"rs587712275\"     |\n",
       "| 22:16050435   | [\"T\",\"C\"]  | \"22:16050435_T_C\" |\n",
       "+---------------+------------+-------------------+\n",
       "showing top 5 rows"
      ]
     },
     "metadata": {},
     "output_type": "display_data"
    }
   ],
   "source": [
    "mt.rsid.show(5)\n",
    "# mt.rows().select().show(5)"
   ]
  },
  {
   "cell_type": "code",
   "execution_count": 13,
   "metadata": {},
   "outputs": [
    {
     "data": {
      "text/html": [
       "<table><thead style=\"font-weight: bold;\"><tr><td>locus</td><td>alleles</td></tr>\n",
       "<tr><td>locus&lt;GRCh37&gt;</td><td>array&lt;str&gt;</td></tr>\n",
       "</thead><tbody><tr><td>22:16050075</td><td>[&quot;A&quot;,&quot;G&quot;]</td></tr>\n",
       "<tr><td>22:16050115</td><td>[&quot;G&quot;,&quot;A&quot;]</td></tr>\n",
       "<tr><td>22:16050213</td><td>[&quot;C&quot;,&quot;T&quot;]</td></tr>\n",
       "<tr><td>22:16050319</td><td>[&quot;C&quot;,&quot;T&quot;]</td></tr>\n",
       "<tr><td>22:16050435</td><td>[&quot;T&quot;,&quot;C&quot;]</td></tr>\n",
       "</tbody></table><p style=\"background: #fdd; padding: 0.4em;\">showing top 5 rows</p>\n"
      ],
      "text/plain": [
       "+---------------+------------+\n",
       "| locus         | alleles    |\n",
       "+---------------+------------+\n",
       "| locus<GRCh37> | array<str> |\n",
       "+---------------+------------+\n",
       "| 22:16050075   | [\"A\",\"G\"]  |\n",
       "| 22:16050115   | [\"G\",\"A\"]  |\n",
       "| 22:16050213   | [\"C\",\"T\"]  |\n",
       "| 22:16050319   | [\"C\",\"T\"]  |\n",
       "| 22:16050435   | [\"T\",\"C\"]  |\n",
       "+---------------+------------+\n",
       "showing top 5 rows"
      ]
     },
     "metadata": {},
     "output_type": "display_data"
    }
   ],
   "source": [
    "mt.row_key.show(5)"
   ]
  },
  {
   "cell_type": "code",
   "execution_count": 14,
   "metadata": {},
   "outputs": [
    {
     "data": {
      "text/html": [
       "<table><thead style=\"font-weight: bold;\"><tr><td>eid</td><td>s</td></tr>\n",
       "<tr><td>str</td><td>str</td></tr>\n",
       "</thead><tbody><tr><td>&quot;2476612&quot;</td><td>&quot;2476612&quot;</td></tr>\n",
       "<tr><td>&quot;5595764&quot;</td><td>&quot;5595764&quot;</td></tr>\n",
       "<tr><td>&quot;5172041&quot;</td><td>&quot;5172041&quot;</td></tr>\n",
       "<tr><td>&quot;3487211&quot;</td><td>&quot;3487211&quot;</td></tr>\n",
       "<tr><td>&quot;2017223&quot;</td><td>&quot;2017223&quot;</td></tr>\n",
       "</tbody></table><p style=\"background: #fdd; padding: 0.4em;\">showing top 5 rows</p>\n"
      ],
      "text/plain": [
       "+-----------+-----------+\n",
       "| eid       | s         |\n",
       "+-----------+-----------+\n",
       "| str       | str       |\n",
       "+-----------+-----------+\n",
       "| \"2476612\" | \"2476612\" |\n",
       "| \"5595764\" | \"5595764\" |\n",
       "| \"5172041\" | \"5172041\" |\n",
       "| \"3487211\" | \"3487211\" |\n",
       "| \"2017223\" | \"2017223\" |\n",
       "+-----------+-----------+\n",
       "showing top 5 rows"
      ]
     },
     "metadata": {},
     "output_type": "display_data"
    }
   ],
   "source": [
    "mt.s.show(5)"
   ]
  },
  {
   "cell_type": "code",
   "execution_count": 15,
   "metadata": {},
   "outputs": [],
   "source": [
    "f = open('/homes/yanyul/query_first_attempt_with_qc.csv', 'r')\n",
    "header = f.readlines()[0].strip().split(',')\n",
    "f.close()\n",
    "list_of_str = ['eid', 'meaning', 'ethnicity_agg']\n",
    "header_dic = {}\n",
    "for i in header:\n",
    "    if i in list_of_str:\n",
    "        header_dic[i] = hl.tstr\n",
    "    else:\n",
    "        header_dic[i] = hl.tfloat64"
   ]
  },
  {
   "cell_type": "code",
   "execution_count": 16,
   "metadata": {},
   "outputs": [
    {
     "name": "stderr",
     "output_type": "stream",
     "text": [
      "2019-12-09 11:40:57 Hail: INFO: Reading table with no type imputation\n",
      "  Loading column 'eid' as type 'str' (user-specified)\n",
      "  Loading column 'age_recruitment' as type 'float64' (user-specified)\n",
      "  Loading column 'sex' as type 'float64' (user-specified)\n",
      "  Loading column 'pc1' as type 'float64' (user-specified)\n",
      "  Loading column 'pc2' as type 'float64' (user-specified)\n",
      "  Loading column 'pc3' as type 'float64' (user-specified)\n",
      "  Loading column 'pc4' as type 'float64' (user-specified)\n",
      "  Loading column 'pc5' as type 'float64' (user-specified)\n",
      "  Loading column 'pc6' as type 'float64' (user-specified)\n",
      "  Loading column 'pc7' as type 'float64' (user-specified)\n",
      "  Loading column 'pc8' as type 'float64' (user-specified)\n",
      "  Loading column 'pc9' as type 'float64' (user-specified)\n",
      "  Loading column 'pc10' as type 'float64' (user-specified)\n",
      "  Loading column 'ethnicity_agg' as type 'str' (user-specified)\n",
      "  Loading column 'meaning' as type 'str' (user-specified)\n",
      "  Loading column 'height' as type 'float64' (user-specified)\n",
      "  Loading column 'dbp' as type 'float64' (user-specified)\n",
      "  Loading column 'sbp' as type 'float64' (user-specified)\n",
      "  Loading column 'bmi' as type 'float64' (user-specified)\n",
      "  Loading column 'wbc' as type 'float64' (user-specified)\n",
      "  Loading column 'rbc' as type 'float64' (user-specified)\n",
      "  Loading column 'hb' as type 'float64' (user-specified)\n",
      "  Loading column 'ht' as type 'float64' (user-specified)\n",
      "  Loading column 'mcv' as type 'float64' (user-specified)\n",
      "  Loading column 'mch' as type 'float64' (user-specified)\n",
      "  Loading column 'mchc' as type 'float64' (user-specified)\n",
      "  Loading column 'platelet' as type 'float64' (user-specified)\n",
      "  Loading column 'lymphocyte' as type 'float64' (user-specified)\n",
      "  Loading column 'monocyte' as type 'float64' (user-specified)\n",
      "  Loading column 'neutrophil' as type 'float64' (user-specified)\n",
      "  Loading column 'eosinophil' as type 'float64' (user-specified)\n",
      "  Loading column 'basophil' as type 'float64' (user-specified)\n",
      "\n"
     ]
    }
   ],
   "source": [
    "pheno = (hl.import_table('/homes/yanyul/query_first_attempt_with_qc.csv', types = header_dic, delimiter = ',').key_by('eid'))"
   ]
  },
  {
   "cell_type": "code",
   "execution_count": 17,
   "metadata": {},
   "outputs": [
    {
     "data": {
      "text/plain": [
       "1255683"
      ]
     },
     "execution_count": 17,
     "metadata": {},
     "output_type": "execute_result"
    }
   ],
   "source": [
    "mt.count_rows()"
   ]
  },
  {
   "cell_type": "code",
   "execution_count": 18,
   "metadata": {},
   "outputs": [
    {
     "data": {
      "text/plain": [
       "356476"
      ]
     },
     "execution_count": 18,
     "metadata": {},
     "output_type": "execute_result"
    }
   ],
   "source": [
    "pheno = pheno.filter(pheno.meaning == 'British')\n",
    "pheno.count()"
   ]
  },
  {
   "cell_type": "code",
   "execution_count": 19,
   "metadata": {},
   "outputs": [],
   "source": [
    "mt = mt.annotate_cols(pheno = pheno[mt.eid])"
   ]
  },
  {
   "cell_type": "code",
   "execution_count": 20,
   "metadata": {},
   "outputs": [
    {
     "name": "stdout",
     "output_type": "stream",
     "text": [
      "--------------------------------------------------------\n",
      "Type:\n",
      "        struct {\n",
      "        s: str, \n",
      "        eid: str, \n",
      "        pheno: struct {\n",
      "            age_recruitment: float64, \n",
      "            sex: float64, \n",
      "            pc1: float64, \n",
      "            pc2: float64, \n",
      "            pc3: float64, \n",
      "            pc4: float64, \n",
      "            pc5: float64, \n",
      "            pc6: float64, \n",
      "            pc7: float64, \n",
      "            pc8: float64, \n",
      "            pc9: float64, \n",
      "            pc10: float64, \n",
      "            ethnicity_agg: str, \n",
      "            meaning: str, \n",
      "            height: float64, \n",
      "            dbp: float64, \n",
      "            sbp: float64, \n",
      "            bmi: float64, \n",
      "            wbc: float64, \n",
      "            rbc: float64, \n",
      "            hb: float64, \n",
      "            ht: float64, \n",
      "            mcv: float64, \n",
      "            mch: float64, \n",
      "            mchc: float64, \n",
      "            platelet: float64, \n",
      "            lymphocyte: float64, \n",
      "            monocyte: float64, \n",
      "            neutrophil: float64, \n",
      "            eosinophil: float64, \n",
      "            basophil: float64\n",
      "        }\n",
      "    }\n",
      "--------------------------------------------------------\n",
      "Source:\n",
      "    <hail.matrixtable.MatrixTable object at 0x7efd4837bfd0>\n",
      "Index:\n",
      "    ['column']\n",
      "--------------------------------------------------------\n"
     ]
    }
   ],
   "source": [
    "mt.col.describe()"
   ]
  },
  {
   "cell_type": "code",
   "execution_count": 21,
   "metadata": {},
   "outputs": [
    {
     "name": "stdout",
     "output_type": "stream",
     "text": [
      "356476\n",
      "487409\n"
     ]
    }
   ],
   "source": [
    "print(pheno.count())\n",
    "print(mt.count_cols())"
   ]
  },
  {
   "cell_type": "code",
   "execution_count": 22,
   "metadata": {},
   "outputs": [
    {
     "data": {
      "text/plain": [
       "{'British': 356476, None: 130933}"
      ]
     },
     "execution_count": 22,
     "metadata": {},
     "output_type": "execute_result"
    }
   ],
   "source": [
    "mt.aggregate_cols(hl.agg.counter(mt.pheno.meaning))"
   ]
  },
  {
   "cell_type": "code",
   "execution_count": 23,
   "metadata": {},
   "outputs": [],
   "source": [
    "# snp_counts = mt.aggregate_rows(hl.agg.counter(hl.Struct(ref=mt.alleles[0], alt=mt.alleles[1])))"
   ]
  },
  {
   "cell_type": "code",
   "execution_count": 24,
   "metadata": {},
   "outputs": [
    {
     "name": "stdout",
     "output_type": "stream",
     "text": [
      "--------------------------------------------------------\n",
      "Type:\n",
      "        struct {\n",
      "        s: str, \n",
      "        eid: str, \n",
      "        pheno: struct {\n",
      "            age_recruitment: float64, \n",
      "            sex: float64, \n",
      "            pc1: float64, \n",
      "            pc2: float64, \n",
      "            pc3: float64, \n",
      "            pc4: float64, \n",
      "            pc5: float64, \n",
      "            pc6: float64, \n",
      "            pc7: float64, \n",
      "            pc8: float64, \n",
      "            pc9: float64, \n",
      "            pc10: float64, \n",
      "            ethnicity_agg: str, \n",
      "            meaning: str, \n",
      "            height: float64, \n",
      "            dbp: float64, \n",
      "            sbp: float64, \n",
      "            bmi: float64, \n",
      "            wbc: float64, \n",
      "            rbc: float64, \n",
      "            hb: float64, \n",
      "            ht: float64, \n",
      "            mcv: float64, \n",
      "            mch: float64, \n",
      "            mchc: float64, \n",
      "            platelet: float64, \n",
      "            lymphocyte: float64, \n",
      "            monocyte: float64, \n",
      "            neutrophil: float64, \n",
      "            eosinophil: float64, \n",
      "            basophil: float64\n",
      "        }\n",
      "    }\n",
      "--------------------------------------------------------\n",
      "Source:\n",
      "    <hail.matrixtable.MatrixTable object at 0x7efd4837bfd0>\n",
      "Index:\n",
      "    ['column']\n",
      "--------------------------------------------------------\n"
     ]
    }
   ],
   "source": [
    "mt.col.describe()"
   ]
  },
  {
   "cell_type": "code",
   "execution_count": 25,
   "metadata": {},
   "outputs": [],
   "source": [
    "mt = hl.sample_qc(mt)"
   ]
  },
  {
   "cell_type": "code",
   "execution_count": 26,
   "metadata": {},
   "outputs": [
    {
     "name": "stdout",
     "output_type": "stream",
     "text": [
      "--------------------------------------------------------\n",
      "Type:\n",
      "        struct {\n",
      "        s: str, \n",
      "        eid: str, \n",
      "        pheno: struct {\n",
      "            age_recruitment: float64, \n",
      "            sex: float64, \n",
      "            pc1: float64, \n",
      "            pc2: float64, \n",
      "            pc3: float64, \n",
      "            pc4: float64, \n",
      "            pc5: float64, \n",
      "            pc6: float64, \n",
      "            pc7: float64, \n",
      "            pc8: float64, \n",
      "            pc9: float64, \n",
      "            pc10: float64, \n",
      "            ethnicity_agg: str, \n",
      "            meaning: str, \n",
      "            height: float64, \n",
      "            dbp: float64, \n",
      "            sbp: float64, \n",
      "            bmi: float64, \n",
      "            wbc: float64, \n",
      "            rbc: float64, \n",
      "            hb: float64, \n",
      "            ht: float64, \n",
      "            mcv: float64, \n",
      "            mch: float64, \n",
      "            mchc: float64, \n",
      "            platelet: float64, \n",
      "            lymphocyte: float64, \n",
      "            monocyte: float64, \n",
      "            neutrophil: float64, \n",
      "            eosinophil: float64, \n",
      "            basophil: float64\n",
      "        }, \n",
      "        sample_qc: struct {\n",
      "            call_rate: float64, \n",
      "            n_called: int64, \n",
      "            n_not_called: int64, \n",
      "            n_filtered: int64, \n",
      "            n_hom_ref: int64, \n",
      "            n_het: int64, \n",
      "            n_hom_var: int64, \n",
      "            n_non_ref: int64, \n",
      "            n_singleton: int64, \n",
      "            n_snp: int64, \n",
      "            n_insertion: int64, \n",
      "            n_deletion: int64, \n",
      "            n_transition: int64, \n",
      "            n_transversion: int64, \n",
      "            n_star: int64, \n",
      "            r_ti_tv: float64, \n",
      "            r_het_hom_var: float64, \n",
      "            r_insertion_deletion: float64\n",
      "        }\n",
      "    }\n",
      "--------------------------------------------------------\n",
      "Source:\n",
      "    <hail.matrixtable.MatrixTable object at 0x7efd4832e090>\n",
      "Index:\n",
      "    ['column']\n",
      "--------------------------------------------------------\n"
     ]
    }
   ],
   "source": [
    "mt.col.describe()"
   ]
  },
  {
   "cell_type": "code",
   "execution_count": 27,
   "metadata": {},
   "outputs": [],
   "source": [
    "\n",
    "# p = hl.plot.histogram(mt.sample_qc.call_rate, range=(.88,1), legend='Call Rate')\n",
    "# hail.plot.show(p)"
   ]
  },
  {
   "cell_type": "code",
   "execution_count": 28,
   "metadata": {},
   "outputs": [],
   "source": [
    "mt = hl.variant_qc(mt)"
   ]
  },
  {
   "cell_type": "code",
   "execution_count": 29,
   "metadata": {},
   "outputs": [
    {
     "name": "stdout",
     "output_type": "stream",
     "text": [
      "--------------------------------------------------------\n",
      "Type:\n",
      "        struct {\n",
      "        locus: locus<GRCh37>, \n",
      "        alleles: array<str>, \n",
      "        rsid: str, \n",
      "        varid: str, \n",
      "        variant_qc: struct {\n",
      "            AC: array<int32>, \n",
      "            AF: array<float64>, \n",
      "            AN: int32, \n",
      "            homozygote_count: array<int32>, \n",
      "            call_rate: float64, \n",
      "            n_called: int64, \n",
      "            n_not_called: int64, \n",
      "            n_filtered: int64, \n",
      "            n_het: int64, \n",
      "            n_non_ref: int64, \n",
      "            het_freq_hwe: float64, \n",
      "            p_value_hwe: float64\n",
      "        }\n",
      "    }\n",
      "--------------------------------------------------------\n",
      "Source:\n",
      "    <hail.matrixtable.MatrixTable object at 0x7efd48315810>\n",
      "Index:\n",
      "    ['row']\n",
      "--------------------------------------------------------\n"
     ]
    }
   ],
   "source": [
    "mt.row.describe()"
   ]
  },
  {
   "cell_type": "code",
   "execution_count": 30,
   "metadata": {},
   "outputs": [
    {
     "ename": "KeyboardInterrupt",
     "evalue": "",
     "output_type": "error",
     "traceback": [
      "\u001b[0;31m---------------------------------------------------------------------------\u001b[0m",
      "\u001b[0;31mKeyboardInterrupt\u001b[0m                         Traceback (most recent call last)",
      "\u001b[0;32m<ipython-input-30-5a4ad90b0948>\u001b[0m in \u001b[0;36m<module>\u001b[0;34m\u001b[0m\n\u001b[1;32m      1\u001b[0m \u001b[0mmt\u001b[0m \u001b[0;34m=\u001b[0m \u001b[0mmt\u001b[0m\u001b[0;34m.\u001b[0m\u001b[0mfilter_rows\u001b[0m\u001b[0;34m(\u001b[0m\u001b[0mmt\u001b[0m\u001b[0;34m.\u001b[0m\u001b[0mvariant_qc\u001b[0m\u001b[0;34m.\u001b[0m\u001b[0mAF\u001b[0m\u001b[0;34m[\u001b[0m\u001b[0;36m1\u001b[0m\u001b[0;34m]\u001b[0m \u001b[0;34m>\u001b[0m \u001b[0;36m0.01\u001b[0m\u001b[0;34m)\u001b[0m\u001b[0;34m\u001b[0m\u001b[0;34m\u001b[0m\u001b[0m\n\u001b[0;32m----> 2\u001b[0;31m \u001b[0mprint\u001b[0m\u001b[0;34m(\u001b[0m\u001b[0mmt\u001b[0m\u001b[0;34m.\u001b[0m\u001b[0mcount_rows\u001b[0m\u001b[0;34m(\u001b[0m\u001b[0;34m)\u001b[0m\u001b[0;34m)\u001b[0m\u001b[0;34m\u001b[0m\u001b[0;34m\u001b[0m\u001b[0m\n\u001b[0m",
      "\u001b[0;32m</vol/bmd/yanyul/softwares/conda_envs/hail/lib/python3.7/site-packages/decorator.py:decorator-gen-1169>\u001b[0m in \u001b[0;36mcount_rows\u001b[0;34m(self, _localize)\u001b[0m\n",
      "\u001b[0;32m/vol/bmd/yanyul/softwares/conda_envs/hail/lib/python3.7/site-packages/hail/typecheck/check.py\u001b[0m in \u001b[0;36mwrapper\u001b[0;34m(__original_func, *args, **kwargs)\u001b[0m\n\u001b[1;32m    583\u001b[0m     \u001b[0;32mdef\u001b[0m \u001b[0mwrapper\u001b[0m\u001b[0;34m(\u001b[0m\u001b[0m__original_func\u001b[0m\u001b[0;34m,\u001b[0m \u001b[0;34m*\u001b[0m\u001b[0margs\u001b[0m\u001b[0;34m,\u001b[0m \u001b[0;34m**\u001b[0m\u001b[0mkwargs\u001b[0m\u001b[0;34m)\u001b[0m\u001b[0;34m:\u001b[0m\u001b[0;34m\u001b[0m\u001b[0;34m\u001b[0m\u001b[0m\n\u001b[1;32m    584\u001b[0m         \u001b[0margs_\u001b[0m\u001b[0;34m,\u001b[0m \u001b[0mkwargs_\u001b[0m \u001b[0;34m=\u001b[0m \u001b[0mcheck_all\u001b[0m\u001b[0;34m(\u001b[0m\u001b[0m__original_func\u001b[0m\u001b[0;34m,\u001b[0m \u001b[0margs\u001b[0m\u001b[0;34m,\u001b[0m \u001b[0mkwargs\u001b[0m\u001b[0;34m,\u001b[0m \u001b[0mcheckers\u001b[0m\u001b[0;34m,\u001b[0m \u001b[0mis_method\u001b[0m\u001b[0;34m=\u001b[0m\u001b[0mis_method\u001b[0m\u001b[0;34m)\u001b[0m\u001b[0;34m\u001b[0m\u001b[0;34m\u001b[0m\u001b[0m\n\u001b[0;32m--> 585\u001b[0;31m         \u001b[0;32mreturn\u001b[0m \u001b[0m__original_func\u001b[0m\u001b[0;34m(\u001b[0m\u001b[0;34m*\u001b[0m\u001b[0margs_\u001b[0m\u001b[0;34m,\u001b[0m \u001b[0;34m**\u001b[0m\u001b[0mkwargs_\u001b[0m\u001b[0;34m)\u001b[0m\u001b[0;34m\u001b[0m\u001b[0;34m\u001b[0m\u001b[0m\n\u001b[0m\u001b[1;32m    586\u001b[0m \u001b[0;34m\u001b[0m\u001b[0m\n\u001b[1;32m    587\u001b[0m     \u001b[0;32mreturn\u001b[0m \u001b[0mwrapper\u001b[0m\u001b[0;34m\u001b[0m\u001b[0;34m\u001b[0m\u001b[0m\n",
      "\u001b[0;32m/vol/bmd/yanyul/softwares/conda_envs/hail/lib/python3.7/site-packages/hail/matrixtable.py\u001b[0m in \u001b[0;36mcount_rows\u001b[0;34m(self, _localize)\u001b[0m\n\u001b[1;32m   2382\u001b[0m         \u001b[0mir\u001b[0m \u001b[0;34m=\u001b[0m \u001b[0mTableCount\u001b[0m\u001b[0;34m(\u001b[0m\u001b[0mMatrixRowsTable\u001b[0m\u001b[0;34m(\u001b[0m\u001b[0mself\u001b[0m\u001b[0;34m.\u001b[0m\u001b[0m_mir\u001b[0m\u001b[0;34m)\u001b[0m\u001b[0;34m)\u001b[0m\u001b[0;34m\u001b[0m\u001b[0;34m\u001b[0m\u001b[0m\n\u001b[1;32m   2383\u001b[0m         \u001b[0;32mif\u001b[0m \u001b[0m_localize\u001b[0m\u001b[0;34m:\u001b[0m\u001b[0;34m\u001b[0m\u001b[0;34m\u001b[0m\u001b[0m\n\u001b[0;32m-> 2384\u001b[0;31m             \u001b[0;32mreturn\u001b[0m \u001b[0mEnv\u001b[0m\u001b[0;34m.\u001b[0m\u001b[0mbackend\u001b[0m\u001b[0;34m(\u001b[0m\u001b[0;34m)\u001b[0m\u001b[0;34m.\u001b[0m\u001b[0mexecute\u001b[0m\u001b[0;34m(\u001b[0m\u001b[0mir\u001b[0m\u001b[0;34m)\u001b[0m\u001b[0;34m\u001b[0m\u001b[0;34m\u001b[0m\u001b[0m\n\u001b[0m\u001b[1;32m   2385\u001b[0m         \u001b[0;32melse\u001b[0m\u001b[0;34m:\u001b[0m\u001b[0;34m\u001b[0m\u001b[0;34m\u001b[0m\u001b[0m\n\u001b[1;32m   2386\u001b[0m             \u001b[0;32mreturn\u001b[0m \u001b[0mconstruct_expr\u001b[0m\u001b[0;34m(\u001b[0m\u001b[0mir\u001b[0m\u001b[0;34m,\u001b[0m \u001b[0mhl\u001b[0m\u001b[0;34m.\u001b[0m\u001b[0mtint64\u001b[0m\u001b[0;34m)\u001b[0m\u001b[0;34m\u001b[0m\u001b[0;34m\u001b[0m\u001b[0m\n",
      "\u001b[0;32m/vol/bmd/yanyul/softwares/conda_envs/hail/lib/python3.7/site-packages/hail/backend/backend.py\u001b[0m in \u001b[0;36mexecute\u001b[0;34m(self, ir, timed)\u001b[0m\n\u001b[1;32m    107\u001b[0m \u001b[0;34m\u001b[0m\u001b[0m\n\u001b[1;32m    108\u001b[0m     \u001b[0;32mdef\u001b[0m \u001b[0mexecute\u001b[0m\u001b[0;34m(\u001b[0m\u001b[0mself\u001b[0m\u001b[0;34m,\u001b[0m \u001b[0mir\u001b[0m\u001b[0;34m,\u001b[0m \u001b[0mtimed\u001b[0m\u001b[0;34m=\u001b[0m\u001b[0;32mFalse\u001b[0m\u001b[0;34m)\u001b[0m\u001b[0;34m:\u001b[0m\u001b[0;34m\u001b[0m\u001b[0;34m\u001b[0m\u001b[0m\n\u001b[0;32m--> 109\u001b[0;31m         \u001b[0mresult\u001b[0m \u001b[0;34m=\u001b[0m \u001b[0mjson\u001b[0m\u001b[0;34m.\u001b[0m\u001b[0mloads\u001b[0m\u001b[0;34m(\u001b[0m\u001b[0mEnv\u001b[0m\u001b[0;34m.\u001b[0m\u001b[0mhc\u001b[0m\u001b[0;34m(\u001b[0m\u001b[0;34m)\u001b[0m\u001b[0;34m.\u001b[0m\u001b[0m_jhc\u001b[0m\u001b[0;34m.\u001b[0m\u001b[0mbackend\u001b[0m\u001b[0;34m(\u001b[0m\u001b[0;34m)\u001b[0m\u001b[0;34m.\u001b[0m\u001b[0mexecuteJSON\u001b[0m\u001b[0;34m(\u001b[0m\u001b[0mself\u001b[0m\u001b[0;34m.\u001b[0m\u001b[0m_to_java_ir\u001b[0m\u001b[0;34m(\u001b[0m\u001b[0mir\u001b[0m\u001b[0;34m)\u001b[0m\u001b[0;34m)\u001b[0m\u001b[0;34m)\u001b[0m\u001b[0;34m\u001b[0m\u001b[0;34m\u001b[0m\u001b[0m\n\u001b[0m\u001b[1;32m    110\u001b[0m         \u001b[0mvalue\u001b[0m \u001b[0;34m=\u001b[0m \u001b[0mir\u001b[0m\u001b[0;34m.\u001b[0m\u001b[0mtyp\u001b[0m\u001b[0;34m.\u001b[0m\u001b[0m_from_json\u001b[0m\u001b[0;34m(\u001b[0m\u001b[0mresult\u001b[0m\u001b[0;34m[\u001b[0m\u001b[0;34m'value'\u001b[0m\u001b[0;34m]\u001b[0m\u001b[0;34m)\u001b[0m\u001b[0;34m\u001b[0m\u001b[0;34m\u001b[0m\u001b[0m\n\u001b[1;32m    111\u001b[0m         \u001b[0mtimings\u001b[0m \u001b[0;34m=\u001b[0m \u001b[0mresult\u001b[0m\u001b[0;34m[\u001b[0m\u001b[0;34m'timings'\u001b[0m\u001b[0;34m]\u001b[0m\u001b[0;34m\u001b[0m\u001b[0;34m\u001b[0m\u001b[0m\n",
      "\u001b[0;32m/vol/bmd/yanyul/softwares/conda_envs/hail/lib/python3.7/site-packages/py4j/java_gateway.py\u001b[0m in \u001b[0;36m__call__\u001b[0;34m(self, *args)\u001b[0m\n\u001b[1;32m   1253\u001b[0m             \u001b[0mproto\u001b[0m\u001b[0;34m.\u001b[0m\u001b[0mEND_COMMAND_PART\u001b[0m\u001b[0;34m\u001b[0m\u001b[0;34m\u001b[0m\u001b[0m\n\u001b[1;32m   1254\u001b[0m \u001b[0;34m\u001b[0m\u001b[0m\n\u001b[0;32m-> 1255\u001b[0;31m         \u001b[0manswer\u001b[0m \u001b[0;34m=\u001b[0m \u001b[0mself\u001b[0m\u001b[0;34m.\u001b[0m\u001b[0mgateway_client\u001b[0m\u001b[0;34m.\u001b[0m\u001b[0msend_command\u001b[0m\u001b[0;34m(\u001b[0m\u001b[0mcommand\u001b[0m\u001b[0;34m)\u001b[0m\u001b[0;34m\u001b[0m\u001b[0;34m\u001b[0m\u001b[0m\n\u001b[0m\u001b[1;32m   1256\u001b[0m         return_value = get_return_value(\n\u001b[1;32m   1257\u001b[0m             answer, self.gateway_client, self.target_id, self.name)\n",
      "\u001b[0;32m/vol/bmd/yanyul/softwares/conda_envs/hail/lib/python3.7/site-packages/py4j/java_gateway.py\u001b[0m in \u001b[0;36msend_command\u001b[0;34m(self, command, retry, binary)\u001b[0m\n\u001b[1;32m    983\u001b[0m         \u001b[0mconnection\u001b[0m \u001b[0;34m=\u001b[0m \u001b[0mself\u001b[0m\u001b[0;34m.\u001b[0m\u001b[0m_get_connection\u001b[0m\u001b[0;34m(\u001b[0m\u001b[0;34m)\u001b[0m\u001b[0;34m\u001b[0m\u001b[0;34m\u001b[0m\u001b[0m\n\u001b[1;32m    984\u001b[0m         \u001b[0;32mtry\u001b[0m\u001b[0;34m:\u001b[0m\u001b[0;34m\u001b[0m\u001b[0;34m\u001b[0m\u001b[0m\n\u001b[0;32m--> 985\u001b[0;31m             \u001b[0mresponse\u001b[0m \u001b[0;34m=\u001b[0m \u001b[0mconnection\u001b[0m\u001b[0;34m.\u001b[0m\u001b[0msend_command\u001b[0m\u001b[0;34m(\u001b[0m\u001b[0mcommand\u001b[0m\u001b[0;34m)\u001b[0m\u001b[0;34m\u001b[0m\u001b[0;34m\u001b[0m\u001b[0m\n\u001b[0m\u001b[1;32m    986\u001b[0m             \u001b[0;32mif\u001b[0m \u001b[0mbinary\u001b[0m\u001b[0;34m:\u001b[0m\u001b[0;34m\u001b[0m\u001b[0;34m\u001b[0m\u001b[0m\n\u001b[1;32m    987\u001b[0m                 \u001b[0;32mreturn\u001b[0m \u001b[0mresponse\u001b[0m\u001b[0;34m,\u001b[0m \u001b[0mself\u001b[0m\u001b[0;34m.\u001b[0m\u001b[0m_create_connection_guard\u001b[0m\u001b[0;34m(\u001b[0m\u001b[0mconnection\u001b[0m\u001b[0;34m)\u001b[0m\u001b[0;34m\u001b[0m\u001b[0;34m\u001b[0m\u001b[0m\n",
      "\u001b[0;32m/vol/bmd/yanyul/softwares/conda_envs/hail/lib/python3.7/site-packages/py4j/java_gateway.py\u001b[0m in \u001b[0;36msend_command\u001b[0;34m(self, command)\u001b[0m\n\u001b[1;32m   1150\u001b[0m \u001b[0;34m\u001b[0m\u001b[0m\n\u001b[1;32m   1151\u001b[0m         \u001b[0;32mtry\u001b[0m\u001b[0;34m:\u001b[0m\u001b[0;34m\u001b[0m\u001b[0;34m\u001b[0m\u001b[0m\n\u001b[0;32m-> 1152\u001b[0;31m             \u001b[0manswer\u001b[0m \u001b[0;34m=\u001b[0m \u001b[0msmart_decode\u001b[0m\u001b[0;34m(\u001b[0m\u001b[0mself\u001b[0m\u001b[0;34m.\u001b[0m\u001b[0mstream\u001b[0m\u001b[0;34m.\u001b[0m\u001b[0mreadline\u001b[0m\u001b[0;34m(\u001b[0m\u001b[0;34m)\u001b[0m\u001b[0;34m[\u001b[0m\u001b[0;34m:\u001b[0m\u001b[0;34m-\u001b[0m\u001b[0;36m1\u001b[0m\u001b[0;34m]\u001b[0m\u001b[0;34m)\u001b[0m\u001b[0;34m\u001b[0m\u001b[0;34m\u001b[0m\u001b[0m\n\u001b[0m\u001b[1;32m   1153\u001b[0m             \u001b[0mlogger\u001b[0m\u001b[0;34m.\u001b[0m\u001b[0mdebug\u001b[0m\u001b[0;34m(\u001b[0m\u001b[0;34m\"Answer received: {0}\"\u001b[0m\u001b[0;34m.\u001b[0m\u001b[0mformat\u001b[0m\u001b[0;34m(\u001b[0m\u001b[0manswer\u001b[0m\u001b[0;34m)\u001b[0m\u001b[0;34m)\u001b[0m\u001b[0;34m\u001b[0m\u001b[0;34m\u001b[0m\u001b[0m\n\u001b[1;32m   1154\u001b[0m             \u001b[0;32mif\u001b[0m \u001b[0manswer\u001b[0m\u001b[0;34m.\u001b[0m\u001b[0mstartswith\u001b[0m\u001b[0;34m(\u001b[0m\u001b[0mproto\u001b[0m\u001b[0;34m.\u001b[0m\u001b[0mRETURN_MESSAGE\u001b[0m\u001b[0;34m)\u001b[0m\u001b[0;34m:\u001b[0m\u001b[0;34m\u001b[0m\u001b[0;34m\u001b[0m\u001b[0m\n",
      "\u001b[0;32m/vol/bmd/yanyul/softwares/conda_envs/hail/lib/python3.7/socket.py\u001b[0m in \u001b[0;36mreadinto\u001b[0;34m(self, b)\u001b[0m\n\u001b[1;32m    587\u001b[0m         \u001b[0;32mwhile\u001b[0m \u001b[0;32mTrue\u001b[0m\u001b[0;34m:\u001b[0m\u001b[0;34m\u001b[0m\u001b[0;34m\u001b[0m\u001b[0m\n\u001b[1;32m    588\u001b[0m             \u001b[0;32mtry\u001b[0m\u001b[0;34m:\u001b[0m\u001b[0;34m\u001b[0m\u001b[0;34m\u001b[0m\u001b[0m\n\u001b[0;32m--> 589\u001b[0;31m                 \u001b[0;32mreturn\u001b[0m \u001b[0mself\u001b[0m\u001b[0;34m.\u001b[0m\u001b[0m_sock\u001b[0m\u001b[0;34m.\u001b[0m\u001b[0mrecv_into\u001b[0m\u001b[0;34m(\u001b[0m\u001b[0mb\u001b[0m\u001b[0;34m)\u001b[0m\u001b[0;34m\u001b[0m\u001b[0;34m\u001b[0m\u001b[0m\n\u001b[0m\u001b[1;32m    590\u001b[0m             \u001b[0;32mexcept\u001b[0m \u001b[0mtimeout\u001b[0m\u001b[0;34m:\u001b[0m\u001b[0;34m\u001b[0m\u001b[0;34m\u001b[0m\u001b[0m\n\u001b[1;32m    591\u001b[0m                 \u001b[0mself\u001b[0m\u001b[0;34m.\u001b[0m\u001b[0m_timeout_occurred\u001b[0m \u001b[0;34m=\u001b[0m \u001b[0;32mTrue\u001b[0m\u001b[0;34m\u001b[0m\u001b[0;34m\u001b[0m\u001b[0m\n",
      "\u001b[0;31mKeyboardInterrupt\u001b[0m: "
     ]
    }
   ],
   "source": [
    "mt = mt.filter_rows(mt.variant_qc.AF[1] > 0.01)\n",
    "print(mt.count_rows())"
   ]
  },
  {
   "cell_type": "code",
   "execution_count": null,
   "metadata": {},
   "outputs": [],
   "source": [
    "# mt = mt.filter_rows(mt.variant_qc.p_value_hwe > 1e-6)\n",
    "print(mt.filter_rows(mt.variant_qc.p_value_hwe > 1e-6).count_rows())"
   ]
  },
  {
   "cell_type": "code",
   "execution_count": null,
   "metadata": {},
   "outputs": [],
   "source": [
    "mt.rsid.show(5)"
   ]
  },
  {
   "cell_type": "code",
   "execution_count": null,
   "metadata": {},
   "outputs": [],
   "source": [
    "gwas = hl.linear_regression_rows(y = [ mt.pheno.bmi, mt.pheno.height ],\n",
    "                                 x = mt.GT.n_alt_alleles(),\n",
    "                                 covariates=[ 1.0, mt.pheno.age_recruitment, mt.pheno.sex, mt.pheno.sex * mt.pheno.age_recruitment ])\n",
    "# gwas2 = hl.linear_regression_rows(y = mt.pheno.height,\n",
    "#                                  x = mt.GT.n_alt_alleles(),\n",
    "#                                  covariates=[ 1.0, mt.pheno.age_recruitment, mt.pheno.sex, mt.pheno.sex * mt.pheno.age_recruitment ])"
   ]
  },
  {
   "cell_type": "code",
   "execution_count": null,
   "metadata": {},
   "outputs": [],
   "source": [
    "# tmp = gwas.export('./first_attempt_on_hail.output.tsv.bgz')"
   ]
  },
  {
   "cell_type": "code",
   "execution_count": 27,
   "metadata": {},
   "outputs": [
    {
     "name": "stdout",
     "output_type": "stream",
     "text": [
      "----------------------------------------\n",
      "Global fields:\n",
      "    None\n",
      "----------------------------------------\n",
      "Row fields:\n",
      "    'locus': locus<GRCh37> \n",
      "    'alleles': array<str> \n",
      "    'n': int32 \n",
      "    'sum_x': float64 \n",
      "    'y_transpose_x': array<float64> \n",
      "    'beta': array<float64> \n",
      "    'standard_error': array<float64> \n",
      "    't_stat': array<float64> \n",
      "    'p_value': array<float64> \n",
      "----------------------------------------\n",
      "Key: ['locus', 'alleles']\n",
      "----------------------------------------\n"
     ]
    },
    {
     "name": "stderr",
     "output_type": "stream",
     "text": [
      "2019-12-06 22:29:02 Hail: INFO: merging 293 files totalling 13.9M...\n",
      "2019-12-06 22:29:02 Hail: INFO: while writing:\n",
      "    ./first_attempt_on_hail.output.tsv.gz\n",
      "  merge time: 263.452ms\n"
     ]
    }
   ],
   "source": [
    "gwas.describe()\n",
    "gwas.export('./first_attempt_on_hail.output.tsv.gz')"
   ]
  }
 ],
 "metadata": {
  "kernelspec": {
   "display_name": "Python 3",
   "language": "python",
   "name": "python3"
  },
  "language_info": {
   "codemirror_mode": {
    "name": "ipython",
    "version": 3
   },
   "file_extension": ".py",
   "mimetype": "text/x-python",
   "name": "python",
   "nbconvert_exporter": "python",
   "pygments_lexer": "ipython3",
   "version": "3.7.5"
  }
 },
 "nbformat": 4,
 "nbformat_minor": 2
}
