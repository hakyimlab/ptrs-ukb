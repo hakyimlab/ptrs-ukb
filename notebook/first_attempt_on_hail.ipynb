{
 "cells": [
  {
   "cell_type": "code",
   "execution_count": 1,
   "metadata": {},
   "outputs": [
    {
     "name": "stdout",
     "output_type": "stream",
     "text": [
      "--driver-memory 40G --executor-memory 8g pyspark-shell\r\n"
     ]
    }
   ],
   "source": [
    "# !export PYSPARK_SUBMIT_ARGS=\"--driver-memory 40G --executor-memory 8g pyspark-shell\"\n",
    "!echo $PYSPARK_SUBMIT_ARGS"
   ]
  },
  {
   "cell_type": "code",
   "execution_count": 2,
   "metadata": {},
   "outputs": [],
   "source": [
    "import hail as hl\n",
    "import pandas as pd"
   ]
  },
  {
   "cell_type": "code",
   "execution_count": 3,
   "metadata": {},
   "outputs": [
    {
     "name": "stderr",
     "output_type": "stream",
     "text": [
      "Initializing Spark and Hail with default parameters...\n",
      "Running on Apache Spark version 2.4.1\n",
      "SparkUI available at http://nucleus.cels.anl.gov:4040\n",
      "Welcome to\n",
      "     __  __     <>__\n",
      "    / /_/ /__  __/ /\n",
      "   / __  / _ `/ / /\n",
      "  /_/ /_/\\_,_/_/_/   version 0.2.28-61941242c15d\n",
      "LOGGING: writing to /vol/bmd/yanyul/GitHub/ptrs-ukb/notebook/hail-20191206-2351-0.2.28-61941242c15d.log\n",
      "2019-12-06 23:51:41 Hail: INFO: Number of BGEN files parsed: 1\n",
      "2019-12-06 23:51:41 Hail: INFO: Number of samples in BGEN files: 487409\n",
      "2019-12-06 23:51:41 Hail: INFO: Number of variants across all BGEN files: 1255683\n"
     ]
    }
   ],
   "source": [
    "mt = hl.import_bgen('/vol/bmd/data/ukbiobank/genotypes/v3/ukb_imp_chr22_v3.bgen', entry_fields = ['GT'], sample_file = '/vol/bmd/data/ukbiobank/genotypes/v3/ukb19526_imp_chr1_v3_s487395.sample')"
   ]
  },
  {
   "cell_type": "code",
   "execution_count": 4,
   "metadata": {},
   "outputs": [],
   "source": [
    "mt = mt.annotate_cols(eid=mt.s.replace(\"\\_\\d+\", \"\"))\n",
    "mt = mt.key_cols_by('eid')"
   ]
  },
  {
   "cell_type": "code",
   "execution_count": 5,
   "metadata": {},
   "outputs": [
    {
     "data": {
      "text/html": [
       "<table><thead style=\"font-weight: bold;\"><tr><td>locus</td><td>alleles</td></tr>\n",
       "<tr><td>locus&lt;GRCh37&gt;</td><td>array&lt;str&gt;</td></tr>\n",
       "</thead><tbody><tr><td>22:16050075</td><td>[&quot;A&quot;,&quot;G&quot;]</td></tr>\n",
       "<tr><td>22:16050115</td><td>[&quot;G&quot;,&quot;A&quot;]</td></tr>\n",
       "<tr><td>22:16050213</td><td>[&quot;C&quot;,&quot;T&quot;]</td></tr>\n",
       "<tr><td>22:16050319</td><td>[&quot;C&quot;,&quot;T&quot;]</td></tr>\n",
       "<tr><td>22:16050435</td><td>[&quot;T&quot;,&quot;C&quot;]</td></tr>\n",
       "</tbody></table><p style=\"background: #fdd; padding: 0.4em;\">showing top 5 rows</p>\n"
      ],
      "text/plain": [
       "+---------------+------------+\n",
       "| locus         | alleles    |\n",
       "+---------------+------------+\n",
       "| locus<GRCh37> | array<str> |\n",
       "+---------------+------------+\n",
       "| 22:16050075   | [\"A\",\"G\"]  |\n",
       "| 22:16050115   | [\"G\",\"A\"]  |\n",
       "| 22:16050213   | [\"C\",\"T\"]  |\n",
       "| 22:16050319   | [\"C\",\"T\"]  |\n",
       "| 22:16050435   | [\"T\",\"C\"]  |\n",
       "+---------------+------------+\n",
       "showing top 5 rows"
      ]
     },
     "metadata": {},
     "output_type": "display_data"
    }
   ],
   "source": [
    "mt.rows().select().show(5)"
   ]
  },
  {
   "cell_type": "code",
   "execution_count": 6,
   "metadata": {},
   "outputs": [
    {
     "data": {
      "text/html": [
       "<table><thead style=\"font-weight: bold;\"><tr><td>locus</td><td>alleles</td></tr>\n",
       "<tr><td>locus&lt;GRCh37&gt;</td><td>array&lt;str&gt;</td></tr>\n",
       "</thead><tbody><tr><td>22:16050075</td><td>[&quot;A&quot;,&quot;G&quot;]</td></tr>\n",
       "<tr><td>22:16050115</td><td>[&quot;G&quot;,&quot;A&quot;]</td></tr>\n",
       "<tr><td>22:16050213</td><td>[&quot;C&quot;,&quot;T&quot;]</td></tr>\n",
       "<tr><td>22:16050319</td><td>[&quot;C&quot;,&quot;T&quot;]</td></tr>\n",
       "<tr><td>22:16050435</td><td>[&quot;T&quot;,&quot;C&quot;]</td></tr>\n",
       "</tbody></table><p style=\"background: #fdd; padding: 0.4em;\">showing top 5 rows</p>\n"
      ],
      "text/plain": [
       "+---------------+------------+\n",
       "| locus         | alleles    |\n",
       "+---------------+------------+\n",
       "| locus<GRCh37> | array<str> |\n",
       "+---------------+------------+\n",
       "| 22:16050075   | [\"A\",\"G\"]  |\n",
       "| 22:16050115   | [\"G\",\"A\"]  |\n",
       "| 22:16050213   | [\"C\",\"T\"]  |\n",
       "| 22:16050319   | [\"C\",\"T\"]  |\n",
       "| 22:16050435   | [\"T\",\"C\"]  |\n",
       "+---------------+------------+\n",
       "showing top 5 rows"
      ]
     },
     "metadata": {},
     "output_type": "display_data"
    }
   ],
   "source": [
    "mt.row_key.show(5)"
   ]
  },
  {
   "cell_type": "code",
   "execution_count": 7,
   "metadata": {},
   "outputs": [
    {
     "data": {
      "text/html": [
       "<table><thead style=\"font-weight: bold;\"><tr><td>eid</td><td>s</td></tr>\n",
       "<tr><td>str</td><td>str</td></tr>\n",
       "</thead><tbody><tr><td>&quot;2476612&quot;</td><td>&quot;2476612&quot;</td></tr>\n",
       "<tr><td>&quot;5595764&quot;</td><td>&quot;5595764&quot;</td></tr>\n",
       "<tr><td>&quot;5172041&quot;</td><td>&quot;5172041&quot;</td></tr>\n",
       "<tr><td>&quot;3487211&quot;</td><td>&quot;3487211&quot;</td></tr>\n",
       "<tr><td>&quot;2017223&quot;</td><td>&quot;2017223&quot;</td></tr>\n",
       "</tbody></table><p style=\"background: #fdd; padding: 0.4em;\">showing top 5 rows</p>\n"
      ],
      "text/plain": [
       "+-----------+-----------+\n",
       "| eid       | s         |\n",
       "+-----------+-----------+\n",
       "| str       | str       |\n",
       "+-----------+-----------+\n",
       "| \"2476612\" | \"2476612\" |\n",
       "| \"5595764\" | \"5595764\" |\n",
       "| \"5172041\" | \"5172041\" |\n",
       "| \"3487211\" | \"3487211\" |\n",
       "| \"2017223\" | \"2017223\" |\n",
       "+-----------+-----------+\n",
       "showing top 5 rows"
      ]
     },
     "metadata": {},
     "output_type": "display_data"
    }
   ],
   "source": [
    "mt.s.show(5)"
   ]
  },
  {
   "cell_type": "code",
   "execution_count": 8,
   "metadata": {},
   "outputs": [],
   "source": [
    "f = open('/homes/yanyul/query_first_attempt_with_qc.csv', 'r')\n",
    "header = f.readlines()[0].strip().split(',')\n",
    "f.close()\n",
    "list_of_str = ['eid', 'meaning', 'ethnicity_agg']\n",
    "header_dic = {}\n",
    "for i in header:\n",
    "    if i in list_of_str:\n",
    "        header_dic[i] = hl.tstr\n",
    "    else:\n",
    "        header_dic[i] = hl.tfloat64"
   ]
  },
  {
   "cell_type": "code",
   "execution_count": 9,
   "metadata": {},
   "outputs": [
    {
     "name": "stderr",
     "output_type": "stream",
     "text": [
      "2019-12-06 23:51:56 Hail: INFO: Reading table with no type imputation\n",
      "  Loading column 'eid' as type 'str' (user-specified)\n",
      "  Loading column 'age_recruitment' as type 'float64' (user-specified)\n",
      "  Loading column 'sex' as type 'float64' (user-specified)\n",
      "  Loading column 'pc1' as type 'float64' (user-specified)\n",
      "  Loading column 'pc2' as type 'float64' (user-specified)\n",
      "  Loading column 'pc3' as type 'float64' (user-specified)\n",
      "  Loading column 'pc4' as type 'float64' (user-specified)\n",
      "  Loading column 'pc5' as type 'float64' (user-specified)\n",
      "  Loading column 'pc6' as type 'float64' (user-specified)\n",
      "  Loading column 'pc7' as type 'float64' (user-specified)\n",
      "  Loading column 'pc8' as type 'float64' (user-specified)\n",
      "  Loading column 'pc9' as type 'float64' (user-specified)\n",
      "  Loading column 'pc10' as type 'float64' (user-specified)\n",
      "  Loading column 'ethnicity_agg' as type 'str' (user-specified)\n",
      "  Loading column 'meaning' as type 'str' (user-specified)\n",
      "  Loading column 'height' as type 'float64' (user-specified)\n",
      "  Loading column 'dbp' as type 'float64' (user-specified)\n",
      "  Loading column 'sbp' as type 'float64' (user-specified)\n",
      "  Loading column 'bmi' as type 'float64' (user-specified)\n",
      "  Loading column 'wbc' as type 'float64' (user-specified)\n",
      "  Loading column 'rbc' as type 'float64' (user-specified)\n",
      "  Loading column 'hb' as type 'float64' (user-specified)\n",
      "  Loading column 'ht' as type 'float64' (user-specified)\n",
      "  Loading column 'mcv' as type 'float64' (user-specified)\n",
      "  Loading column 'mch' as type 'float64' (user-specified)\n",
      "  Loading column 'mchc' as type 'float64' (user-specified)\n",
      "  Loading column 'platelet' as type 'float64' (user-specified)\n",
      "  Loading column 'lymphocyte' as type 'float64' (user-specified)\n",
      "  Loading column 'monocyte' as type 'float64' (user-specified)\n",
      "  Loading column 'neutrophil' as type 'float64' (user-specified)\n",
      "  Loading column 'eosinophil' as type 'float64' (user-specified)\n",
      "  Loading column 'basophil' as type 'float64' (user-specified)\n",
      "\n"
     ]
    }
   ],
   "source": [
    "pheno = (hl.import_table('/homes/yanyul/query_first_attempt_with_qc.csv', types = header_dic, delimiter = ',').key_by('eid'))"
   ]
  },
  {
   "cell_type": "code",
   "execution_count": 10,
   "metadata": {},
   "outputs": [
    {
     "data": {
      "text/plain": [
       "1255683"
      ]
     },
     "execution_count": 10,
     "metadata": {},
     "output_type": "execute_result"
    }
   ],
   "source": [
    "mt.count_rows()"
   ]
  },
  {
   "cell_type": "code",
   "execution_count": 11,
   "metadata": {},
   "outputs": [
    {
     "data": {
      "text/plain": [
       "356476"
      ]
     },
     "execution_count": 11,
     "metadata": {},
     "output_type": "execute_result"
    }
   ],
   "source": [
    "pheno = pheno.filter(pheno.meaning == 'British')\n",
    "pheno.count()"
   ]
  },
  {
   "cell_type": "code",
   "execution_count": 12,
   "metadata": {},
   "outputs": [],
   "source": [
    "mt = mt.annotate_cols(pheno = pheno[mt.eid])"
   ]
  },
  {
   "cell_type": "code",
   "execution_count": 13,
   "metadata": {},
   "outputs": [
    {
     "name": "stdout",
     "output_type": "stream",
     "text": [
      "--------------------------------------------------------\n",
      "Type:\n",
      "        struct {\n",
      "        s: str, \n",
      "        eid: str, \n",
      "        pheno: struct {\n",
      "            age_recruitment: float64, \n",
      "            sex: float64, \n",
      "            pc1: float64, \n",
      "            pc2: float64, \n",
      "            pc3: float64, \n",
      "            pc4: float64, \n",
      "            pc5: float64, \n",
      "            pc6: float64, \n",
      "            pc7: float64, \n",
      "            pc8: float64, \n",
      "            pc9: float64, \n",
      "            pc10: float64, \n",
      "            ethnicity_agg: str, \n",
      "            meaning: str, \n",
      "            height: float64, \n",
      "            dbp: float64, \n",
      "            sbp: float64, \n",
      "            bmi: float64, \n",
      "            wbc: float64, \n",
      "            rbc: float64, \n",
      "            hb: float64, \n",
      "            ht: float64, \n",
      "            mcv: float64, \n",
      "            mch: float64, \n",
      "            mchc: float64, \n",
      "            platelet: float64, \n",
      "            lymphocyte: float64, \n",
      "            monocyte: float64, \n",
      "            neutrophil: float64, \n",
      "            eosinophil: float64, \n",
      "            basophil: float64\n",
      "        }\n",
      "    }\n",
      "--------------------------------------------------------\n",
      "Source:\n",
      "    <hail.matrixtable.MatrixTable object at 0x7fe39b8b76d0>\n",
      "Index:\n",
      "    ['column']\n",
      "--------------------------------------------------------\n"
     ]
    }
   ],
   "source": [
    "mt.col.describe()"
   ]
  },
  {
   "cell_type": "code",
   "execution_count": 14,
   "metadata": {},
   "outputs": [
    {
     "name": "stdout",
     "output_type": "stream",
     "text": [
      "356476\n",
      "487409\n"
     ]
    }
   ],
   "source": [
    "print(pheno.count())\n",
    "print(mt.count_cols())"
   ]
  },
  {
   "cell_type": "code",
   "execution_count": 15,
   "metadata": {},
   "outputs": [
    {
     "data": {
      "text/plain": [
       "{'British': 356476, None: 130933}"
      ]
     },
     "execution_count": 15,
     "metadata": {},
     "output_type": "execute_result"
    }
   ],
   "source": [
    "mt.aggregate_cols(hl.agg.counter(mt.pheno.meaning))"
   ]
  },
  {
   "cell_type": "code",
   "execution_count": 16,
   "metadata": {},
   "outputs": [],
   "source": [
    "# snp_counts = mt.aggregate_rows(hl.agg.counter(hl.Struct(ref=mt.alleles[0], alt=mt.alleles[1])))"
   ]
  },
  {
   "cell_type": "code",
   "execution_count": 17,
   "metadata": {},
   "outputs": [
    {
     "name": "stdout",
     "output_type": "stream",
     "text": [
      "--------------------------------------------------------\n",
      "Type:\n",
      "        struct {\n",
      "        s: str, \n",
      "        eid: str, \n",
      "        pheno: struct {\n",
      "            age_recruitment: float64, \n",
      "            sex: float64, \n",
      "            pc1: float64, \n",
      "            pc2: float64, \n",
      "            pc3: float64, \n",
      "            pc4: float64, \n",
      "            pc5: float64, \n",
      "            pc6: float64, \n",
      "            pc7: float64, \n",
      "            pc8: float64, \n",
      "            pc9: float64, \n",
      "            pc10: float64, \n",
      "            ethnicity_agg: str, \n",
      "            meaning: str, \n",
      "            height: float64, \n",
      "            dbp: float64, \n",
      "            sbp: float64, \n",
      "            bmi: float64, \n",
      "            wbc: float64, \n",
      "            rbc: float64, \n",
      "            hb: float64, \n",
      "            ht: float64, \n",
      "            mcv: float64, \n",
      "            mch: float64, \n",
      "            mchc: float64, \n",
      "            platelet: float64, \n",
      "            lymphocyte: float64, \n",
      "            monocyte: float64, \n",
      "            neutrophil: float64, \n",
      "            eosinophil: float64, \n",
      "            basophil: float64\n",
      "        }\n",
      "    }\n",
      "--------------------------------------------------------\n",
      "Source:\n",
      "    <hail.matrixtable.MatrixTable object at 0x7fe39b8b76d0>\n",
      "Index:\n",
      "    ['column']\n",
      "--------------------------------------------------------\n"
     ]
    }
   ],
   "source": [
    "mt.col.describe()"
   ]
  },
  {
   "cell_type": "code",
   "execution_count": 18,
   "metadata": {},
   "outputs": [],
   "source": [
    "mt = hl.sample_qc(mt)"
   ]
  },
  {
   "cell_type": "code",
   "execution_count": 19,
   "metadata": {},
   "outputs": [
    {
     "name": "stdout",
     "output_type": "stream",
     "text": [
      "--------------------------------------------------------\n",
      "Type:\n",
      "        struct {\n",
      "        s: str, \n",
      "        eid: str, \n",
      "        pheno: struct {\n",
      "            age_recruitment: float64, \n",
      "            sex: float64, \n",
      "            pc1: float64, \n",
      "            pc2: float64, \n",
      "            pc3: float64, \n",
      "            pc4: float64, \n",
      "            pc5: float64, \n",
      "            pc6: float64, \n",
      "            pc7: float64, \n",
      "            pc8: float64, \n",
      "            pc9: float64, \n",
      "            pc10: float64, \n",
      "            ethnicity_agg: str, \n",
      "            meaning: str, \n",
      "            height: float64, \n",
      "            dbp: float64, \n",
      "            sbp: float64, \n",
      "            bmi: float64, \n",
      "            wbc: float64, \n",
      "            rbc: float64, \n",
      "            hb: float64, \n",
      "            ht: float64, \n",
      "            mcv: float64, \n",
      "            mch: float64, \n",
      "            mchc: float64, \n",
      "            platelet: float64, \n",
      "            lymphocyte: float64, \n",
      "            monocyte: float64, \n",
      "            neutrophil: float64, \n",
      "            eosinophil: float64, \n",
      "            basophil: float64\n",
      "        }, \n",
      "        sample_qc: struct {\n",
      "            call_rate: float64, \n",
      "            n_called: int64, \n",
      "            n_not_called: int64, \n",
      "            n_filtered: int64, \n",
      "            n_hom_ref: int64, \n",
      "            n_het: int64, \n",
      "            n_hom_var: int64, \n",
      "            n_non_ref: int64, \n",
      "            n_singleton: int64, \n",
      "            n_snp: int64, \n",
      "            n_insertion: int64, \n",
      "            n_deletion: int64, \n",
      "            n_transition: int64, \n",
      "            n_transversion: int64, \n",
      "            n_star: int64, \n",
      "            r_ti_tv: float64, \n",
      "            r_het_hom_var: float64, \n",
      "            r_insertion_deletion: float64\n",
      "        }\n",
      "    }\n",
      "--------------------------------------------------------\n",
      "Source:\n",
      "    <hail.matrixtable.MatrixTable object at 0x7fe39b778e90>\n",
      "Index:\n",
      "    ['column']\n",
      "--------------------------------------------------------\n"
     ]
    }
   ],
   "source": [
    "mt.col.describe()"
   ]
  },
  {
   "cell_type": "code",
   "execution_count": 20,
   "metadata": {},
   "outputs": [],
   "source": [
    "\n",
    "# p = hl.plot.histogram(mt.sample_qc.call_rate, range=(.88,1), legend='Call Rate')\n",
    "# hail.plot.show(p)"
   ]
  },
  {
   "cell_type": "code",
   "execution_count": 21,
   "metadata": {},
   "outputs": [],
   "source": [
    "mt = hl.variant_qc(mt)"
   ]
  },
  {
   "cell_type": "code",
   "execution_count": 22,
   "metadata": {},
   "outputs": [
    {
     "name": "stdout",
     "output_type": "stream",
     "text": [
      "--------------------------------------------------------\n",
      "Type:\n",
      "        struct {\n",
      "        locus: locus<GRCh37>, \n",
      "        alleles: array<str>, \n",
      "        rsid: str, \n",
      "        varid: str, \n",
      "        variant_qc: struct {\n",
      "            AC: array<int32>, \n",
      "            AF: array<float64>, \n",
      "            AN: int32, \n",
      "            homozygote_count: array<int32>, \n",
      "            call_rate: float64, \n",
      "            n_called: int64, \n",
      "            n_not_called: int64, \n",
      "            n_filtered: int64, \n",
      "            n_het: int64, \n",
      "            n_non_ref: int64, \n",
      "            het_freq_hwe: float64, \n",
      "            p_value_hwe: float64\n",
      "        }\n",
      "    }\n",
      "--------------------------------------------------------\n",
      "Source:\n",
      "    <hail.matrixtable.MatrixTable object at 0x7fe39a73b8d0>\n",
      "Index:\n",
      "    ['row']\n",
      "--------------------------------------------------------\n"
     ]
    }
   ],
   "source": [
    "mt.row.describe()"
   ]
  },
  {
   "cell_type": "code",
   "execution_count": null,
   "metadata": {},
   "outputs": [],
   "source": [
    "mt = mt.filter_rows(mt.variant_qc.AF[1] > 0.01)\n",
    "print(mt.count_rows())"
   ]
  },
  {
   "cell_type": "code",
   "execution_count": null,
   "metadata": {},
   "outputs": [],
   "source": [
    "# mt = mt.filter_rows(mt.variant_qc.p_value_hwe > 1e-6)\n",
    "print(mt.filter_rows(mt.variant_qc.p_value_hwe > 1e-6).count_rows())"
   ]
  },
  {
   "cell_type": "code",
   "execution_count": null,
   "metadata": {},
   "outputs": [],
   "source": [
    "gwas = hl.linear_regression_rows(y = [ mt.pheno.bmi, mt.pheno.height ],\n",
    "                                 x = mt.GT.n_alt_alleles(),\n",
    "                                 covariates=[ 1.0, mt.pheno.age_recruitment, mt.pheno.sex, mt.pheno.sex * mt.pheno.age_recruitment ])\n",
    "# gwas2 = hl.linear_regression_rows(y = mt.pheno.height,\n",
    "#                                  x = mt.GT.n_alt_alleles(),\n",
    "#                                  covariates=[ 1.0, mt.pheno.age_recruitment, mt.pheno.sex, mt.pheno.sex * mt.pheno.age_recruitment ])"
   ]
  },
  {
   "cell_type": "code",
   "execution_count": null,
   "metadata": {},
   "outputs": [],
   "source": [
    "# tmp = gwas.export('./first_attempt_on_hail.output.tsv.bgz')"
   ]
  },
  {
   "cell_type": "code",
   "execution_count": 27,
   "metadata": {},
   "outputs": [
    {
     "name": "stdout",
     "output_type": "stream",
     "text": [
      "----------------------------------------\n",
      "Global fields:\n",
      "    None\n",
      "----------------------------------------\n",
      "Row fields:\n",
      "    'locus': locus<GRCh37> \n",
      "    'alleles': array<str> \n",
      "    'n': int32 \n",
      "    'sum_x': float64 \n",
      "    'y_transpose_x': array<float64> \n",
      "    'beta': array<float64> \n",
      "    'standard_error': array<float64> \n",
      "    't_stat': array<float64> \n",
      "    'p_value': array<float64> \n",
      "----------------------------------------\n",
      "Key: ['locus', 'alleles']\n",
      "----------------------------------------\n"
     ]
    },
    {
     "name": "stderr",
     "output_type": "stream",
     "text": [
      "2019-12-06 22:29:02 Hail: INFO: merging 293 files totalling 13.9M...\n",
      "2019-12-06 22:29:02 Hail: INFO: while writing:\n",
      "    ./first_attempt_on_hail.output.tsv.gz\n",
      "  merge time: 263.452ms\n"
     ]
    }
   ],
   "source": [
    "gwas.describe()\n",
    "gwas.export('./first_attempt_on_hail.output.tsv.gz')"
   ]
  }
 ],
 "metadata": {
  "kernelspec": {
   "display_name": "Python 3",
   "language": "python",
   "name": "python3"
  },
  "language_info": {
   "codemirror_mode": {
    "name": "ipython",
    "version": 3
   },
   "file_extension": ".py",
   "mimetype": "text/x-python",
   "name": "python",
   "nbconvert_exporter": "python",
   "pygments_lexer": "ipython3",
   "version": "3.7.5"
  }
 },
 "nbformat": 4,
 "nbformat_minor": 2
}
