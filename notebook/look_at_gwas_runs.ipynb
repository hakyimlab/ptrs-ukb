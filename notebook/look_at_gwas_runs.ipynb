{
 "cells": [
  {
   "cell_type": "code",
   "execution_count": 1,
   "metadata": {},
   "outputs": [],
   "source": [
    "import hail as hl"
   ]
  },
  {
   "cell_type": "code",
   "execution_count": 2,
   "metadata": {},
   "outputs": [
    {
     "name": "stderr",
     "output_type": "stream",
     "text": [
      "Running on Apache Spark version 2.4.1\n",
      "SparkUI available at http://localhost:4040\n",
      "Welcome to\n",
      "     __  __     <>__\n",
      "    / /_/ /__  __/ /\n",
      "   / __  / _ `/ / /\n",
      "  /_/ /_/\\_,_/_/_/   version 0.2.28-61941242c15d\n",
      "LOGGING: writing to /vol/bmd/yanyul/GitHub/ptrs-ukb/notebook/hail-20191219-2129-0.2.28-61941242c15d.log\n"
     ]
    }
   ],
   "source": [
    "hl.init()"
   ]
  },
  {
   "cell_type": "code",
   "execution_count": 11,
   "metadata": {},
   "outputs": [],
   "source": [
    "import sys \n",
    "sys.path.insert(0, '../code/')\n",
    "from importlib import reload \n",
    "import my_hail_helper as myhelper"
   ]
  },
  {
   "cell_type": "code",
   "execution_count": 3,
   "metadata": {},
   "outputs": [],
   "source": [
    "gwas_out = hl.read_table('/vol/bmd/yanyul/UKB/gwas_on_subset/from_gcp/all_chrs_bottom.ht')"
   ]
  },
  {
   "cell_type": "code",
   "execution_count": 4,
   "metadata": {},
   "outputs": [
    {
     "name": "stdout",
     "output_type": "stream",
     "text": [
      "----------------------------------------\n",
      "Global fields:\n",
      "    'phenotypes': array<array<str>> \n",
      "----------------------------------------\n",
      "Row fields:\n",
      "    'locus': locus<GRCh37> \n",
      "    'alleles': array<str> \n",
      "    'varid': str \n",
      "    'rsid': str \n",
      "    'n': array<int32> \n",
      "    'sum_x': array<float64> \n",
      "    'y_transpose_x': array<array<float64>> \n",
      "    'beta': array<array<float64>> \n",
      "    'standard_error': array<array<float64>> \n",
      "    't_stat': array<array<float64>> \n",
      "    'p_value': array<array<float64>> \n",
      "----------------------------------------\n",
      "Key: ['locus', 'alleles']\n",
      "----------------------------------------\n"
     ]
    }
   ],
   "source": [
    "gwas_out.describe()"
   ]
  },
  {
   "cell_type": "code",
   "execution_count": 5,
   "metadata": {},
   "outputs": [],
   "source": [
    "gwas_out = gwas_out.annotate( \n",
    "    variant = hl.delimit(\n",
    "        hl.array([\n",
    "            gwas_out['locus'].contig,\n",
    "            hl.str(gwas_out['locus'].position),\n",
    "            gwas_out['alleles'][0],\n",
    "            gwas_out['alleles'][1]\n",
    "        ]), \n",
    "    delimiter = ':')\n",
    ")"
   ]
  },
  {
   "cell_type": "code",
   "execution_count": 6,
   "metadata": {},
   "outputs": [
    {
     "name": "stderr",
     "output_type": "stream",
     "text": [
      "2019-12-19 21:30:18 Hail: INFO: Ordering unsorted dataset with network shuffle\n"
     ]
    }
   ],
   "source": [
    "gwas_out = gwas_out.key_by('variant')\n",
    "## Hey, this repartition is important\n",
    "## in the sense that it avoids the unnecessary and repeated sorting caused by key_by\n",
    "gwas_out = gwas_out.repartition(40)\n",
    "gwas_out = gwas_out.cache()"
   ]
  },
  {
   "cell_type": "code",
   "execution_count": 7,
   "metadata": {},
   "outputs": [],
   "source": [
    "phenotypes = gwas_out['phenotypes'].collect()[0]"
   ]
  },
  {
   "cell_type": "code",
   "execution_count": 8,
   "metadata": {},
   "outputs": [
    {
     "data": {
      "text/plain": [
       "[['subset13_x_height',\n",
       "  'subset13_x_dbp',\n",
       "  'subset13_x_sbp',\n",
       "  'subset13_x_bmi',\n",
       "  'subset13_x_wbc',\n",
       "  'subset13_x_rbc',\n",
       "  'subset13_x_hb',\n",
       "  'subset13_x_ht',\n",
       "  'subset13_x_mcv',\n",
       "  'subset13_x_mch',\n",
       "  'subset13_x_mchc',\n",
       "  'subset13_x_platelet',\n",
       "  'subset13_x_lymphocyte',\n",
       "  'subset13_x_monocyte',\n",
       "  'subset13_x_neutrophil',\n",
       "  'subset13_x_eosinophil',\n",
       "  'subset13_x_basophil'],\n",
       " ['subset14_x_height',\n",
       "  'subset14_x_dbp',\n",
       "  'subset14_x_sbp',\n",
       "  'subset14_x_bmi',\n",
       "  'subset14_x_wbc',\n",
       "  'subset14_x_rbc',\n",
       "  'subset14_x_hb',\n",
       "  'subset14_x_ht',\n",
       "  'subset14_x_mcv',\n",
       "  'subset14_x_mch',\n",
       "  'subset14_x_mchc',\n",
       "  'subset14_x_platelet',\n",
       "  'subset14_x_lymphocyte',\n",
       "  'subset14_x_monocyte',\n",
       "  'subset14_x_neutrophil',\n",
       "  'subset14_x_eosinophil',\n",
       "  'subset14_x_basophil'],\n",
       " ['subset15_x_height',\n",
       "  'subset15_x_dbp',\n",
       "  'subset15_x_sbp',\n",
       "  'subset15_x_bmi',\n",
       "  'subset15_x_wbc',\n",
       "  'subset15_x_rbc',\n",
       "  'subset15_x_hb',\n",
       "  'subset15_x_ht',\n",
       "  'subset15_x_mcv',\n",
       "  'subset15_x_mch',\n",
       "  'subset15_x_mchc',\n",
       "  'subset15_x_platelet',\n",
       "  'subset15_x_lymphocyte',\n",
       "  'subset15_x_monocyte',\n",
       "  'subset15_x_neutrophil',\n",
       "  'subset15_x_eosinophil',\n",
       "  'subset15_x_basophil'],\n",
       " ['subset16_x_height',\n",
       "  'subset16_x_dbp',\n",
       "  'subset16_x_sbp',\n",
       "  'subset16_x_bmi',\n",
       "  'subset16_x_wbc',\n",
       "  'subset16_x_rbc',\n",
       "  'subset16_x_hb',\n",
       "  'subset16_x_ht',\n",
       "  'subset16_x_mcv',\n",
       "  'subset16_x_mch',\n",
       "  'subset16_x_mchc',\n",
       "  'subset16_x_platelet',\n",
       "  'subset16_x_lymphocyte',\n",
       "  'subset16_x_monocyte',\n",
       "  'subset16_x_neutrophil',\n",
       "  'subset16_x_eosinophil',\n",
       "  'subset16_x_basophil'],\n",
       " ['subset17_x_height',\n",
       "  'subset17_x_dbp',\n",
       "  'subset17_x_sbp',\n",
       "  'subset17_x_bmi',\n",
       "  'subset17_x_wbc',\n",
       "  'subset17_x_rbc',\n",
       "  'subset17_x_hb',\n",
       "  'subset17_x_ht',\n",
       "  'subset17_x_mcv',\n",
       "  'subset17_x_mch',\n",
       "  'subset17_x_mchc',\n",
       "  'subset17_x_platelet',\n",
       "  'subset17_x_lymphocyte',\n",
       "  'subset17_x_monocyte',\n",
       "  'subset17_x_neutrophil',\n",
       "  'subset17_x_eosinophil',\n",
       "  'subset17_x_basophil']]"
      ]
     },
     "execution_count": 8,
     "metadata": {},
     "output_type": "execute_result"
    }
   ],
   "source": [
    "phenotypes"
   ]
  },
  {
   "cell_type": "code",
   "execution_count": 12,
   "metadata": {},
   "outputs": [
    {
     "name": "stderr",
     "output_type": "stream",
     "text": [
      "2019-12-19 22:11:39 Hail: INFO: merging 40 files totalling 1.3G...\n",
      "2019-12-19 22:11:53 Hail: INFO: while writing:\n",
      "    test_output_with_variant_qc/gwas_test_subset13_x_height.tsv\n",
      "  merge time: 13.738s\n",
      "2019-12-19 22:12:50 Hail: INFO: merging 40 files totalling 1.3G...\n",
      "2019-12-19 22:12:56 Hail: INFO: while writing:\n",
      "    test_output_with_variant_qc/gwas_test_subset13_x_dbp.tsv\n",
      "  merge time: 5.465s\n",
      "2019-12-19 22:13:52 Hail: INFO: merging 40 files totalling 1.3G...\n",
      "2019-12-19 22:14:01 Hail: INFO: while writing:\n",
      "    test_output_with_variant_qc/gwas_test_subset13_x_sbp.tsv\n",
      "  merge time: 8.444s\n",
      "2019-12-19 22:15:01 Hail: INFO: merging 40 files totalling 1.3G...\n",
      "2019-12-19 22:15:07 Hail: INFO: while writing:\n",
      "    test_output_with_variant_qc/gwas_test_subset13_x_bmi.tsv\n",
      "  merge time: 5.295s\n",
      "2019-12-19 22:15:59 Hail: INFO: merging 40 files totalling 1.3G...\n",
      "2019-12-19 22:16:08 Hail: INFO: while writing:\n",
      "    test_output_with_variant_qc/gwas_test_subset13_x_wbc.tsv\n",
      "  merge time: 9.058s\n",
      "2019-12-19 22:17:01 Hail: INFO: merging 40 files totalling 1.3G...\n",
      "2019-12-19 22:17:08 Hail: INFO: while writing:\n",
      "    test_output_with_variant_qc/gwas_test_subset13_x_rbc.tsv\n",
      "  merge time: 7.449s\n",
      "2019-12-19 22:18:02 Hail: INFO: merging 40 files totalling 1.3G...\n",
      "2019-12-19 22:18:07 Hail: INFO: while writing:\n",
      "    test_output_with_variant_qc/gwas_test_subset13_x_hb.tsv\n",
      "  merge time: 5.778s\n",
      "2019-12-19 22:19:01 Hail: INFO: merging 40 files totalling 1.3G...\n",
      "2019-12-19 22:19:08 Hail: INFO: while writing:\n",
      "    test_output_with_variant_qc/gwas_test_subset13_x_ht.tsv\n",
      "  merge time: 7.026s\n",
      "2019-12-19 22:20:00 Hail: INFO: merging 40 files totalling 1.3G...\n",
      "2019-12-19 22:20:08 Hail: INFO: while writing:\n",
      "    test_output_with_variant_qc/gwas_test_subset13_x_mcv.tsv\n",
      "  merge time: 7.509s\n",
      "2019-12-19 22:21:02 Hail: INFO: merging 40 files totalling 1.3G...\n",
      "2019-12-19 22:21:07 Hail: INFO: while writing:\n",
      "    test_output_with_variant_qc/gwas_test_subset13_x_mch.tsv\n",
      "  merge time: 5.528s\n",
      "2019-12-19 22:21:59 Hail: INFO: merging 40 files totalling 1.3G...\n",
      "2019-12-19 22:22:08 Hail: INFO: while writing:\n",
      "    test_output_with_variant_qc/gwas_test_subset13_x_mchc.tsv\n",
      "  merge time: 8.625s\n",
      "2019-12-19 22:23:00 Hail: INFO: merging 40 files totalling 1.3G...\n",
      "2019-12-19 22:23:05 Hail: INFO: while writing:\n",
      "    test_output_with_variant_qc/gwas_test_subset13_x_platelet.tsv\n",
      "  merge time: 5.162s\n",
      "2019-12-19 22:24:00 Hail: INFO: merging 40 files totalling 1.3G...\n",
      "2019-12-19 22:24:08 Hail: INFO: while writing:\n",
      "    test_output_with_variant_qc/gwas_test_subset13_x_lymphocyte.tsv\n",
      "  merge time: 8.114s\n",
      "2019-12-19 22:25:01 Hail: INFO: merging 40 files totalling 1.3G...\n",
      "2019-12-19 22:25:07 Hail: INFO: while writing:\n",
      "    test_output_with_variant_qc/gwas_test_subset13_x_monocyte.tsv\n",
      "  merge time: 6.075s\n",
      "2019-12-19 22:26:00 Hail: INFO: merging 40 files totalling 1.3G...\n",
      "2019-12-19 22:26:06 Hail: INFO: while writing:\n",
      "    test_output_with_variant_qc/gwas_test_subset13_x_neutrophil.tsv\n",
      "  merge time: 5.808s\n",
      "2019-12-19 22:26:59 Hail: INFO: merging 40 files totalling 1.3G...\n",
      "2019-12-19 22:27:05 Hail: INFO: while writing:\n",
      "    test_output_with_variant_qc/gwas_test_subset13_x_eosinophil.tsv\n",
      "  merge time: 6.492s\n",
      "2019-12-19 22:27:59 Hail: INFO: merging 40 files totalling 1.3G...\n",
      "2019-12-19 22:28:07 Hail: INFO: while writing:\n",
      "    test_output_with_variant_qc/gwas_test_subset13_x_basophil.tsv\n",
      "  merge time: 8.054s\n",
      "2019-12-19 22:29:00 Hail: INFO: merging 40 files totalling 1.3G...\n",
      "2019-12-19 22:29:07 Hail: INFO: while writing:\n",
      "    test_output_with_variant_qc/gwas_test_subset14_x_height.tsv\n",
      "  merge time: 7.034s\n",
      "2019-12-19 22:29:59 Hail: INFO: merging 40 files totalling 1.3G...\n",
      "2019-12-19 22:30:08 Hail: INFO: while writing:\n",
      "    test_output_with_variant_qc/gwas_test_subset14_x_dbp.tsv\n",
      "  merge time: 9.124s\n"
     ]
    },
    {
     "ename": "KeyboardInterrupt",
     "evalue": "",
     "output_type": "error",
     "traceback": [
      "\u001b[0;31m---------------------------------------------------------------------------\u001b[0m",
      "\u001b[0;31mKeyboardInterrupt\u001b[0m                         Traceback (most recent call last)",
      "\u001b[0;32m<ipython-input-12-501234391ea6>\u001b[0m in \u001b[0;36m<module>\u001b[0;34m\u001b[0m\n\u001b[1;32m      3\u001b[0m     \u001b[0;32mfor\u001b[0m \u001b[0mj\u001b[0m\u001b[0;34m,\u001b[0m \u001b[0mtrait\u001b[0m \u001b[0;32min\u001b[0m \u001b[0menumerate\u001b[0m\u001b[0;34m(\u001b[0m\u001b[0msubset\u001b[0m\u001b[0;34m)\u001b[0m\u001b[0;34m:\u001b[0m\u001b[0;34m\u001b[0m\u001b[0;34m\u001b[0m\u001b[0m\n\u001b[1;32m      4\u001b[0m         \u001b[0mht_export\u001b[0m \u001b[0;34m=\u001b[0m \u001b[0mmyhelper\u001b[0m\u001b[0;34m.\u001b[0m\u001b[0mgwas_formater_from_neale_lab\u001b[0m\u001b[0;34m(\u001b[0m\u001b[0mgwas_out\u001b[0m\u001b[0;34m,\u001b[0m \u001b[0mi\u001b[0m\u001b[0;34m,\u001b[0m \u001b[0mj\u001b[0m\u001b[0;34m)\u001b[0m\u001b[0;34m\u001b[0m\u001b[0;34m\u001b[0m\u001b[0m\n\u001b[0;32m----> 5\u001b[0;31m         \u001b[0mht_export\u001b[0m\u001b[0;34m.\u001b[0m\u001b[0mexport\u001b[0m\u001b[0;34m(\u001b[0m\u001b[0;34mf'test_output_with_variant_qc/gwas_test_{trait}.tsv'\u001b[0m\u001b[0;34m)\u001b[0m\u001b[0;34m\u001b[0m\u001b[0;34m\u001b[0m\u001b[0m\n\u001b[0m",
      "\u001b[0;32m</vol/bmd/yanyul/softwares/conda_envs/hail/lib/python3.7/site-packages/decorator.py:decorator-gen-1035>\u001b[0m in \u001b[0;36mexport\u001b[0;34m(self, output, types_file, header, parallel, delimiter)\u001b[0m\n",
      "\u001b[0;32m/vol/bmd/yanyul/softwares/conda_envs/hail/lib/python3.7/site-packages/hail/typecheck/check.py\u001b[0m in \u001b[0;36mwrapper\u001b[0;34m(__original_func, *args, **kwargs)\u001b[0m\n\u001b[1;32m    583\u001b[0m     \u001b[0;32mdef\u001b[0m \u001b[0mwrapper\u001b[0m\u001b[0;34m(\u001b[0m\u001b[0m__original_func\u001b[0m\u001b[0;34m,\u001b[0m \u001b[0;34m*\u001b[0m\u001b[0margs\u001b[0m\u001b[0;34m,\u001b[0m \u001b[0;34m**\u001b[0m\u001b[0mkwargs\u001b[0m\u001b[0;34m)\u001b[0m\u001b[0;34m:\u001b[0m\u001b[0;34m\u001b[0m\u001b[0;34m\u001b[0m\u001b[0m\n\u001b[1;32m    584\u001b[0m         \u001b[0margs_\u001b[0m\u001b[0;34m,\u001b[0m \u001b[0mkwargs_\u001b[0m \u001b[0;34m=\u001b[0m \u001b[0mcheck_all\u001b[0m\u001b[0;34m(\u001b[0m\u001b[0m__original_func\u001b[0m\u001b[0;34m,\u001b[0m \u001b[0margs\u001b[0m\u001b[0;34m,\u001b[0m \u001b[0mkwargs\u001b[0m\u001b[0;34m,\u001b[0m \u001b[0mcheckers\u001b[0m\u001b[0;34m,\u001b[0m \u001b[0mis_method\u001b[0m\u001b[0;34m=\u001b[0m\u001b[0mis_method\u001b[0m\u001b[0;34m)\u001b[0m\u001b[0;34m\u001b[0m\u001b[0;34m\u001b[0m\u001b[0m\n\u001b[0;32m--> 585\u001b[0;31m         \u001b[0;32mreturn\u001b[0m \u001b[0m__original_func\u001b[0m\u001b[0;34m(\u001b[0m\u001b[0;34m*\u001b[0m\u001b[0margs_\u001b[0m\u001b[0;34m,\u001b[0m \u001b[0;34m**\u001b[0m\u001b[0mkwargs_\u001b[0m\u001b[0;34m)\u001b[0m\u001b[0;34m\u001b[0m\u001b[0;34m\u001b[0m\u001b[0m\n\u001b[0m\u001b[1;32m    586\u001b[0m \u001b[0;34m\u001b[0m\u001b[0m\n\u001b[1;32m    587\u001b[0m     \u001b[0;32mreturn\u001b[0m \u001b[0mwrapper\u001b[0m\u001b[0;34m\u001b[0m\u001b[0;34m\u001b[0m\u001b[0m\n",
      "\u001b[0;32m/vol/bmd/yanyul/softwares/conda_envs/hail/lib/python3.7/site-packages/hail/table.py\u001b[0m in \u001b[0;36mexport\u001b[0;34m(self, output, types_file, header, parallel, delimiter)\u001b[0m\n\u001b[1;32m   1011\u001b[0m         Env.backend().execute(\n\u001b[1;32m   1012\u001b[0m             TableWrite(self._tir, TableTextWriter(output, types_file, header,\n\u001b[0;32m-> 1013\u001b[0;31m                                                   Env.hail().utils.ExportType.getExportType(parallel), delimiter)))\n\u001b[0m\u001b[1;32m   1014\u001b[0m \u001b[0;34m\u001b[0m\u001b[0m\n\u001b[1;32m   1015\u001b[0m     \u001b[0;32mdef\u001b[0m \u001b[0mgroup_by\u001b[0m\u001b[0;34m(\u001b[0m\u001b[0mself\u001b[0m\u001b[0;34m,\u001b[0m \u001b[0;34m*\u001b[0m\u001b[0mexprs\u001b[0m\u001b[0;34m,\u001b[0m \u001b[0;34m**\u001b[0m\u001b[0mnamed_exprs\u001b[0m\u001b[0;34m)\u001b[0m \u001b[0;34m->\u001b[0m \u001b[0;34m'GroupedTable'\u001b[0m\u001b[0;34m:\u001b[0m\u001b[0;34m\u001b[0m\u001b[0;34m\u001b[0m\u001b[0m\n",
      "\u001b[0;32m/vol/bmd/yanyul/softwares/conda_envs/hail/lib/python3.7/site-packages/hail/backend/backend.py\u001b[0m in \u001b[0;36mexecute\u001b[0;34m(self, ir, timed)\u001b[0m\n\u001b[1;32m    107\u001b[0m \u001b[0;34m\u001b[0m\u001b[0m\n\u001b[1;32m    108\u001b[0m     \u001b[0;32mdef\u001b[0m \u001b[0mexecute\u001b[0m\u001b[0;34m(\u001b[0m\u001b[0mself\u001b[0m\u001b[0;34m,\u001b[0m \u001b[0mir\u001b[0m\u001b[0;34m,\u001b[0m \u001b[0mtimed\u001b[0m\u001b[0;34m=\u001b[0m\u001b[0;32mFalse\u001b[0m\u001b[0;34m)\u001b[0m\u001b[0;34m:\u001b[0m\u001b[0;34m\u001b[0m\u001b[0;34m\u001b[0m\u001b[0m\n\u001b[0;32m--> 109\u001b[0;31m         \u001b[0mresult\u001b[0m \u001b[0;34m=\u001b[0m \u001b[0mjson\u001b[0m\u001b[0;34m.\u001b[0m\u001b[0mloads\u001b[0m\u001b[0;34m(\u001b[0m\u001b[0mEnv\u001b[0m\u001b[0;34m.\u001b[0m\u001b[0mhc\u001b[0m\u001b[0;34m(\u001b[0m\u001b[0;34m)\u001b[0m\u001b[0;34m.\u001b[0m\u001b[0m_jhc\u001b[0m\u001b[0;34m.\u001b[0m\u001b[0mbackend\u001b[0m\u001b[0;34m(\u001b[0m\u001b[0;34m)\u001b[0m\u001b[0;34m.\u001b[0m\u001b[0mexecuteJSON\u001b[0m\u001b[0;34m(\u001b[0m\u001b[0mself\u001b[0m\u001b[0;34m.\u001b[0m\u001b[0m_to_java_ir\u001b[0m\u001b[0;34m(\u001b[0m\u001b[0mir\u001b[0m\u001b[0;34m)\u001b[0m\u001b[0;34m)\u001b[0m\u001b[0;34m)\u001b[0m\u001b[0;34m\u001b[0m\u001b[0;34m\u001b[0m\u001b[0m\n\u001b[0m\u001b[1;32m    110\u001b[0m         \u001b[0mvalue\u001b[0m \u001b[0;34m=\u001b[0m \u001b[0mir\u001b[0m\u001b[0;34m.\u001b[0m\u001b[0mtyp\u001b[0m\u001b[0;34m.\u001b[0m\u001b[0m_from_json\u001b[0m\u001b[0;34m(\u001b[0m\u001b[0mresult\u001b[0m\u001b[0;34m[\u001b[0m\u001b[0;34m'value'\u001b[0m\u001b[0;34m]\u001b[0m\u001b[0;34m)\u001b[0m\u001b[0;34m\u001b[0m\u001b[0;34m\u001b[0m\u001b[0m\n\u001b[1;32m    111\u001b[0m         \u001b[0mtimings\u001b[0m \u001b[0;34m=\u001b[0m \u001b[0mresult\u001b[0m\u001b[0;34m[\u001b[0m\u001b[0;34m'timings'\u001b[0m\u001b[0;34m]\u001b[0m\u001b[0;34m\u001b[0m\u001b[0;34m\u001b[0m\u001b[0m\n",
      "\u001b[0;32m/vol/bmd/yanyul/softwares/conda_envs/hail/lib/python3.7/site-packages/py4j/java_gateway.py\u001b[0m in \u001b[0;36m__call__\u001b[0;34m(self, *args)\u001b[0m\n\u001b[1;32m   1253\u001b[0m             \u001b[0mproto\u001b[0m\u001b[0;34m.\u001b[0m\u001b[0mEND_COMMAND_PART\u001b[0m\u001b[0;34m\u001b[0m\u001b[0;34m\u001b[0m\u001b[0m\n\u001b[1;32m   1254\u001b[0m \u001b[0;34m\u001b[0m\u001b[0m\n\u001b[0;32m-> 1255\u001b[0;31m         \u001b[0manswer\u001b[0m \u001b[0;34m=\u001b[0m \u001b[0mself\u001b[0m\u001b[0;34m.\u001b[0m\u001b[0mgateway_client\u001b[0m\u001b[0;34m.\u001b[0m\u001b[0msend_command\u001b[0m\u001b[0;34m(\u001b[0m\u001b[0mcommand\u001b[0m\u001b[0;34m)\u001b[0m\u001b[0;34m\u001b[0m\u001b[0;34m\u001b[0m\u001b[0m\n\u001b[0m\u001b[1;32m   1256\u001b[0m         return_value = get_return_value(\n\u001b[1;32m   1257\u001b[0m             answer, self.gateway_client, self.target_id, self.name)\n",
      "\u001b[0;32m/vol/bmd/yanyul/softwares/conda_envs/hail/lib/python3.7/site-packages/py4j/java_gateway.py\u001b[0m in \u001b[0;36msend_command\u001b[0;34m(self, command, retry, binary)\u001b[0m\n\u001b[1;32m    983\u001b[0m         \u001b[0mconnection\u001b[0m \u001b[0;34m=\u001b[0m \u001b[0mself\u001b[0m\u001b[0;34m.\u001b[0m\u001b[0m_get_connection\u001b[0m\u001b[0;34m(\u001b[0m\u001b[0;34m)\u001b[0m\u001b[0;34m\u001b[0m\u001b[0;34m\u001b[0m\u001b[0m\n\u001b[1;32m    984\u001b[0m         \u001b[0;32mtry\u001b[0m\u001b[0;34m:\u001b[0m\u001b[0;34m\u001b[0m\u001b[0;34m\u001b[0m\u001b[0m\n\u001b[0;32m--> 985\u001b[0;31m             \u001b[0mresponse\u001b[0m \u001b[0;34m=\u001b[0m \u001b[0mconnection\u001b[0m\u001b[0;34m.\u001b[0m\u001b[0msend_command\u001b[0m\u001b[0;34m(\u001b[0m\u001b[0mcommand\u001b[0m\u001b[0;34m)\u001b[0m\u001b[0;34m\u001b[0m\u001b[0;34m\u001b[0m\u001b[0m\n\u001b[0m\u001b[1;32m    986\u001b[0m             \u001b[0;32mif\u001b[0m \u001b[0mbinary\u001b[0m\u001b[0;34m:\u001b[0m\u001b[0;34m\u001b[0m\u001b[0;34m\u001b[0m\u001b[0m\n\u001b[1;32m    987\u001b[0m                 \u001b[0;32mreturn\u001b[0m \u001b[0mresponse\u001b[0m\u001b[0;34m,\u001b[0m \u001b[0mself\u001b[0m\u001b[0;34m.\u001b[0m\u001b[0m_create_connection_guard\u001b[0m\u001b[0;34m(\u001b[0m\u001b[0mconnection\u001b[0m\u001b[0;34m)\u001b[0m\u001b[0;34m\u001b[0m\u001b[0;34m\u001b[0m\u001b[0m\n",
      "\u001b[0;32m/vol/bmd/yanyul/softwares/conda_envs/hail/lib/python3.7/site-packages/py4j/java_gateway.py\u001b[0m in \u001b[0;36msend_command\u001b[0;34m(self, command)\u001b[0m\n\u001b[1;32m   1150\u001b[0m \u001b[0;34m\u001b[0m\u001b[0m\n\u001b[1;32m   1151\u001b[0m         \u001b[0;32mtry\u001b[0m\u001b[0;34m:\u001b[0m\u001b[0;34m\u001b[0m\u001b[0;34m\u001b[0m\u001b[0m\n\u001b[0;32m-> 1152\u001b[0;31m             \u001b[0manswer\u001b[0m \u001b[0;34m=\u001b[0m \u001b[0msmart_decode\u001b[0m\u001b[0;34m(\u001b[0m\u001b[0mself\u001b[0m\u001b[0;34m.\u001b[0m\u001b[0mstream\u001b[0m\u001b[0;34m.\u001b[0m\u001b[0mreadline\u001b[0m\u001b[0;34m(\u001b[0m\u001b[0;34m)\u001b[0m\u001b[0;34m[\u001b[0m\u001b[0;34m:\u001b[0m\u001b[0;34m-\u001b[0m\u001b[0;36m1\u001b[0m\u001b[0;34m]\u001b[0m\u001b[0;34m)\u001b[0m\u001b[0;34m\u001b[0m\u001b[0;34m\u001b[0m\u001b[0m\n\u001b[0m\u001b[1;32m   1153\u001b[0m             \u001b[0mlogger\u001b[0m\u001b[0;34m.\u001b[0m\u001b[0mdebug\u001b[0m\u001b[0;34m(\u001b[0m\u001b[0;34m\"Answer received: {0}\"\u001b[0m\u001b[0;34m.\u001b[0m\u001b[0mformat\u001b[0m\u001b[0;34m(\u001b[0m\u001b[0manswer\u001b[0m\u001b[0;34m)\u001b[0m\u001b[0;34m)\u001b[0m\u001b[0;34m\u001b[0m\u001b[0;34m\u001b[0m\u001b[0m\n\u001b[1;32m   1154\u001b[0m             \u001b[0;32mif\u001b[0m \u001b[0manswer\u001b[0m\u001b[0;34m.\u001b[0m\u001b[0mstartswith\u001b[0m\u001b[0;34m(\u001b[0m\u001b[0mproto\u001b[0m\u001b[0;34m.\u001b[0m\u001b[0mRETURN_MESSAGE\u001b[0m\u001b[0;34m)\u001b[0m\u001b[0;34m:\u001b[0m\u001b[0;34m\u001b[0m\u001b[0;34m\u001b[0m\u001b[0m\n",
      "\u001b[0;32m/vol/bmd/yanyul/softwares/conda_envs/hail/lib/python3.7/socket.py\u001b[0m in \u001b[0;36mreadinto\u001b[0;34m(self, b)\u001b[0m\n\u001b[1;32m    587\u001b[0m         \u001b[0;32mwhile\u001b[0m \u001b[0;32mTrue\u001b[0m\u001b[0;34m:\u001b[0m\u001b[0;34m\u001b[0m\u001b[0;34m\u001b[0m\u001b[0m\n\u001b[1;32m    588\u001b[0m             \u001b[0;32mtry\u001b[0m\u001b[0;34m:\u001b[0m\u001b[0;34m\u001b[0m\u001b[0;34m\u001b[0m\u001b[0m\n\u001b[0;32m--> 589\u001b[0;31m                 \u001b[0;32mreturn\u001b[0m \u001b[0mself\u001b[0m\u001b[0;34m.\u001b[0m\u001b[0m_sock\u001b[0m\u001b[0;34m.\u001b[0m\u001b[0mrecv_into\u001b[0m\u001b[0;34m(\u001b[0m\u001b[0mb\u001b[0m\u001b[0;34m)\u001b[0m\u001b[0;34m\u001b[0m\u001b[0;34m\u001b[0m\u001b[0m\n\u001b[0m\u001b[1;32m    590\u001b[0m             \u001b[0;32mexcept\u001b[0m \u001b[0mtimeout\u001b[0m\u001b[0;34m:\u001b[0m\u001b[0;34m\u001b[0m\u001b[0;34m\u001b[0m\u001b[0m\n\u001b[1;32m    591\u001b[0m                 \u001b[0mself\u001b[0m\u001b[0;34m.\u001b[0m\u001b[0m_timeout_occurred\u001b[0m \u001b[0;34m=\u001b[0m \u001b[0;32mTrue\u001b[0m\u001b[0;34m\u001b[0m\u001b[0;34m\u001b[0m\u001b[0m\n",
      "\u001b[0;31mKeyboardInterrupt\u001b[0m: "
     ]
    }
   ],
   "source": [
    "phenotypes = gwas_out['phenotypes'].collect()[0]\n",
    "for i, subset in enumerate(phenotypes):\n",
    "    for j, trait in enumerate(subset):\n",
    "        ht_export = myhelper.gwas_formater_from_neale_lab(gwas_out, i, j)\n",
    "        ht_export.export(f'test_output_with_variant_qc/gwas_test_{trait}.tsv')"
   ]
  }
 ],
 "metadata": {
  "kernelspec": {
   "display_name": "Python 3",
   "language": "python",
   "name": "python3"
  },
  "language_info": {
   "codemirror_mode": {
    "name": "ipython",
    "version": 3
   },
   "file_extension": ".py",
   "mimetype": "text/x-python",
   "name": "python",
   "nbconvert_exporter": "python",
   "pygments_lexer": "ipython3",
   "version": "3.7.5"
  }
 },
 "nbformat": 4,
 "nbformat_minor": 2
}
