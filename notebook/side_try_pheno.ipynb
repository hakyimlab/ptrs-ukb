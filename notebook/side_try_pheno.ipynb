{
 "cells": [
  {
   "cell_type": "code",
   "execution_count": 1,
   "metadata": {},
   "outputs": [],
   "source": [
    "import hail as hl\n",
    "from hail.plot import show\n",
    "from pprint import pprint\n",
    "import matplotlib"
   ]
  },
  {
   "cell_type": "code",
   "execution_count": 5,
   "metadata": {},
   "outputs": [
    {
     "name": "stderr",
     "output_type": "stream",
     "text": [
      "2019-12-06 14:06:28 Hail: INFO: Reading table to impute column types\n",
      "2019-12-06 14:06:30 Hail: INFO: Finished type imputation\n",
      "  Loading column 'eid' as type 'int32' (imputed)\n",
      "  Loading column 'age_recruitment' as type 'int32' (imputed)\n",
      "  Loading column 'sex' as type 'int32' (imputed)\n",
      "  Loading column 'pc1' as type 'float64' (imputed)\n",
      "  Loading column 'pc2' as type 'float64' (imputed)\n",
      "  Loading column 'pc3' as type 'float64' (imputed)\n",
      "  Loading column 'pc4' as type 'float64' (imputed)\n",
      "  Loading column 'pc5' as type 'float64' (imputed)\n",
      "  Loading column 'pc6' as type 'float64' (imputed)\n",
      "  Loading column 'pc7' as type 'float64' (imputed)\n",
      "  Loading column 'pc8' as type 'float64' (imputed)\n",
      "  Loading column 'pc9' as type 'float64' (imputed)\n",
      "  Loading column 'pc10' as type 'float64' (imputed)\n",
      "  Loading column 'ethnicity_agg' as type 'int32' (imputed)\n",
      "  Loading column 'meaning' as type 'str' (imputed)\n",
      "  Loading column 'height' as type 'float64' (imputed)\n",
      "  Loading column 'dbp' as type 'int32' (imputed)\n",
      "  Loading column 'sbp' as type 'int32' (imputed)\n",
      "  Loading column 'bmi' as type 'float64' (imputed)\n",
      "  Loading column 'wbc' as type 'float64' (imputed)\n",
      "  Loading column 'rbc' as type 'float64' (imputed)\n",
      "  Loading column 'hb' as type 'float64' (imputed)\n",
      "  Loading column 'ht' as type 'float64' (imputed)\n",
      "  Loading column 'mcv' as type 'float64' (imputed)\n",
      "  Loading column 'mch' as type 'float64' (imputed)\n",
      "  Loading column 'mchc' as type 'float64' (imputed)\n",
      "  Loading column 'platelet' as type 'float64' (imputed)\n",
      "  Loading column 'lymphocyte' as type 'float64' (imputed)\n",
      "  Loading column 'monocyte' as type 'float64' (imputed)\n",
      "  Loading column 'neutrophil' as type 'float64' (imputed)\n",
      "  Loading column 'eosinophil' as type 'float64' (imputed)\n",
      "  Loading column 'basophil' as type 'float64' (imputed)\n"
     ]
    }
   ],
   "source": [
    "pheno = (hl.import_table('/homes/yanyul/query_first_attempt_with_qc.csv', impute = True, delimiter = ',')\n",
    "         .key_by('eid'))"
   ]
  },
  {
   "cell_type": "code",
   "execution_count": 7,
   "metadata": {},
   "outputs": [
    {
     "name": "stdout",
     "output_type": "stream",
     "text": [
      "----------------------------------------\n",
      "Global fields:\n",
      "    None\n",
      "----------------------------------------\n",
      "Row fields:\n",
      "    'eid': int32 \n",
      "    'age_recruitment': int32 \n",
      "    'sex': int32 \n",
      "    'pc1': float64 \n",
      "    'pc2': float64 \n",
      "    'pc3': float64 \n",
      "    'pc4': float64 \n",
      "    'pc5': float64 \n",
      "    'pc6': float64 \n",
      "    'pc7': float64 \n",
      "    'pc8': float64 \n",
      "    'pc9': float64 \n",
      "    'pc10': float64 \n",
      "    'ethnicity_agg': int32 \n",
      "    'meaning': str \n",
      "    'height': float64 \n",
      "    'dbp': int32 \n",
      "    'sbp': int32 \n",
      "    'bmi': float64 \n",
      "    'wbc': float64 \n",
      "    'rbc': float64 \n",
      "    'hb': float64 \n",
      "    'ht': float64 \n",
      "    'mcv': float64 \n",
      "    'mch': float64 \n",
      "    'mchc': float64 \n",
      "    'platelet': float64 \n",
      "    'lymphocyte': float64 \n",
      "    'monocyte': float64 \n",
      "    'neutrophil': float64 \n",
      "    'eosinophil': float64 \n",
      "    'basophil': float64 \n",
      "----------------------------------------\n",
      "Key: ['eid']\n",
      "----------------------------------------\n"
     ]
    }
   ],
   "source": [
    "pheno.describe()"
   ]
  },
  {
   "cell_type": "code",
   "execution_count": 8,
   "metadata": {},
   "outputs": [
    {
     "data": {
      "text/html": [
       "<table><thead style=\"font-weight: bold;\"><tr><td>eid</td><td>age_recruitment</td><td>sex</td><td>pc1</td><td>pc2</td><td>pc3</td><td>pc4</td><td>pc5</td><td>pc6</td><td>pc7</td><td>pc8</td><td>pc9</td><td>pc10</td><td>ethnicity_agg</td><td>meaning</td><td>height</td><td>dbp</td><td>sbp</td><td>bmi</td><td>wbc</td><td>rbc</td><td>hb</td><td>ht</td><td>mcv</td><td>mch</td><td>mchc</td><td>platelet</td><td>lymphocyte</td><td>monocyte</td><td>neutrophil</td><td>eosinophil</td><td>basophil</td></tr>\n",
       "<tr><td>int32</td><td>int32</td><td>int32</td><td>float64</td><td>float64</td><td>float64</td><td>float64</td><td>float64</td><td>float64</td><td>float64</td><td>float64</td><td>float64</td><td>float64</td><td>int32</td><td>str</td><td>float64</td><td>int32</td><td>int32</td><td>float64</td><td>float64</td><td>float64</td><td>float64</td><td>float64</td><td>float64</td><td>float64</td><td>float64</td><td>float64</td><td>float64</td><td>float64</td><td>float64</td><td>float64</td><td>float64</td></tr>\n",
       "</thead><tbody><tr><td>1000020</td><td>46</td><td>0</td><td>-1.20e+01</td><td>5.50e+00</td><td>-3.33e+00</td><td>1.56e+00</td><td>-4.29e+00</td><td>7.55e-02</td><td>1.10e+00</td><td>8.78e-01</td><td>-2.00e-01</td><td>-1.54e+00</td><td>1001</td><td>&quot;British&quot;</td><td>1.76e+02</td><td>79</td><td>128</td><td>2.58e+01</td><td>7.20e+00</td><td>4.64e+00</td><td>1.41e+01</td><td>4.25e+01</td><td>9.16e+01</td><td>3.04e+01</td><td>3.32e+01</td><td>2.74e+02</td><td>1.68e+00</td><td>3.50e-01</td><td>5.11e+00</td><td>3.00e-02</td><td>3.00e-02</td></tr>\n",
       "<tr><td>1000037</td><td>58</td><td>1</td><td>-1.04e+01</td><td>4.32e+00</td><td>-2.41e-02</td><td>1.52e+00</td><td>4.47e-01</td><td>-6.16e-01</td><td>1.54e+00</td><td>-7.27e-02</td><td>3.30e+00</td><td>-1.96e+00</td><td>1001</td><td>&quot;British&quot;</td><td>1.71e+02</td><td>84</td><td>133</td><td>2.42e+01</td><td>9.53e+00</td><td>4.87e+00</td><td>1.57e+01</td><td>4.50e+01</td><td>9.25e+01</td><td>3.23e+01</td><td>3.49e+01</td><td>1.95e+02</td><td>2.67e+00</td><td>3.60e-01</td><td>5.90e+00</td><td>4.90e-01</td><td>1.10e-01</td></tr>\n",
       "<tr><td>1000043</td><td>42</td><td>1</td><td>-1.11e+01</td><td>3.98e+00</td><td>-2.92e+00</td><td>5.11e-01</td><td>-5.35e+00</td><td>1.97e+00</td><td>1.73e-01</td><td>-1.02e+00</td><td>-7.43e-02</td><td>-1.43e+00</td><td>1001</td><td>&quot;British&quot;</td><td>1.76e+02</td><td>95</td><td>140</td><td>2.91e+01</td><td>5.35e+00</td><td>5.30e+00</td><td>1.54e+01</td><td>4.57e+01</td><td>8.62e+01</td><td>2.91e+01</td><td>3.38e+01</td><td>2.38e+02</td><td>1.59e+00</td><td>4.40e-01</td><td>3.11e+00</td><td>1.90e-01</td><td>2.00e-02</td></tr>\n",
       "<tr><td>1000051</td><td>61</td><td>0</td><td>-1.23e+01</td><td>3.80e+00</td><td>-4.34e+00</td><td>-1.22e+00</td><td>2.81e+00</td><td>-1.84e+00</td><td>2.54e+00</td><td>9.82e-01</td><td>-3.30e-01</td><td>-2.84e+00</td><td>1001</td><td>&quot;British&quot;</td><td>1.59e+02</td><td>73</td><td>127</td><td>1.99e+01</td><td>5.94e+00</td><td>3.86e+00</td><td>1.30e+01</td><td>3.80e+01</td><td>9.85e+01</td><td>3.38e+01</td><td>3.43e+01</td><td>2.12e+02</td><td>2.05e+00</td><td>3.60e-01</td><td>3.43e+00</td><td>8.00e-02</td><td>2.00e-02</td></tr>\n",
       "<tr><td>1000066</td><td>45</td><td>1</td><td>-1.25e+01</td><td>4.61e+00</td><td>-2.12e+00</td><td>8.49e+00</td><td>1.53e+01</td><td>-4.34e+00</td><td>-7.22e-01</td><td>1.04e+00</td><td>-8.77e-01</td><td>1.19e-01</td><td>1001</td><td>&quot;British&quot;</td><td>1.70e+02</td><td>97</td><td>154</td><td>2.93e+01</td><td>6.30e+00</td><td>4.26e+00</td><td>1.49e+01</td><td>4.18e+01</td><td>9.81e+01</td><td>3.50e+01</td><td>3.56e+01</td><td>3.04e+02</td><td>1.50e+00</td><td>5.00e-01</td><td>4.30e+00</td><td>1.00e-01</td><td>0.00e+00</td></tr>\n",
       "<tr><td>1000084</td><td>65</td><td>0</td><td>-1.23e+01</td><td>5.25e+00</td><td>-1.66e+00</td><td>8.46e-01</td><td>6.48e+00</td><td>9.69e-01</td><td>1.24e-01</td><td>-4.21e+00</td><td>-3.04e+01</td><td>2.93e+00</td><td>1001</td><td>&quot;British&quot;</td><td>1.59e+02</td><td>70</td><td>133</td><td>2.29e+01</td><td>6.28e+00</td><td>4.00e+00</td><td>1.34e+01</td><td>3.85e+01</td><td>9.62e+01</td><td>3.34e+01</td><td>3.47e+01</td><td>1.99e+02</td><td>2.01e+00</td><td>6.00e-01</td><td>3.54e+00</td><td>1.20e-01</td><td>2.00e-02</td></tr>\n",
       "<tr><td>1000107</td><td>51</td><td>1</td><td>-6.18e+00</td><td>2.78e+00</td><td>6.47e+00</td><td>-1.42e+01</td><td>2.86e+00</td><td>-2.56e+00</td><td>-8.05e+00</td><td>-2.50e+00</td><td>3.45e+00</td><td>2.64e+00</td><td>1001</td><td>&quot;British&quot;</td><td>1.80e+02</td><td>92</td><td>151</td><td>3.29e+01</td><td>5.70e+00</td><td>4.74e+00</td><td>1.41e+01</td><td>4.20e+01</td><td>8.85e+01</td><td>2.98e+01</td><td>3.37e+01</td><td>2.27e+02</td><td>1.50e+00</td><td>4.00e-01</td><td>3.50e+00</td><td>2.00e-01</td><td>0.00e+00</td></tr>\n",
       "<tr><td>1000110</td><td>40</td><td>1</td><td>-1.24e+01</td><td>1.34e+00</td><td>9.13e-01</td><td>-1.83e+00</td><td>-5.60e+00</td><td>4.06e-01</td><td>-2.84e-01</td><td>-1.01e-01</td><td>1.47e+00</td><td>1.04e+00</td><td>1001</td><td>&quot;British&quot;</td><td>1.75e+02</td><td>78</td><td>125</td><td>2.40e+01</td><td>5.98e+00</td><td>5.34e+00</td><td>1.46e+01</td><td>4.29e+01</td><td>8.03e+01</td><td>2.73e+01</td><td>3.40e+01</td><td>2.44e+02</td><td>1.38e+00</td><td>3.40e-01</td><td>4.09e+00</td><td>1.70e-01</td><td>1.00e-02</td></tr>\n",
       "<tr><td>1000128</td><td>54</td><td>1</td><td>-1.34e+01</td><td>4.04e+00</td><td>-1.72e+00</td><td>2.84e+00</td><td>7.58e+00</td><td>-6.10e-01</td><td>2.68e+00</td><td>1.92e+00</td><td>6.96e-01</td><td>-8.52e-01</td><td>1001</td><td>&quot;British&quot;</td><td>1.84e+02</td><td>89</td><td>148</td><td>3.89e+01</td><td>1.23e+01</td><td>5.36e+00</td><td>1.59e+01</td><td>4.64e+01</td><td>8.64e+01</td><td>2.96e+01</td><td>3.42e+01</td><td>3.77e+02</td><td>3.80e+00</td><td>3.00e-01</td><td>7.90e+00</td><td>3.00e-01</td><td>1.00e-01</td></tr>\n",
       "<tr><td>1000135</td><td>50</td><td>0</td><td>-1.22e+01</td><td>3.46e+00</td><td>3.50e-01</td><td>-2.16e+00</td><td>-5.53e+00</td><td>-6.88e-01</td><td>2.31e+00</td><td>-2.52e+00</td><td>-3.69e-01</td><td>-3.34e-01</td><td>1001</td><td>&quot;British&quot;</td><td>1.71e+02</td><td>93</td><td>128</td><td>3.50e+01</td><td>6.22e+00</td><td>4.78e+00</td><td>1.49e+01</td><td>4.35e+01</td><td>9.10e+01</td><td>3.11e+01</td><td>3.42e+01</td><td>3.22e+02</td><td>2.02e+00</td><td>2.90e-01</td><td>3.76e+00</td><td>1.20e-01</td><td>3.00e-02</td></tr>\n",
       "<tr><td>1000144</td><td>61</td><td>0</td><td>-9.89e+00</td><td>5.80e+00</td><td>-3.87e+00</td><td>1.91e+00</td><td>-8.93e+00</td><td>-2.17e+00</td><td>2.87e+00</td><td>-1.29e+00</td><td>4.05e+00</td><td>3.99e+00</td><td>1001</td><td>&quot;British&quot;</td><td>1.62e+02</td><td>61</td><td>104</td><td>1.89e+01</td><td>5.40e+00</td><td>4.09e+00</td><td>1.33e+01</td><td>3.77e+01</td><td>9.20e+01</td><td>3.25e+01</td><td>3.53e+01</td><td>2.05e+02</td><td>1.50e+00</td><td>4.00e-01</td><td>3.50e+00</td><td>0.00e+00</td><td>0.00e+00</td></tr>\n",
       "<tr><td>1000156</td><td>44</td><td>0</td><td>-1.14e+01</td><td>6.46e-01</td><td>2.86e-01</td><td>-1.68e+00</td><td>-7.39e+00</td><td>7.96e+00</td><td>-1.15e+01</td><td>1.68e+01</td><td>-1.60e+00</td><td>-2.78e+00</td><td>1001</td><td>&quot;British&quot;</td><td>1.61e+02</td><td>67</td><td>99</td><td>2.30e+01</td><td>4.44e+00</td><td>3.86e+00</td><td>1.23e+01</td><td>3.60e+01</td><td>9.33e+01</td><td>3.18e+01</td><td>3.41e+01</td><td>4.85e+01</td><td>1.85e+00</td><td>3.50e-01</td><td>1.91e+00</td><td>2.80e-01</td><td>4.00e-02</td></tr>\n",
       "<tr><td>1000161</td><td>44</td><td>0</td><td>-1.16e+01</td><td>3.26e+00</td><td>-2.41e+00</td><td>3.94e+00</td><td>6.72e+00</td><td>-1.98e+00</td><td>6.50e-01</td><td>4.00e-02</td><td>1.33e+00</td><td>1.01e+00</td><td>1001</td><td>&quot;British&quot;</td><td>1.62e+02</td><td>73</td><td>106</td><td>2.31e+01</td><td>5.00e+00</td><td>4.57e+00</td><td>1.43e+01</td><td>4.12e+01</td><td>9.01e+01</td><td>3.13e+01</td><td>3.48e+01</td><td>2.17e+02</td><td>1.77e+00</td><td>3.30e-01</td><td>2.77e+00</td><td>1.00e-01</td><td>4.00e-02</td></tr>\n",
       "<tr><td>1000172</td><td>62</td><td>1</td><td>-1.44e+01</td><td>3.25e+00</td><td>-9.48e-01</td><td>1.82e+00</td><td>9.33e+00</td><td>-1.90e+00</td><td>2.88e+00</td><td>-7.49e-01</td><td>-2.72e+01</td><td>3.40e+00</td><td>1001</td><td>&quot;British&quot;</td><td>1.83e+02</td><td>95</td><td>167</td><td>2.74e+01</td><td>4.98e+00</td><td>4.90e+00</td><td>1.51e+01</td><td>4.19e+01</td><td>8.56e+01</td><td>3.08e+01</td><td>3.60e+01</td><td>2.02e+02</td><td>1.35e+00</td><td>6.20e-01</td><td>2.93e+00</td><td>5.00e-02</td><td>2.00e-02</td></tr>\n",
       "<tr><td>1000183</td><td>66</td><td>1</td><td>-1.19e+01</td><td>2.95e+00</td><td>-1.93e+00</td><td>1.27e+00</td><td>-7.02e+00</td><td>-1.87e+00</td><td>1.23e+00</td><td>-3.85e+00</td><td>2.97e+00</td><td>4.07e+00</td><td>1001</td><td>&quot;British&quot;</td><td>1.58e+02</td><td>71</td><td>156</td><td>2.34e+01</td><td>7.80e+00</td><td>4.52e+00</td><td>1.46e+01</td><td>4.29e+01</td><td>9.49e+01</td><td>3.23e+01</td><td>3.41e+01</td><td>2.37e+02</td><td>2.20e+00</td><td>5.00e-01</td><td>5.00e+00</td><td>1.00e-01</td><td>1.00e-01</td></tr>\n",
       "<tr><td>1000199</td><td>68</td><td>0</td><td>-8.91e+00</td><td>5.07e+00</td><td>-2.11e+00</td><td>1.55e+00</td><td>-4.21e+00</td><td>-2.39e+00</td><td>-2.04e+00</td><td>-6.62e-01</td><td>3.56e+00</td><td>-1.52e+00</td><td>1001</td><td>&quot;British&quot;</td><td>1.66e+02</td><td>88</td><td>162</td><td>2.49e+01</td><td>7.11e+00</td><td>4.66e+00</td><td>1.44e+01</td><td>4.08e+01</td><td>8.74e+01</td><td>3.08e+01</td><td>3.52e+01</td><td>2.78e+02</td><td>1.90e+00</td><td>3.60e-01</td><td>4.62e+00</td><td>1.70e-01</td><td>5.00e-02</td></tr>\n",
       "<tr><td>1000206</td><td>57</td><td>0</td><td>-1.07e+01</td><td>4.53e+00</td><td>-2.90e+00</td><td>1.27e+00</td><td>1.56e+00</td><td>1.97e+00</td><td>5.92e-01</td><td>-5.10e-01</td><td>-6.01e+00</td><td>-1.57e+00</td><td>1001</td><td>&quot;British&quot;</td><td>1.59e+02</td><td>88</td><td>132</td><td>2.88e+01</td><td>1.08e+01</td><td>4.30e+00</td><td>1.31e+01</td><td>3.75e+01</td><td>8.71e+01</td><td>3.05e+01</td><td>3.50e+01</td><td>4.05e+02</td><td>3.80e+00</td><td>1.10e+00</td><td>5.60e+00</td><td>2.00e-01</td><td>1.00e-01</td></tr>\n",
       "<tr><td>1000212</td><td>55</td><td>0</td><td>-9.65e+00</td><td>2.15e+00</td><td>3.01e-02</td><td>-5.00e+00</td><td>-2.29e+00</td><td>-2.36e-01</td><td>-3.28e+00</td><td>-6.06e-01</td><td>-7.80e+00</td><td>4.20e+00</td><td>1001</td><td>&quot;British&quot;</td><td>1.55e+02</td><td>75</td><td>115</td><td>2.26e+01</td><td>4.20e+00</td><td>4.35e+00</td><td>1.33e+01</td><td>3.88e+01</td><td>8.92e+01</td><td>3.06e+01</td><td>3.43e+01</td><td>2.73e+02</td><td>1.80e+00</td><td>3.00e-01</td><td>1.90e+00</td><td>2.00e-01</td><td>0.00e+00</td></tr>\n",
       "<tr><td>1000249</td><td>43</td><td>0</td><td>-1.20e+01</td><td>5.58e+00</td><td>-5.52e+00</td><td>2.68e+00</td><td>3.71e+00</td><td>-6.73e-01</td><td>3.87e-02</td><td>8.64e-01</td><td>6.29e-01</td><td>-1.09e+00</td><td>1001</td><td>&quot;British&quot;</td><td>1.59e+02</td><td>69</td><td>103</td><td>2.03e+01</td><td>6.61e+00</td><td>3.64e+00</td><td>1.25e+01</td><td>3.65e+01</td><td>1.00e+02</td><td>3.44e+01</td><td>3.43e+01</td><td>1.52e+02</td><td>1.93e+00</td><td>3.80e-01</td><td>4.20e+00</td><td>4.00e-02</td><td>6.00e-02</td></tr>\n",
       "<tr><td>1000268</td><td>55</td><td>0</td><td>-1.26e+01</td><td>2.54e+00</td><td>-1.22e+00</td><td>4.49e+00</td><td>1.84e+00</td><td>2.51e+00</td><td>4.40e-01</td><td>2.59e+00</td><td>4.36e+00</td><td>-1.92e-03</td><td>1001</td><td>&quot;British&quot;</td><td>1.52e+02</td><td>104</td><td>162</td><td>3.16e+01</td><td>9.30e+00</td><td>4.84e+00</td><td>1.49e+01</td><td>4.27e+01</td><td>8.83e+01</td><td>3.08e+01</td><td>3.49e+01</td><td>3.77e+02</td><td>2.90e+00</td><td>4.00e-01</td><td>5.50e+00</td><td>3.00e-01</td><td>0.00e+00</td></tr>\n",
       "<tr><td>1000270</td><td>63</td><td>0</td><td>-1.49e+01</td><td>2.60e+00</td><td>-2.17e+00</td><td>6.84e+00</td><td>2.51e+01</td><td>1.79e+00</td><td>-5.45e-01</td><td>2.30e+00</td><td>4.71e+00</td><td>-9.82e-01</td><td>1001</td><td>&quot;British&quot;</td><td>1.54e+02</td><td>82</td><td>154</td><td>4.79e+01</td><td>7.43e+00</td><td>4.93e+00</td><td>1.53e+01</td><td>4.57e+01</td><td>9.27e+01</td><td>3.10e+01</td><td>3.34e+01</td><td>3.03e+02</td><td>2.00e+00</td><td>5.20e-01</td><td>4.72e+00</td><td>1.60e-01</td><td>2.00e-02</td></tr>\n",
       "<tr><td>1000294</td><td>59</td><td>0</td><td>-9.96e+00</td><td>6.23e+00</td><td>-3.31e+00</td><td>-7.64e-01</td><td>-8.69e+00</td><td>1.08e+00</td><td>4.37e+00</td><td>-3.14e-01</td><td>2.67e+00</td><td>-1.88e-01</td><td>1001</td><td>&quot;British&quot;</td><td>1.65e+02</td><td>77</td><td>134</td><td>2.59e+01</td><td>5.49e+00</td><td>4.01e+00</td><td>1.30e+01</td><td>3.76e+01</td><td>9.39e+01</td><td>3.24e+01</td><td>3.45e+01</td><td>1.86e+02</td><td>1.98e+00</td><td>2.20e-01</td><td>3.06e+00</td><td>1.80e-01</td><td>5.00e-02</td></tr>\n",
       "<tr><td>1000319</td><td>60</td><td>0</td><td>-1.32e+01</td><td>6.67e+00</td><td>-3.80e+00</td><td>2.36e+00</td><td>-6.87e+00</td><td>2.62e+00</td><td>9.66e-02</td><td>1.71e+00</td><td>-4.44e+00</td><td>-1.54e+00</td><td>1001</td><td>&quot;British&quot;</td><td>1.61e+02</td><td>81</td><td>142</td><td>2.53e+01</td><td>6.44e+00</td><td>4.28e+00</td><td>1.39e+01</td><td>3.92e+01</td><td>9.18e+01</td><td>3.26e+01</td><td>3.55e+01</td><td>2.54e+02</td><td>2.37e+00</td><td>5.60e-01</td><td>3.34e+00</td><td>1.20e-01</td><td>4.00e-02</td></tr>\n",
       "<tr><td>1000326</td><td>63</td><td>1</td><td>-1.01e+01</td><td>4.52e+00</td><td>6.70e-01</td><td>1.30e+00</td><td>-7.99e+00</td><td>-1.12e+00</td><td>5.24e-01</td><td>-2.32e+00</td><td>2.58e+00</td><td>-1.02e+00</td><td>1001</td><td>&quot;British&quot;</td><td>1.75e+02</td><td>89</td><td>151</td><td>3.39e+01</td><td>8.15e+00</td><td>4.91e+00</td><td>1.52e+01</td><td>4.53e+01</td><td>9.22e+01</td><td>3.09e+01</td><td>3.36e+01</td><td>1.01e+02</td><td>2.55e+00</td><td>5.60e-01</td><td>4.87e+00</td><td>1.10e-01</td><td>7.00e-02</td></tr>\n",
       "</tbody></table><p style=\"background: #fdd; padding: 0.4em;\">showing top 24 rows</p>\n"
      ],
      "text/plain": [
       "+---------+-----------------+-------+-----------+----------+-----------+-----------+-----------+\n",
       "|     eid | age_recruitment |   sex |       pc1 |      pc2 |       pc3 |       pc4 |       pc5 |\n",
       "+---------+-----------------+-------+-----------+----------+-----------+-----------+-----------+\n",
       "|   int32 |           int32 | int32 |   float64 |  float64 |   float64 |   float64 |   float64 |\n",
       "+---------+-----------------+-------+-----------+----------+-----------+-----------+-----------+\n",
       "| 1000020 |              46 |     0 | -1.20e+01 | 5.50e+00 | -3.33e+00 |  1.56e+00 | -4.29e+00 |\n",
       "| 1000037 |              58 |     1 | -1.04e+01 | 4.32e+00 | -2.41e-02 |  1.52e+00 |  4.47e-01 |\n",
       "| 1000043 |              42 |     1 | -1.11e+01 | 3.98e+00 | -2.92e+00 |  5.11e-01 | -5.35e+00 |\n",
       "| 1000051 |              61 |     0 | -1.23e+01 | 3.80e+00 | -4.34e+00 | -1.22e+00 |  2.81e+00 |\n",
       "| 1000066 |              45 |     1 | -1.25e+01 | 4.61e+00 | -2.12e+00 |  8.49e+00 |  1.53e+01 |\n",
       "| 1000084 |              65 |     0 | -1.23e+01 | 5.25e+00 | -1.66e+00 |  8.46e-01 |  6.48e+00 |\n",
       "| 1000107 |              51 |     1 | -6.18e+00 | 2.78e+00 |  6.47e+00 | -1.42e+01 |  2.86e+00 |\n",
       "| 1000110 |              40 |     1 | -1.24e+01 | 1.34e+00 |  9.13e-01 | -1.83e+00 | -5.60e+00 |\n",
       "| 1000128 |              54 |     1 | -1.34e+01 | 4.04e+00 | -1.72e+00 |  2.84e+00 |  7.58e+00 |\n",
       "| 1000135 |              50 |     0 | -1.22e+01 | 3.46e+00 |  3.50e-01 | -2.16e+00 | -5.53e+00 |\n",
       "| 1000144 |              61 |     0 | -9.89e+00 | 5.80e+00 | -3.87e+00 |  1.91e+00 | -8.93e+00 |\n",
       "| 1000156 |              44 |     0 | -1.14e+01 | 6.46e-01 |  2.86e-01 | -1.68e+00 | -7.39e+00 |\n",
       "| 1000161 |              44 |     0 | -1.16e+01 | 3.26e+00 | -2.41e+00 |  3.94e+00 |  6.72e+00 |\n",
       "| 1000172 |              62 |     1 | -1.44e+01 | 3.25e+00 | -9.48e-01 |  1.82e+00 |  9.33e+00 |\n",
       "| 1000183 |              66 |     1 | -1.19e+01 | 2.95e+00 | -1.93e+00 |  1.27e+00 | -7.02e+00 |\n",
       "| 1000199 |              68 |     0 | -8.91e+00 | 5.07e+00 | -2.11e+00 |  1.55e+00 | -4.21e+00 |\n",
       "| 1000206 |              57 |     0 | -1.07e+01 | 4.53e+00 | -2.90e+00 |  1.27e+00 |  1.56e+00 |\n",
       "| 1000212 |              55 |     0 | -9.65e+00 | 2.15e+00 |  3.01e-02 | -5.00e+00 | -2.29e+00 |\n",
       "| 1000249 |              43 |     0 | -1.20e+01 | 5.58e+00 | -5.52e+00 |  2.68e+00 |  3.71e+00 |\n",
       "| 1000268 |              55 |     0 | -1.26e+01 | 2.54e+00 | -1.22e+00 |  4.49e+00 |  1.84e+00 |\n",
       "| 1000270 |              63 |     0 | -1.49e+01 | 2.60e+00 | -2.17e+00 |  6.84e+00 |  2.51e+01 |\n",
       "| 1000294 |              59 |     0 | -9.96e+00 | 6.23e+00 | -3.31e+00 | -7.64e-01 | -8.69e+00 |\n",
       "| 1000319 |              60 |     0 | -1.32e+01 | 6.67e+00 | -3.80e+00 |  2.36e+00 | -6.87e+00 |\n",
       "| 1000326 |              63 |     1 | -1.01e+01 | 4.52e+00 |  6.70e-01 |  1.30e+00 | -7.99e+00 |\n",
       "+---------+-----------------+-------+-----------+----------+-----------+-----------+-----------+\n",
       "\n",
       "+-----------+-----------+-----------+-----------+-----------+---------------+-----------+----------+\n",
       "|       pc6 |       pc7 |       pc8 |       pc9 |      pc10 | ethnicity_agg | meaning   |   height |\n",
       "+-----------+-----------+-----------+-----------+-----------+---------------+-----------+----------+\n",
       "|   float64 |   float64 |   float64 |   float64 |   float64 |         int32 | str       |  float64 |\n",
       "+-----------+-----------+-----------+-----------+-----------+---------------+-----------+----------+\n",
       "|  7.55e-02 |  1.10e+00 |  8.78e-01 | -2.00e-01 | -1.54e+00 |          1001 | \"British\" | 1.76e+02 |\n",
       "| -6.16e-01 |  1.54e+00 | -7.27e-02 |  3.30e+00 | -1.96e+00 |          1001 | \"British\" | 1.71e+02 |\n",
       "|  1.97e+00 |  1.73e-01 | -1.02e+00 | -7.43e-02 | -1.43e+00 |          1001 | \"British\" | 1.76e+02 |\n",
       "| -1.84e+00 |  2.54e+00 |  9.82e-01 | -3.30e-01 | -2.84e+00 |          1001 | \"British\" | 1.59e+02 |\n",
       "| -4.34e+00 | -7.22e-01 |  1.04e+00 | -8.77e-01 |  1.19e-01 |          1001 | \"British\" | 1.70e+02 |\n",
       "|  9.69e-01 |  1.24e-01 | -4.21e+00 | -3.04e+01 |  2.93e+00 |          1001 | \"British\" | 1.59e+02 |\n",
       "| -2.56e+00 | -8.05e+00 | -2.50e+00 |  3.45e+00 |  2.64e+00 |          1001 | \"British\" | 1.80e+02 |\n",
       "|  4.06e-01 | -2.84e-01 | -1.01e-01 |  1.47e+00 |  1.04e+00 |          1001 | \"British\" | 1.75e+02 |\n",
       "| -6.10e-01 |  2.68e+00 |  1.92e+00 |  6.96e-01 | -8.52e-01 |          1001 | \"British\" | 1.84e+02 |\n",
       "| -6.88e-01 |  2.31e+00 | -2.52e+00 | -3.69e-01 | -3.34e-01 |          1001 | \"British\" | 1.71e+02 |\n",
       "| -2.17e+00 |  2.87e+00 | -1.29e+00 |  4.05e+00 |  3.99e+00 |          1001 | \"British\" | 1.62e+02 |\n",
       "|  7.96e+00 | -1.15e+01 |  1.68e+01 | -1.60e+00 | -2.78e+00 |          1001 | \"British\" | 1.61e+02 |\n",
       "| -1.98e+00 |  6.50e-01 |  4.00e-02 |  1.33e+00 |  1.01e+00 |          1001 | \"British\" | 1.62e+02 |\n",
       "| -1.90e+00 |  2.88e+00 | -7.49e-01 | -2.72e+01 |  3.40e+00 |          1001 | \"British\" | 1.83e+02 |\n",
       "| -1.87e+00 |  1.23e+00 | -3.85e+00 |  2.97e+00 |  4.07e+00 |          1001 | \"British\" | 1.58e+02 |\n",
       "| -2.39e+00 | -2.04e+00 | -6.62e-01 |  3.56e+00 | -1.52e+00 |          1001 | \"British\" | 1.66e+02 |\n",
       "|  1.97e+00 |  5.92e-01 | -5.10e-01 | -6.01e+00 | -1.57e+00 |          1001 | \"British\" | 1.59e+02 |\n",
       "| -2.36e-01 | -3.28e+00 | -6.06e-01 | -7.80e+00 |  4.20e+00 |          1001 | \"British\" | 1.55e+02 |\n",
       "| -6.73e-01 |  3.87e-02 |  8.64e-01 |  6.29e-01 | -1.09e+00 |          1001 | \"British\" | 1.59e+02 |\n",
       "|  2.51e+00 |  4.40e-01 |  2.59e+00 |  4.36e+00 | -1.92e-03 |          1001 | \"British\" | 1.52e+02 |\n",
       "|  1.79e+00 | -5.45e-01 |  2.30e+00 |  4.71e+00 | -9.82e-01 |          1001 | \"British\" | 1.54e+02 |\n",
       "|  1.08e+00 |  4.37e+00 | -3.14e-01 |  2.67e+00 | -1.88e-01 |          1001 | \"British\" | 1.65e+02 |\n",
       "|  2.62e+00 |  9.66e-02 |  1.71e+00 | -4.44e+00 | -1.54e+00 |          1001 | \"British\" | 1.61e+02 |\n",
       "| -1.12e+00 |  5.24e-01 | -2.32e+00 |  2.58e+00 | -1.02e+00 |          1001 | \"British\" | 1.75e+02 |\n",
       "+-----------+-----------+-----------+-----------+-----------+---------------+-----------+----------+\n",
       "\n",
       "+-------+-------+----------+----------+----------+----------+----------+----------+----------+\n",
       "|   dbp |   sbp |      bmi |      wbc |      rbc |       hb |       ht |      mcv |      mch |\n",
       "+-------+-------+----------+----------+----------+----------+----------+----------+----------+\n",
       "| int32 | int32 |  float64 |  float64 |  float64 |  float64 |  float64 |  float64 |  float64 |\n",
       "+-------+-------+----------+----------+----------+----------+----------+----------+----------+\n",
       "|    79 |   128 | 2.58e+01 | 7.20e+00 | 4.64e+00 | 1.41e+01 | 4.25e+01 | 9.16e+01 | 3.04e+01 |\n",
       "|    84 |   133 | 2.42e+01 | 9.53e+00 | 4.87e+00 | 1.57e+01 | 4.50e+01 | 9.25e+01 | 3.23e+01 |\n",
       "|    95 |   140 | 2.91e+01 | 5.35e+00 | 5.30e+00 | 1.54e+01 | 4.57e+01 | 8.62e+01 | 2.91e+01 |\n",
       "|    73 |   127 | 1.99e+01 | 5.94e+00 | 3.86e+00 | 1.30e+01 | 3.80e+01 | 9.85e+01 | 3.38e+01 |\n",
       "|    97 |   154 | 2.93e+01 | 6.30e+00 | 4.26e+00 | 1.49e+01 | 4.18e+01 | 9.81e+01 | 3.50e+01 |\n",
       "|    70 |   133 | 2.29e+01 | 6.28e+00 | 4.00e+00 | 1.34e+01 | 3.85e+01 | 9.62e+01 | 3.34e+01 |\n",
       "|    92 |   151 | 3.29e+01 | 5.70e+00 | 4.74e+00 | 1.41e+01 | 4.20e+01 | 8.85e+01 | 2.98e+01 |\n",
       "|    78 |   125 | 2.40e+01 | 5.98e+00 | 5.34e+00 | 1.46e+01 | 4.29e+01 | 8.03e+01 | 2.73e+01 |\n",
       "|    89 |   148 | 3.89e+01 | 1.23e+01 | 5.36e+00 | 1.59e+01 | 4.64e+01 | 8.64e+01 | 2.96e+01 |\n",
       "|    93 |   128 | 3.50e+01 | 6.22e+00 | 4.78e+00 | 1.49e+01 | 4.35e+01 | 9.10e+01 | 3.11e+01 |\n",
       "|    61 |   104 | 1.89e+01 | 5.40e+00 | 4.09e+00 | 1.33e+01 | 3.77e+01 | 9.20e+01 | 3.25e+01 |\n",
       "|    67 |    99 | 2.30e+01 | 4.44e+00 | 3.86e+00 | 1.23e+01 | 3.60e+01 | 9.33e+01 | 3.18e+01 |\n",
       "|    73 |   106 | 2.31e+01 | 5.00e+00 | 4.57e+00 | 1.43e+01 | 4.12e+01 | 9.01e+01 | 3.13e+01 |\n",
       "|    95 |   167 | 2.74e+01 | 4.98e+00 | 4.90e+00 | 1.51e+01 | 4.19e+01 | 8.56e+01 | 3.08e+01 |\n",
       "|    71 |   156 | 2.34e+01 | 7.80e+00 | 4.52e+00 | 1.46e+01 | 4.29e+01 | 9.49e+01 | 3.23e+01 |\n",
       "|    88 |   162 | 2.49e+01 | 7.11e+00 | 4.66e+00 | 1.44e+01 | 4.08e+01 | 8.74e+01 | 3.08e+01 |\n",
       "|    88 |   132 | 2.88e+01 | 1.08e+01 | 4.30e+00 | 1.31e+01 | 3.75e+01 | 8.71e+01 | 3.05e+01 |\n",
       "|    75 |   115 | 2.26e+01 | 4.20e+00 | 4.35e+00 | 1.33e+01 | 3.88e+01 | 8.92e+01 | 3.06e+01 |\n",
       "|    69 |   103 | 2.03e+01 | 6.61e+00 | 3.64e+00 | 1.25e+01 | 3.65e+01 | 1.00e+02 | 3.44e+01 |\n",
       "|   104 |   162 | 3.16e+01 | 9.30e+00 | 4.84e+00 | 1.49e+01 | 4.27e+01 | 8.83e+01 | 3.08e+01 |\n",
       "|    82 |   154 | 4.79e+01 | 7.43e+00 | 4.93e+00 | 1.53e+01 | 4.57e+01 | 9.27e+01 | 3.10e+01 |\n",
       "|    77 |   134 | 2.59e+01 | 5.49e+00 | 4.01e+00 | 1.30e+01 | 3.76e+01 | 9.39e+01 | 3.24e+01 |\n",
       "|    81 |   142 | 2.53e+01 | 6.44e+00 | 4.28e+00 | 1.39e+01 | 3.92e+01 | 9.18e+01 | 3.26e+01 |\n",
       "|    89 |   151 | 3.39e+01 | 8.15e+00 | 4.91e+00 | 1.52e+01 | 4.53e+01 | 9.22e+01 | 3.09e+01 |\n",
       "+-------+-------+----------+----------+----------+----------+----------+----------+----------+\n",
       "\n",
       "+----------+----------+------------+----------+------------+------------+----------+\n",
       "|     mchc | platelet | lymphocyte | monocyte | neutrophil | eosinophil | basophil |\n",
       "+----------+----------+------------+----------+------------+------------+----------+\n",
       "|  float64 |  float64 |    float64 |  float64 |    float64 |    float64 |  float64 |\n",
       "+----------+----------+------------+----------+------------+------------+----------+\n",
       "| 3.32e+01 | 2.74e+02 |   1.68e+00 | 3.50e-01 |   5.11e+00 |   3.00e-02 | 3.00e-02 |\n",
       "| 3.49e+01 | 1.95e+02 |   2.67e+00 | 3.60e-01 |   5.90e+00 |   4.90e-01 | 1.10e-01 |\n",
       "| 3.38e+01 | 2.38e+02 |   1.59e+00 | 4.40e-01 |   3.11e+00 |   1.90e-01 | 2.00e-02 |\n",
       "| 3.43e+01 | 2.12e+02 |   2.05e+00 | 3.60e-01 |   3.43e+00 |   8.00e-02 | 2.00e-02 |\n",
       "| 3.56e+01 | 3.04e+02 |   1.50e+00 | 5.00e-01 |   4.30e+00 |   1.00e-01 | 0.00e+00 |\n",
       "| 3.47e+01 | 1.99e+02 |   2.01e+00 | 6.00e-01 |   3.54e+00 |   1.20e-01 | 2.00e-02 |\n",
       "| 3.37e+01 | 2.27e+02 |   1.50e+00 | 4.00e-01 |   3.50e+00 |   2.00e-01 | 0.00e+00 |\n",
       "| 3.40e+01 | 2.44e+02 |   1.38e+00 | 3.40e-01 |   4.09e+00 |   1.70e-01 | 1.00e-02 |\n",
       "| 3.42e+01 | 3.77e+02 |   3.80e+00 | 3.00e-01 |   7.90e+00 |   3.00e-01 | 1.00e-01 |\n",
       "| 3.42e+01 | 3.22e+02 |   2.02e+00 | 2.90e-01 |   3.76e+00 |   1.20e-01 | 3.00e-02 |\n",
       "| 3.53e+01 | 2.05e+02 |   1.50e+00 | 4.00e-01 |   3.50e+00 |   0.00e+00 | 0.00e+00 |\n",
       "| 3.41e+01 | 4.85e+01 |   1.85e+00 | 3.50e-01 |   1.91e+00 |   2.80e-01 | 4.00e-02 |\n",
       "| 3.48e+01 | 2.17e+02 |   1.77e+00 | 3.30e-01 |   2.77e+00 |   1.00e-01 | 4.00e-02 |\n",
       "| 3.60e+01 | 2.02e+02 |   1.35e+00 | 6.20e-01 |   2.93e+00 |   5.00e-02 | 2.00e-02 |\n",
       "| 3.41e+01 | 2.37e+02 |   2.20e+00 | 5.00e-01 |   5.00e+00 |   1.00e-01 | 1.00e-01 |\n",
       "| 3.52e+01 | 2.78e+02 |   1.90e+00 | 3.60e-01 |   4.62e+00 |   1.70e-01 | 5.00e-02 |\n",
       "| 3.50e+01 | 4.05e+02 |   3.80e+00 | 1.10e+00 |   5.60e+00 |   2.00e-01 | 1.00e-01 |\n",
       "| 3.43e+01 | 2.73e+02 |   1.80e+00 | 3.00e-01 |   1.90e+00 |   2.00e-01 | 0.00e+00 |\n",
       "| 3.43e+01 | 1.52e+02 |   1.93e+00 | 3.80e-01 |   4.20e+00 |   4.00e-02 | 6.00e-02 |\n",
       "| 3.49e+01 | 3.77e+02 |   2.90e+00 | 4.00e-01 |   5.50e+00 |   3.00e-01 | 0.00e+00 |\n",
       "| 3.34e+01 | 3.03e+02 |   2.00e+00 | 5.20e-01 |   4.72e+00 |   1.60e-01 | 2.00e-02 |\n",
       "| 3.45e+01 | 1.86e+02 |   1.98e+00 | 2.20e-01 |   3.06e+00 |   1.80e-01 | 5.00e-02 |\n",
       "| 3.55e+01 | 2.54e+02 |   2.37e+00 | 5.60e-01 |   3.34e+00 |   1.20e-01 | 4.00e-02 |\n",
       "| 3.36e+01 | 1.01e+02 |   2.55e+00 | 5.60e-01 |   4.87e+00 |   1.10e-01 | 7.00e-02 |\n",
       "+----------+----------+------------+----------+------------+------------+----------+\n",
       "showing top 24 rows"
      ]
     },
     "metadata": {},
     "output_type": "display_data"
    }
   ],
   "source": [
    "pheno.show(width=100)"
   ]
  },
  {
   "cell_type": "code",
   "execution_count": 10,
   "metadata": {},
   "outputs": [
    {
     "data": {
      "text/plain": [
       "{'African': 2835, 'British': 356476, 'Chinese': 1326, 'Indian': 4789}"
      ]
     },
     "execution_count": 10,
     "metadata": {},
     "output_type": "execute_result"
    }
   ],
   "source": [
    "pheno.aggregate(hl.agg.counter(pheno.meaning))  #(hl.agg.counter(table.SuperPopulation)))"
   ]
  },
  {
   "cell_type": "code",
   "execution_count": 11,
   "metadata": {},
   "outputs": [
    {
     "data": {
      "text/plain": [
       "Struct(mean=56.823564825710264, stdev=7.967122192876356, min=39.0, max=73.0, n=365426, sum=20764808.0)"
      ]
     },
     "execution_count": 11,
     "metadata": {},
     "output_type": "execute_result"
    }
   ],
   "source": [
    "pheno.aggregate(hl.agg.stats(pheno.age_recruitment))"
   ]
  },
  {
   "cell_type": "code",
   "execution_count": 12,
   "metadata": {},
   "outputs": [
    {
     "data": {
      "text/plain": [
       "365426"
      ]
     },
     "execution_count": 12,
     "metadata": {},
     "output_type": "execute_result"
    }
   ],
   "source": [
    "pheno.count()"
   ]
  },
  {
   "cell_type": "code",
   "execution_count": 40,
   "metadata": {},
   "outputs": [],
   "source": [
    "p = hl.plot.histogram(pheno.pc10)\n",
    "show(p)"
   ]
  },
  {
   "cell_type": "code",
   "execution_count": 37,
   "metadata": {},
   "outputs": [
    {
     "data": {
      "image/png": "[encoded data removed]",
      "text/plain": [
       "<Figure size 432x288 with 1 Axes>"
      ]
     },
     "metadata": {
      "needs_background": "light"
     },
     "output_type": "display_data"
    }
   ],
   "source": [
    "import matplotlib.pyplot as plt\n",
    "import numpy as np\n",
    "plt.figure(1)\n",
    "plt.plot(np.sin(np.linspace(0, 20, 100)))\n",
    "plt.show()"
   ]
  }
 ],
 "metadata": {
  "kernelspec": {
   "display_name": "Python 3",
   "language": "python",
   "name": "python3"
  },
  "language_info": {
   "codemirror_mode": {
    "name": "ipython",
    "version": 3
   },
   "file_extension": ".py",
   "mimetype": "text/x-python",
   "name": "python",
   "nbconvert_exporter": "python",
   "pygments_lexer": "ipython3",
   "version": "3.7.5"
  }
 },
 "nbformat": 4,
 "nbformat_minor": 2
}
